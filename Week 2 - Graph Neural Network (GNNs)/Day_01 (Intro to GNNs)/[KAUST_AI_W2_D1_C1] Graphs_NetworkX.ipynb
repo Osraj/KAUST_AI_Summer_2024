{
 "cells": [
  {
   "cell_type": "markdown",
   "metadata": {
    "id": "2iviAAoxNg3U"
   },
   "source": [
    "# Introduction to Graphs"
   ]
  },
  {
   "cell_type": "markdown",
   "metadata": {
    "id": "XuXWJLEm2UWS"
   },
   "source": [
    "In this tutorial, we will look at [NetworkX](https://networkx.org/documentation/stable/) and introduction of graphs.\n",
    "\n",
    "NetworkX is one of the most frequently used Python packages to create, manipulate, and mine graphs."
   ]
  },
  {
   "cell_type": "code",
   "execution_count": 1,
   "metadata": {
    "executionInfo": {
     "elapsed": 689,
     "status": "ok",
     "timestamp": 1676064501793,
     "user": {
      "displayName": "Muhammad Mubashar",
      "userId": "14515435323579848862"
     },
     "user_tz": 0
    },
    "id": "QeqN7MHvH1OA"
   },
   "outputs": [],
   "source": [
    "import networkx as nx"
   ]
  },
  {
   "cell_type": "code",
   "execution_count": 2,
   "metadata": {
    "executionInfo": {
     "elapsed": 689,
     "status": "ok",
     "timestamp": 1676064501793,
     "user": {
      "displayName": "Muhammad Mubashar",
      "userId": "14515435323579848862"
     },
     "user_tz": 0
    },
    "id": "QeqN7MHvH1OA"
   },
   "outputs": [
    {
     "data": {
      "text/plain": [
       "'3.3'"
      ]
     },
     "execution_count": 2,
     "metadata": {},
     "output_type": "execute_result"
    }
   ],
   "source": [
    "nx.__version__"
   ]
  },
  {
   "cell_type": "markdown",
   "metadata": {
    "id": "MCIeGAfLfAMK"
   },
   "source": [
    "## Graph\n",
    "NetworkX provides several classes to store different types of graphs, such as directed and undirected graph. It also provides classes to create multigraphs (both directed and undirected).\n",
    "\n",
    "For more information, please refer to [NetworkX graph types](https://networkx.org/documentation/stable/reference/classes/index.html)."
   ]
  },
  {
   "cell_type": "code",
   "execution_count": 3,
   "metadata": {
    "colab": {
     "base_uri": "https://localhost:8080/"
    },
    "executionInfo": {
     "elapsed": 18,
     "status": "ok",
     "timestamp": 1676064501794,
     "user": {
      "displayName": "Muhammad Mubashar",
      "userId": "14515435323579848862"
     },
     "user_tz": 0
    },
    "id": "qSI_n6P-e0PW",
    "outputId": "13a54cce-a349-47fb-d0d8-f7a9d40deb68"
   },
   "outputs": [
    {
     "name": "stdout",
     "output_type": "stream",
     "text": [
      "False\n",
      "True\n",
      "{'Name': 'Bar'}\n"
     ]
    }
   ],
   "source": [
    "# Create an undirected graph G\n",
    "G = nx.Graph()\n",
    "print(G.is_directed())\n",
    "\n",
    "# Create a directed graph H\n",
    "H = nx.DiGraph()\n",
    "print(H.is_directed())\n",
    "\n",
    "# Add graph level attribute\n",
    "G.graph[\"Name\"] = \"Bar\"\n",
    "print(G.graph)"
   ]
  },
  {
   "cell_type": "markdown",
   "metadata": {
    "id": "x0pLs0-Ka9j8"
   },
   "source": [
    "## Node\n",
    "\n",
    "Nodes (with attributes) can be easily added to NetworkX graphs."
   ]
  },
  {
   "cell_type": "code",
   "execution_count": 4,
   "metadata": {
    "colab": {
     "base_uri": "https://localhost:8080/"
    },
    "executionInfo": {
     "elapsed": 15,
     "status": "ok",
     "timestamp": 1676064501794,
     "user": {
      "displayName": "Muhammad Mubashar",
      "userId": "14515435323579848862"
     },
     "user_tz": 0
    },
    "id": "jQ8ApAL5H1GB",
    "outputId": "1f99efe2-cf9b-4b3d-d906-bd401430d410"
   },
   "outputs": [
    {
     "name": "stdout",
     "output_type": "stream",
     "text": [
      "Node 0 has the attributes {'feature': 5, 'label': 0}\n"
     ]
    }
   ],
   "source": [
    "# Add one node with node level attributes\n",
    "G.add_node(0, feature=5, label=0)\n",
    "\n",
    "# Get attributes of the node 0\n",
    "node_0_attr = G.nodes[0]\n",
    "print(\"Node 0 has the attributes {}\".format(node_0_attr))"
   ]
  },
  {
   "cell_type": "code",
   "execution_count": 5,
   "metadata": {
    "colab": {
     "base_uri": "https://localhost:8080/"
    },
    "executionInfo": {
     "elapsed": 13,
     "status": "ok",
     "timestamp": 1676064501794,
     "user": {
      "displayName": "Muhammad Mubashar",
      "userId": "14515435323579848862"
     },
     "user_tz": 0
    },
    "id": "btOdMYqJaKia",
    "outputId": "4339ccef-3eba-49bc-944b-46cf79ac8596"
   },
   "outputs": [
    {
     "name": "stdout",
     "output_type": "stream",
     "text": [
      "(0, {'feature': 5, 'label': 0})\n",
      "(1, {'feature': 1, 'label': 1})\n",
      "(2, {'feature': 2, 'label': 2})\n",
      "G has 3 nodes\n"
     ]
    }
   ],
   "source": [
    "# Add multiple nodes with attributes\n",
    "G.add_nodes_from([\n",
    "  (1, {\"feature\": 1, \"label\": 1}),\n",
    "  (2, {\"feature\": 2, \"label\": 2})\n",
    "]) #(node, attrdict)\n",
    "\n",
    "# Loop through all the nodes\n",
    "# Set data=True will return node attributes\n",
    "for node in G.nodes(data=True):\n",
    "  print(node)\n",
    "\n",
    "# Get number of nodes\n",
    "num_nodes = G.number_of_nodes()\n",
    "print(f\"G has {num_nodes} nodes\")"
   ]
  },
  {
   "cell_type": "code",
   "execution_count": 6,
   "metadata": {},
   "outputs": [
    {
     "name": "stdout",
     "output_type": "stream",
     "text": [
      "<class 'networkx.classes.reportviews.NodeView'>\n",
      "[0, 1, 2]\n"
     ]
    }
   ],
   "source": [
    "print(type(G.nodes))\n",
    "print(G.nodes)"
   ]
  },
  {
   "cell_type": "markdown",
   "metadata": {},
   "source": [
    "The node names don't have to be single integers -- they can be integers or strings or any immutable object, and the types can be mixed."
   ]
  },
  {
   "cell_type": "markdown",
   "metadata": {
    "id": "0AdoaZPgbRis"
   },
   "source": [
    "## Edge\n",
    "\n",
    "Similar to nodes, edges (with attributes) can also be easily added to NetworkX graphs."
   ]
  },
  {
   "cell_type": "code",
   "execution_count": 7,
   "metadata": {
    "colab": {
     "base_uri": "https://localhost:8080/"
    },
    "executionInfo": {
     "elapsed": 11,
     "status": "ok",
     "timestamp": 1676064501794,
     "user": {
      "displayName": "Muhammad Mubashar",
      "userId": "14515435323579848862"
     },
     "user_tz": 0
    },
    "id": "0szH5F6EH079",
    "outputId": "f54b6a04-69cd-4ebc-debb-c2e468ea5924"
   },
   "outputs": [
    {
     "name": "stdout",
     "output_type": "stream",
     "text": [
      "Edge (0, 1) has the attributes {'weight': 0.5}\n"
     ]
    }
   ],
   "source": [
    "# Add one edge with edge weight 0.5\n",
    "G.add_edge(0, 1, weight=0.5)\n",
    "\n",
    "# Get attributes of the edge (0, 1)\n",
    "edge_0_1_attr = G.edges[(0, 1)]\n",
    "print(f\"Edge (0, 1) has the attributes {edge_0_1_attr}\")"
   ]
  },
  {
   "cell_type": "code",
   "execution_count": 8,
   "metadata": {
    "colab": {
     "base_uri": "https://localhost:8080/"
    },
    "executionInfo": {
     "elapsed": 8,
     "status": "ok",
     "timestamp": 1676064501795,
     "user": {
      "displayName": "Muhammad Mubashar",
      "userId": "14515435323579848862"
     },
     "user_tz": 0
    },
    "id": "QRTmi4EUaf_I",
    "outputId": "9ebb1789-781c-41af-b6d7-0fe44b96c332"
   },
   "outputs": [
    {
     "name": "stdout",
     "output_type": "stream",
     "text": [
      "(0, 1)\n",
      "(0, 2)\n",
      "(1, 2)\n",
      "G has 3 edges\n"
     ]
    }
   ],
   "source": [
    "# Add multiple edges with edge weights\n",
    "G.add_edges_from([\n",
    "  (1, 2, {\"weight\": 0.3}),\n",
    "  (2, 0, {\"weight\": 0.1})\n",
    "])\n",
    "\n",
    "# Loop through all the edges\n",
    "# Here there is no data=True, so only the edge will be returned\n",
    "for edge in G.edges():\n",
    "  print(edge)\n",
    "\n",
    "# Get number of edges\n",
    "num_edges = G.number_of_edges()\n",
    "print(f\"G has {num_edges} edges\")"
   ]
  },
  {
   "cell_type": "markdown",
   "metadata": {},
   "source": [
    "Inserting edges from non-existent nodes will create the missing nodes."
   ]
  },
  {
   "cell_type": "code",
   "execution_count": 9,
   "metadata": {},
   "outputs": [
    {
     "name": "stdout",
     "output_type": "stream",
     "text": [
      "H has 0 nodes\n",
      "H now has 6 nodes\n"
     ]
    }
   ],
   "source": [
    "num_nodes = H.number_of_nodes()\n",
    "print(f\"H has {num_nodes} nodes\")\n",
    "H.add_edges_from([(1,2),(2,3),(3,2),(3,4),(3,5),(4,5),(4,6),(5,6),(6,4),(4,2)])\n",
    "num_nodes = H.number_of_nodes()\n",
    "print(f\"H now has {num_nodes} nodes\")"
   ]
  },
  {
   "cell_type": "code",
   "execution_count": 10,
   "metadata": {},
   "outputs": [
    {
     "name": "stdout",
     "output_type": "stream",
     "text": [
      "(1, {})\n",
      "(2, {})\n",
      "(3, {})\n",
      "(4, {})\n",
      "(5, {})\n",
      "(6, {})\n"
     ]
    }
   ],
   "source": [
    "for node in H.nodes(data=True):\n",
    "    print(node)"
   ]
  },
  {
   "cell_type": "markdown",
   "metadata": {
    "id": "9u1Utjn4bc7k"
   },
   "source": [
    "## Visualization"
   ]
  },
  {
   "cell_type": "code",
   "execution_count": 11,
   "metadata": {
    "colab": {
     "base_uri": "https://localhost:8080/",
     "height": 319
    },
    "executionInfo": {
     "elapsed": 531,
     "status": "ok",
     "timestamp": 1676064502319,
     "user": {
      "displayName": "Muhammad Mubashar",
      "userId": "14515435323579848862"
     },
     "user_tz": 0
    },
    "id": "lykPzFOEahuP",
    "outputId": "33dd076f-3378-455d-9d5d-16de9f529def"
   },
   "outputs": [
    {
     "data": {
      "image/png": "[encoded data removed]",
      "text/plain": [
       "<Figure size 640x480 with 1 Axes>"
      ]
     },
     "metadata": {},
     "output_type": "display_data"
    }
   ],
   "source": [
    "nx.draw(G, with_labels=True, node_color='blue', node_size=1600, font_color='white', font_size=16)"
   ]
  },
  {
   "cell_type": "code",
   "execution_count": 12,
   "metadata": {},
   "outputs": [
    {
     "data": {
      "image/png": "[encoded data removed]",
      "text/plain": [
       "<Figure size 640x480 with 1 Axes>"
      ]
     },
     "metadata": {},
     "output_type": "display_data"
    }
   ],
   "source": [
    "nx.draw(H, with_labels=True, node_color='red', node_size=1600, font_color='white', font_size=16)"
   ]
  },
  {
   "cell_type": "markdown",
   "metadata": {
    "id": "_Q6YTP2FDbOS"
   },
   "source": [
    "## Graph methods"
   ]
  },
  {
   "cell_type": "code",
   "execution_count": 13,
   "metadata": {
    "colab": {
     "base_uri": "https://localhost:8080/"
    },
    "executionInfo": {
     "elapsed": 8,
     "status": "ok",
     "timestamp": 1676064502319,
     "user": {
      "displayName": "Muhammad Mubashar",
      "userId": "14515435323579848862"
     },
     "user_tz": 0
    },
    "id": "GFA3B6Z_DE3q",
    "outputId": "cd76856c-f60e-4449-a4f3-ba80888bebf9"
   },
   "outputs": [
    {
     "name": "stdout",
     "output_type": "stream",
     "text": [
      "Node 1 has degree 2\n",
      "Node 1 has neighbor 0\n",
      "Node 1 has neighbor 2\n"
     ]
    }
   ],
   "source": [
    "node_id = 1\n",
    "\n",
    "# Degree of node 1\n",
    "print(\"Node {} has degree {}\".format(node_id, G.degree[node_id]))\n",
    "\n",
    "# Get neighbor of node 1\n",
    "for neighbor in G.neighbors(node_id):\n",
    "  print(\"Node {} has neighbor {}\".format(node_id, neighbor))"
   ]
  },
  {
   "cell_type": "code",
   "execution_count": 14,
   "metadata": {},
   "outputs": [
    {
     "name": "stdout",
     "output_type": "stream",
     "text": [
      "True\n",
      "False\n",
      "True\n",
      "True\n"
     ]
    }
   ],
   "source": [
    "# Check node existance\n",
    "print(G.has_node(node_id))\n",
    "\n",
    "print(G.has_node(node_id + 2))\n",
    "\n",
    "print(node_id in G)\n",
    "\n",
    "print(node_id in G.nodes)"
   ]
  },
  {
   "cell_type": "code",
   "execution_count": 15,
   "metadata": {},
   "outputs": [
    {
     "name": "stdout",
     "output_type": "stream",
     "text": [
      "True\n",
      "False\n",
      "True\n"
     ]
    }
   ],
   "source": [
    "# Check edge existance\n",
    "print(G.has_edge(node_id - 1, node_id + 1))\n",
    "\n",
    "print(G.has_edge(node_id, node_id + 2))\n",
    "\n",
    "print((node_id - 1, node_id + 1) in G.edges)"
   ]
  },
  {
   "cell_type": "markdown",
   "metadata": {},
   "source": [
    "Note the asymmetry in graph methods dealing with edges:"
   ]
  },
  {
   "cell_type": "code",
   "execution_count": 16,
   "metadata": {},
   "outputs": [
    {
     "data": {
      "text/plain": [
       "True"
      ]
     },
     "execution_count": 16,
     "metadata": {},
     "output_type": "execute_result"
    }
   ],
   "source": [
    "H.has_edge(1,2)"
   ]
  },
  {
   "cell_type": "code",
   "execution_count": 17,
   "metadata": {},
   "outputs": [
    {
     "data": {
      "text/plain": [
       "False"
      ]
     },
     "execution_count": 17,
     "metadata": {},
     "output_type": "execute_result"
    }
   ],
   "source": [
    "H.has_edge(2,1)"
   ]
  },
  {
   "cell_type": "markdown",
   "metadata": {},
   "source": [
    "Instead of the symmetric relationship \"neighbors\", nodes in directed graphs have predecessors (\"in-neighbors\") and successors (\"out-neighbors\"). The \"neighbors\" method is a synonym for \"successors\"."
   ]
  },
  {
   "cell_type": "code",
   "execution_count": 18,
   "metadata": {},
   "outputs": [
    {
     "name": "stdout",
     "output_type": "stream",
     "text": [
      "Successors of 2: [3]\n",
      "Predecessors of 2: [1, 3, 4]\n",
      "Neighbors of 2: [3]\n"
     ]
    }
   ],
   "source": [
    "print('Successors of 2:', list(H.successors(2)))\n",
    "print('Predecessors of 2:', list(H.predecessors(2)))\n",
    "print('Neighbors of 2:', list(H.neighbors(2))) # in directed graph the neigbors are the same as successors"
   ]
  },
  {
   "cell_type": "markdown",
   "metadata": {},
   "source": [
    "Directed graphs have in-degree and out-degree, giving the number of edges pointing to and from the given node, respectively. The \"degree\" method on a directed graph gives the total degree: in-degree plus out-degree."
   ]
  },
  {
   "cell_type": "code",
   "execution_count": 19,
   "metadata": {},
   "outputs": [
    {
     "name": "stdout",
     "output_type": "stream",
     "text": [
      "Out-degree of 2: 1\n",
      "In-degree of 2: 3\n",
      "Degree of 2: 4\n"
     ]
    }
   ],
   "source": [
    "print('Out-degree of 2:', H.out_degree(2))\n",
    "print('In-degree of 2:', H.in_degree(2))\n",
    "print('Degree of 2:', H.degree(2))"
   ]
  },
  {
   "cell_type": "markdown",
   "metadata": {},
   "source": [
    "## NetworkX functions"
   ]
  },
  {
   "cell_type": "code",
   "execution_count": 20,
   "metadata": {},
   "outputs": [
    {
     "data": {
      "text/plain": [
       "False"
      ]
     },
     "execution_count": 20,
     "metadata": {},
     "output_type": "execute_result"
    }
   ],
   "source": [
    "nx.is_tree(G)"
   ]
  },
  {
   "cell_type": "code",
   "execution_count": 21,
   "metadata": {},
   "outputs": [
    {
     "data": {
      "text/plain": [
       "True"
      ]
     },
     "execution_count": 21,
     "metadata": {},
     "output_type": "execute_result"
    }
   ],
   "source": [
    "nx.is_connected(G)"
   ]
  },
  {
   "cell_type": "code",
   "execution_count": 22,
   "metadata": {},
   "outputs": [
    {
     "data": {
      "image/png": "[encoded data removed]",
      "text/plain": [
       "<Figure size 640x480 with 1 Axes>"
      ]
     },
     "metadata": {},
     "output_type": "display_data"
    }
   ],
   "source": [
    "G2 = nx.path_graph(n=4)\n",
    "nx.draw(G2, with_labels = True)"
   ]
  },
  {
   "cell_type": "code",
   "execution_count": 23,
   "metadata": {},
   "outputs": [
    {
     "data": {
      "image/png": "[encoded data removed]",
      "text/plain": [
       "<Figure size 640x480 with 1 Axes>"
      ]
     },
     "metadata": {},
     "output_type": "display_data"
    }
   ],
   "source": [
    "H2 = nx.DiGraph(G2)\n",
    "nx.draw(H2, with_labels = True)"
   ]
  },
  {
   "cell_type": "markdown",
   "metadata": {},
   "source": [
    "## Adjacency lists"
   ]
  },
  {
   "cell_type": "markdown",
   "metadata": {},
   "source": [
    "One compact way to represent a graph is an adjacency list. This is most useful for unweighted graphs, directed or undirected. In an adjacency list, each line contains some number of node names. The first node name is the \"source\" and each other node name on the line is a \"target\". For instance, given the following adjacency list:\n",
    "\n",
    "```\n",
    "a d e\n",
    "b c\n",
    "c\n",
    "d\n",
    "e\n",
    "```\n",
    "the edges are as follows:\n",
    "\n",
    "```\n",
    "(a, d)\n",
    "(a, e)\n",
    "(b, c)\n",
    "```\n",
    "\n",
    "The nodes on their own line exist so that we are sure to include any singleton nodes. Note that if our graph is undirected, we only need to specify one direction for each edge. Importantly, whether the graph is directed or undirected is often not contained in the file itself -- you have to infer it. This is one limitation of the format.\n",
    "\n",
    "NetworkX provides a way to read a graph from an adjacency list: nx.read_adjlist()."
   ]
  },
  {
   "cell_type": "markdown",
   "metadata": {},
   "source": [
    "## Paths"
   ]
  },
  {
   "cell_type": "markdown",
   "metadata": {},
   "source": [
    "Let's start with a very simple, undirected network."
   ]
  },
  {
   "cell_type": "code",
   "execution_count": 24,
   "metadata": {},
   "outputs": [
    {
     "data": {
      "image/png": "[encoded data removed]",
      "text/plain": [
       "<Figure size 640x480 with 1 Axes>"
      ]
     },
     "metadata": {},
     "output_type": "display_data"
    }
   ],
   "source": [
    "G = nx.Graph()\n",
    "G.add_nodes_from([1,2,3,4])\n",
    "G.add_edges_from([(1,2),(2,3),(1,3),(1,4)])\n",
    "nx.draw(G, with_labels=True)"
   ]
  },
  {
   "cell_type": "markdown",
   "metadata": {},
   "source": [
    "A path in a network is a sequence of edges connecting two nodes. In this simple example, we can easily see that there is indeed at least one path that connects nodes 3 and 4. We can verify this with NetworkX:"
   ]
  },
  {
   "cell_type": "code",
   "execution_count": 25,
   "metadata": {},
   "outputs": [
    {
     "data": {
      "text/plain": [
       "True"
      ]
     },
     "execution_count": 25,
     "metadata": {},
     "output_type": "execute_result"
    }
   ],
   "source": [
    "nx.has_path(G, 3, 4)"
   ]
  },
  {
   "cell_type": "markdown",
   "metadata": {},
   "source": [
    "There can be more than one path between two nodes. Again considering nodes 3 and 4, there are two such \"simple\" paths:"
   ]
  },
  {
   "cell_type": "code",
   "execution_count": 26,
   "metadata": {},
   "outputs": [
    {
     "data": {
      "text/plain": [
       "[[3, 2, 1, 4], [3, 1, 4]]"
      ]
     },
     "execution_count": 26,
     "metadata": {},
     "output_type": "execute_result"
    }
   ],
   "source": [
    "list(nx.all_simple_paths(G, 3, 4)) # all paths without cycles"
   ]
  },
  {
   "cell_type": "markdown",
   "metadata": {},
   "source": [
    "A simple path is one without any cycles. If we allowed cycles, there would be infinitely many paths because one could always just go around the cycle as many times as desired."
   ]
  },
  {
   "cell_type": "markdown",
   "metadata": {},
   "source": [
    "We are often most interested in shortest paths. In an unweighted network, the shortest path is the one with the fewest edges. We can see that of the two simple paths between nodes 3 and 4, one is shorter than the other. We can get this shortest path with a single NetworkX function:"
   ]
  },
  {
   "cell_type": "code",
   "execution_count": 27,
   "metadata": {},
   "outputs": [
    {
     "data": {
      "text/plain": [
       "[3, 1, 4]"
      ]
     },
     "execution_count": 27,
     "metadata": {},
     "output_type": "execute_result"
    }
   ],
   "source": [
    "nx.shortest_path(G, 3, 4)"
   ]
  },
  {
   "cell_type": "markdown",
   "metadata": {},
   "source": [
    "If you only care about the path length, there's a function for that too:"
   ]
  },
  {
   "cell_type": "code",
   "execution_count": 28,
   "metadata": {},
   "outputs": [
    {
     "data": {
      "text/plain": [
       "2"
      ]
     },
     "execution_count": 28,
     "metadata": {},
     "output_type": "execute_result"
    }
   ],
   "source": [
    "nx.shortest_path_length(G, 3, 4)"
   ]
  },
  {
   "cell_type": "markdown",
   "metadata": {},
   "source": [
    "Note that a path length is defined here by the number of edges in the path, not the number of nodes, which implies\n",
    "```\n",
    "nx.shortest_path_length(G, u, v) == len(nx.shortest_path(G, u, v)) - 1\n",
    "```\n",
    "for nodes $u$ and $v$."
   ]
  },
  {
   "cell_type": "markdown",
   "metadata": {},
   "source": [
    "We know that in a directed graph, an edge from an arbitrary node $u$ to an arbitrary node $v$ does not imply that an edge exists from $v$ to $u$. Since paths must follow edge direction in directed graphs, the same asymmetry applies for paths. Observe that this graph has a path from 1 to 4, but not in the reverse direction."
   ]
  },
  {
   "cell_type": "code",
   "execution_count": 29,
   "metadata": {},
   "outputs": [
    {
     "data": {
      "image/png": "[encoded data removed]",
      "text/plain": [
       "<Figure size 640x480 with 1 Axes>"
      ]
     },
     "metadata": {},
     "output_type": "display_data"
    }
   ],
   "source": [
    "D = nx.DiGraph()\n",
    "D.add_edges_from([\n",
    "    (1,2),\n",
    "    (2,3),\n",
    "    (3,2), (3,4), (3,5),\n",
    "    (4,2), (4,5), (4,6),\n",
    "    (5,6),\n",
    "    (6,4),\n",
    "])\n",
    "nx.draw(D, with_labels=True)"
   ]
  },
  {
   "cell_type": "code",
   "execution_count": 30,
   "metadata": {},
   "outputs": [
    {
     "data": {
      "text/plain": [
       "True"
      ]
     },
     "execution_count": 30,
     "metadata": {},
     "output_type": "execute_result"
    }
   ],
   "source": [
    "nx.has_path(D, 1, 4)"
   ]
  },
  {
   "cell_type": "code",
   "execution_count": 31,
   "metadata": {},
   "outputs": [
    {
     "data": {
      "text/plain": [
       "False"
      ]
     },
     "execution_count": 31,
     "metadata": {},
     "output_type": "execute_result"
    }
   ],
   "source": [
    "nx.has_path(D, 4, 1)"
   ]
  },
  {
   "cell_type": "markdown",
   "metadata": {},
   "source": [
    "The other NetworkX functions dealing with paths take this asymmetry into account as well:"
   ]
  },
  {
   "cell_type": "code",
   "execution_count": 32,
   "metadata": {},
   "outputs": [
    {
     "data": {
      "text/plain": [
       "[2, 3, 5]"
      ]
     },
     "execution_count": 32,
     "metadata": {},
     "output_type": "execute_result"
    }
   ],
   "source": [
    "nx.shortest_path(D, 2, 5)"
   ]
  },
  {
   "cell_type": "code",
   "execution_count": 33,
   "metadata": {},
   "outputs": [
    {
     "data": {
      "text/plain": [
       "[5, 6, 4, 2]"
      ]
     },
     "execution_count": 33,
     "metadata": {},
     "output_type": "execute_result"
    }
   ],
   "source": [
    "nx.shortest_path(D, 5, 2)"
   ]
  },
  {
   "cell_type": "markdown",
   "metadata": {},
   "source": [
    "Since there is no edge from 5 to 3, the shortest path from 5 to 2 cannot simply backtrack the shortest path from 2 to 5 -- it has to go a longer route through nodes 6 and 4."
   ]
  },
  {
   "cell_type": "markdown",
   "metadata": {},
   "source": [
    "## Connected components"
   ]
  },
  {
   "cell_type": "markdown",
   "metadata": {},
   "source": [
    "In the simple network above, we can see that for every pair of nodes, we can find a path connecting them. This is the definition of a connected graph. We can check this property for a given graph:"
   ]
  },
  {
   "cell_type": "code",
   "execution_count": 34,
   "metadata": {},
   "outputs": [
    {
     "data": {
      "text/plain": [
       "True"
      ]
     },
     "execution_count": 34,
     "metadata": {},
     "output_type": "execute_result"
    }
   ],
   "source": [
    "nx.is_connected(G)"
   ]
  },
  {
   "cell_type": "markdown",
   "metadata": {},
   "source": [
    "Not every graph is connected:"
   ]
  },
  {
   "cell_type": "code",
   "execution_count": 35,
   "metadata": {},
   "outputs": [
    {
     "data": {
      "image/png": "[encoded data removed]",
      "text/plain": [
       "<Figure size 640x480 with 1 Axes>"
      ]
     },
     "metadata": {},
     "output_type": "display_data"
    }
   ],
   "source": [
    "G = nx.Graph()\n",
    "nx.add_cycle(G, (1,2,3))\n",
    "G.add_edge(4,5)\n",
    "nx.draw(G, with_labels=True)"
   ]
  },
  {
   "cell_type": "code",
   "execution_count": 36,
   "metadata": {},
   "outputs": [
    {
     "data": {
      "text/plain": [
       "False"
      ]
     },
     "execution_count": 36,
     "metadata": {},
     "output_type": "execute_result"
    }
   ],
   "source": [
    "nx.is_connected(G)"
   ]
  },
  {
   "cell_type": "markdown",
   "metadata": {},
   "source": [
    "And NetworkX will raise an error if you ask for a path between nodes where none exists:"
   ]
  },
  {
   "cell_type": "code",
   "execution_count": 37,
   "metadata": {},
   "outputs": [
    {
     "data": {
      "text/plain": [
       "False"
      ]
     },
     "execution_count": 37,
     "metadata": {},
     "output_type": "execute_result"
    }
   ],
   "source": [
    "nx.has_path(G, 3, 5)"
   ]
  },
  {
   "cell_type": "code",
   "execution_count": 38,
   "metadata": {},
   "outputs": [],
   "source": [
    "# nx.shortest_path(G, 3, 5)"
   ]
  },
  {
   "cell_type": "markdown",
   "metadata": {},
   "source": [
    "Visually, we can identify two connected components in our graph. Let's verify this:"
   ]
  },
  {
   "cell_type": "code",
   "execution_count": 39,
   "metadata": {},
   "outputs": [
    {
     "data": {
      "text/plain": [
       "2"
      ]
     },
     "execution_count": 39,
     "metadata": {},
     "output_type": "execute_result"
    }
   ],
   "source": [
    "nx.number_connected_components(G)"
   ]
  },
  {
   "cell_type": "markdown",
   "metadata": {},
   "source": [
    "The nx.connected_components() function takes a graph and returns a list of sets of node names, one such set for each connected component. Verify that the two sets in the following list correspond to the two connected components in the drawing of the graph above:"
   ]
  },
  {
   "cell_type": "code",
   "execution_count": 40,
   "metadata": {},
   "outputs": [
    {
     "data": {
      "text/plain": [
       "[{1, 2, 3}, {4, 5}]"
      ]
     },
     "execution_count": 40,
     "metadata": {},
     "output_type": "execute_result"
    }
   ],
   "source": [
    "list(nx.connected_components(G))"
   ]
  },
  {
   "cell_type": "markdown",
   "metadata": {},
   "source": [
    "In case you're not familiar with Python sets, they are collections of items without duplicates. These are useful for collecting node names because node names should be unique. As with other collections, we can get the number of items in a set with the len function:"
   ]
  },
  {
   "cell_type": "code",
   "execution_count": 41,
   "metadata": {},
   "outputs": [
    {
     "data": {
      "text/plain": [
       "3"
      ]
     },
     "execution_count": 41,
     "metadata": {},
     "output_type": "execute_result"
    }
   ],
   "source": [
    "components = list(nx.connected_components(G))\n",
    "len(components[0])"
   ]
  },
  {
   "cell_type": "markdown",
   "metadata": {},
   "source": [
    "We often care about the largest connected component, which is sometimes referred to as the core of the network. We can make use of Python's builtin max function in order to obtain the largest connected component. By default, Python's max function sorts things in lexicographic (i.e. alphabetical) order, which is not helpful here. We want the maximum connected component when sorted in order of their sizes, so we pass len as a key function:"
   ]
  },
  {
   "cell_type": "code",
   "execution_count": 42,
   "metadata": {},
   "outputs": [
    {
     "data": {
      "text/plain": [
       "{1, 2, 3}"
      ]
     },
     "execution_count": 42,
     "metadata": {},
     "output_type": "execute_result"
    }
   ],
   "source": [
    "max(nx.connected_components(G), key=len)"
   ]
  },
  {
   "cell_type": "markdown",
   "metadata": {},
   "source": [
    "While it's often enough to just have the list of node names, sometimes we need the actual subgraph consisting of the largest connected component. One way to get this is to pass the list of node names to the G.subgraph() function:"
   ]
  },
  {
   "cell_type": "code",
   "execution_count": 43,
   "metadata": {},
   "outputs": [
    {
     "data": {
      "image/png": "[encoded data removed]",
      "text/plain": [
       "<Figure size 640x480 with 1 Axes>"
      ]
     },
     "metadata": {},
     "output_type": "display_data"
    }
   ],
   "source": [
    "core_nodes = max(nx.connected_components(G), key=len)\n",
    "core = G.subgraph(core_nodes)\n",
    "nx.draw(core, with_labels=True)"
   ]
  },
  {
   "cell_type": "markdown",
   "metadata": {},
   "source": [
    "Directed networks have two kinds of connectivity. Strongly connected means that there exists a directed path between every pair of nodes, i.e., that from any node we can get to any other node while following edge directionality. Think of cars on a network of one-way streets: they can't drive against the flow of traffic."
   ]
  },
  {
   "cell_type": "code",
   "execution_count": 44,
   "metadata": {},
   "outputs": [
    {
     "data": {
      "image/png": "[encoded data removed]",
      "text/plain": [
       "<Figure size 640x480 with 1 Axes>"
      ]
     },
     "metadata": {},
     "output_type": "display_data"
    }
   ],
   "source": [
    "D = nx.DiGraph()\n",
    "D.add_edges_from([\n",
    "    (1,2),\n",
    "    (2,3),\n",
    "    (3,2), (3,4), (3,5),\n",
    "    (4,2), (4,5), (4,6),\n",
    "    (5,6),\n",
    "    (6,4),\n",
    "])\n",
    "nx.draw(D, with_labels=True)"
   ]
  },
  {
   "cell_type": "code",
   "execution_count": 45,
   "metadata": {},
   "outputs": [
    {
     "data": {
      "text/plain": [
       "False"
      ]
     },
     "execution_count": 45,
     "metadata": {},
     "output_type": "execute_result"
    }
   ],
   "source": [
    "nx.is_strongly_connected(D) # can reach any node from any other node"
   ]
  },
  {
   "cell_type": "markdown",
   "metadata": {},
   "source": [
    "Weakly connected means that there exist a path between every pair of nodes, regardless of direction. Think about pedestrians on a network of one-way streets: they walk on the sidewalks so they don't care about the direction of traffic."
   ]
  },
  {
   "cell_type": "code",
   "execution_count": 46,
   "metadata": {},
   "outputs": [
    {
     "data": {
      "text/plain": [
       "True"
      ]
     },
     "execution_count": 46,
     "metadata": {},
     "output_type": "execute_result"
    }
   ],
   "source": [
    "nx.is_weakly_connected(D) # there is a path between every 2 nodes"
   ]
  },
  {
   "cell_type": "markdown",
   "metadata": {},
   "source": [
    "If a network is strongly connected, it is also weakly connected. The converse is not always true, as seen in this example."
   ]
  },
  {
   "cell_type": "markdown",
   "metadata": {},
   "source": [
    "The is_connected function for undirected graphs will raise an error when given a directed graph."
   ]
  },
  {
   "cell_type": "code",
   "execution_count": 47,
   "metadata": {},
   "outputs": [],
   "source": [
    "#nx.is_connected(D)"
   ]
  },
  {
   "cell_type": "markdown",
   "metadata": {},
   "source": [
    "In the directed case, instead of nx.connected_components we now have nx.weakly_connected_components and nx.strongly_connected_components:"
   ]
  },
  {
   "cell_type": "code",
   "execution_count": 48,
   "metadata": {},
   "outputs": [
    {
     "data": {
      "text/plain": [
       "[{1, 2, 3, 4, 5, 6}]"
      ]
     },
     "execution_count": 48,
     "metadata": {},
     "output_type": "execute_result"
    }
   ],
   "source": [
    "list(nx.weakly_connected_components(D))"
   ]
  },
  {
   "cell_type": "code",
   "execution_count": 49,
   "metadata": {},
   "outputs": [
    {
     "data": {
      "text/plain": [
       "[{2, 3, 4, 5, 6}, {1}]"
      ]
     },
     "execution_count": 49,
     "metadata": {},
     "output_type": "execute_result"
    }
   ],
   "source": [
    "list(nx.strongly_connected_components(D))"
   ]
  },
  {
   "cell_type": "markdown",
   "metadata": {},
   "source": [
    "# EXERCISE 1"
   ]
  },
  {
   "cell_type": "code",
   "execution_count": 50,
   "metadata": {},
   "outputs": [
    {
     "data": {
      "image/png": "[encoded data removed]",
      "text/plain": [
       "<Figure size 640x480 with 1 Axes>"
      ]
     },
     "metadata": {},
     "output_type": "display_data"
    }
   ],
   "source": [
    "G = nx.Graph()\n",
    "G.add_edges_from([('a', 'b'), ('a', 'd'), ('c', 'd')])\n",
    "nx.draw(G, with_labels=True, node_color='blue', node_size=1600, font_color='white', font_size=16)"
   ]
  },
  {
   "cell_type": "markdown",
   "metadata": {},
   "source": [
    "Often in the context of trees, a node with degree 1 is called a leaf. Write a function named get_leaves that takes a graph as an argument, loops through the nodes, and returns a list of nodes with degree 1."
   ]
  },
  {
   "cell_type": "code",
   "execution_count": 51,
   "metadata": {},
   "outputs": [],
   "source": [
    "def get_leaves(G):\n",
    "    return [node for node in G.nodes() if G.degree(node)==1]  # TODO"
   ]
  },
  {
   "cell_type": "code",
   "execution_count": 52,
   "metadata": {},
   "outputs": [],
   "source": [
    "assert set(get_leaves(G)) == {'c', 'b'}"
   ]
  },
  {
   "cell_type": "markdown",
   "metadata": {},
   "source": [
    "# EXERCISE 2"
   ]
  },
  {
   "cell_type": "code",
   "execution_count": 53,
   "metadata": {},
   "outputs": [
    {
     "data": {
      "image/png": "[encoded data removed]",
      "text/plain": [
       "<Figure size 640x480 with 1 Axes>"
      ]
     },
     "metadata": {},
     "output_type": "display_data"
    }
   ],
   "source": [
    "friends = [\"George Frank Dennis\", \"Dennis Claire Esther\", \"Claire Frank Alice Esther\", \"Bob Alice\", \"Frank Alice\", \"Alice\", \"Esther\", \"Shelly\"]\n",
    "SG = nx.parse_adjlist(friends)\n",
    "nx.draw(SG, node_size=1500, node_color='lightblue', with_labels=True)"
   ]
  },
  {
   "cell_type": "markdown",
   "metadata": {},
   "source": [
    "Write a function max_degree that takes a graph as its argument, and returns a 2-tuple with the name and degree of the node with highest degree."
   ]
  },
  {
   "cell_type": "code",
   "execution_count": 54,
   "metadata": {},
   "outputs": [],
   "source": [
    "def max_degree(G):\n",
    "    return max([(node, G.degree(node)) for node in G.nodes()], key=lambda x: x[1])  # TODO"
   ]
  },
  {
   "cell_type": "code",
   "execution_count": 55,
   "metadata": {},
   "outputs": [],
   "source": [
    "assert max_degree(SG) == ('Claire', 4)"
   ]
  },
  {
   "cell_type": "markdown",
   "metadata": {},
   "source": [
    "# EXERCISE 3"
   ]
  },
  {
   "cell_type": "code",
   "execution_count": 56,
   "metadata": {},
   "outputs": [
    {
     "data": {
      "image/png": "[encoded data removed]",
      "text/plain": [
       "<Figure size 640x480 with 1 Axes>"
      ]
     },
     "metadata": {},
     "output_type": "display_data"
    }
   ],
   "source": [
    "friends = [\"George Frank Dennis\", \"Dennis Claire Esther\", \"Claire Frank Alice Esther\", \"Bob Alice\", \"Frank Alice\", \"Alice\", \"Esther\", \"Shelly\"]\n",
    "SG = nx.parse_adjlist(friends)\n",
    "nx.draw(SG, node_size=1500, node_color='lightblue', with_labels=True)"
   ]
  },
  {
   "cell_type": "markdown",
   "metadata": {},
   "source": [
    "Write a function mutual_friends that takes a graph and two nodes as arguments, and returns a list (or set) of nodes that are linked to both given nodes. For example, in the graph SG drawn above,\n",
    "```\n",
    "mutual_friends(SG, 'Alice', 'Claire') == ['Frank']\n",
    "```\n",
    "an empty list or set should be returned in the case where two nodes have no mutual friends, e.g. George and Bob in SG drawn above."
   ]
  },
  {
   "cell_type": "code",
   "execution_count": 57,
   "metadata": {},
   "outputs": [],
   "source": [
    "def mutual_friends(G, node_1, node_2):\n",
    "    return [node for node in G.nodes if G.has_edge(node_1, node) and G.has_edge(node_2, node)]  # TODO"
   ]
  },
  {
   "cell_type": "code",
   "execution_count": 58,
   "metadata": {},
   "outputs": [],
   "source": [
    "assert mutual_friends(SG, 'Alice', 'Claire') == ['Frank']\n",
    "assert mutual_friends(SG, 'George', 'Bob') == []\n",
    "assert sorted(mutual_friends(SG, 'Claire', 'George')) == ['Dennis', 'Frank']"
   ]
  },
  {
   "cell_type": "markdown",
   "metadata": {},
   "source": [
    "# EXERCISE 4"
   ]
  },
  {
   "cell_type": "code",
   "execution_count": 59,
   "metadata": {},
   "outputs": [
    {
     "name": "stderr",
     "output_type": "stream",
     "text": [
      "Downloading...\n",
      "From: https://drive.google.com/uc?id=1aA545NhL9eYD7Qn9daTejRzOe2RJXjHp\n",
      "To: c:\\Osamah\\Programming\\Projects\\Python 3\\KAUST_AI_Summer_2024\\Week 2 - Graph Neural Network (GNNs)\\Day_02 (Intro to GNNs)\\openflights\\openflights_usa.graphml.gz\n",
      "100%|██████████| 31.5k/31.5k [00:00<00:00, 505kB/s]\n"
     ]
    }
   ],
   "source": [
    "import os\n",
    "import gdown\n",
    "url = \"https://drive.google.com/uc?id=1aA545NhL9eYD7Qn9daTejRzOe2RJXjHp\"\n",
    "path = \"openflights\"\n",
    "filename = \"openflights_usa.graphml.gz\"\n",
    "if not os.path.exists(path):\n",
    "    os.makedirs(path, exist_ok=True)\n",
    "    gdown.download(url, os.path.join(path, filename), quiet=False)"
   ]
  },
  {
   "cell_type": "code",
   "execution_count": 60,
   "metadata": {},
   "outputs": [],
   "source": [
    "G = nx.read_graphml(os.path.join(path, filename))"
   ]
  },
  {
   "cell_type": "markdown",
   "metadata": {},
   "source": [
    "The nodes in this graph are airports, represented by their [IATA codes](https://en.wikipedia.org/wiki/List_of_airports_by_IATA_code:_A); two nodes are connected with an edge if there is a scheduled flight directly connecting these two airports. We'll assume this graph to be undirected since a flight in one direction usually means there is a return flight.\n",
    "\n",
    "Thus this graph has edges\n",
    "```\n",
    "[('HOM', 'ANC'), ('BGM', 'PHL'), ('BGM', 'IAD'), ...]\n",
    "```\n",
    "where ANC is Anchorage, IAD is Washington Dulles, etc.\n",
    "\n",
    "These nodes also have **attributes** associated with them, containing additional information about the airports:"
   ]
  },
  {
   "cell_type": "code",
   "execution_count": 61,
   "metadata": {},
   "outputs": [
    {
     "data": {
      "text/plain": [
       "{'name': 'Indianapolis International Airport',\n",
       " 'latitude': 39.7173,\n",
       " 'longitude': -86.294403,\n",
       " 'IATA': 'IND'}"
      ]
     },
     "execution_count": 61,
     "metadata": {},
     "output_type": "execute_result"
    }
   ],
   "source": [
    "G.nodes['IND']"
   ]
  },
  {
   "cell_type": "markdown",
   "metadata": {},
   "source": [
    "Node attributes are stored as a dictionary, so the values can be accessed individually as such:"
   ]
  },
  {
   "cell_type": "code",
   "execution_count": 62,
   "metadata": {},
   "outputs": [
    {
     "data": {
      "text/plain": [
       "'Indianapolis International Airport'"
      ]
     },
     "execution_count": 62,
     "metadata": {},
     "output_type": "execute_result"
    }
   ],
   "source": [
    "G.nodes['IND']['name']"
   ]
  },
  {
   "cell_type": "markdown",
   "metadata": {},
   "source": [
    "Is there a direct flight between Indianapolis and Fairbanks, Alaska (FAI)? A direct flight is one with no intermediate stops."
   ]
  },
  {
   "cell_type": "code",
   "execution_count": 63,
   "metadata": {},
   "outputs": [
    {
     "data": {
      "text/plain": [
       "False"
      ]
     },
     "execution_count": 63,
     "metadata": {},
     "output_type": "execute_result"
    }
   ],
   "source": [
    "G.has_edge('IND','FAI')# TODO"
   ]
  },
  {
   "cell_type": "markdown",
   "metadata": {},
   "source": [
    "# EXERCISE 5"
   ]
  },
  {
   "cell_type": "markdown",
   "metadata": {},
   "source": [
    "If I wanted to fly from Indianapolis to Fairbanks, Alaska what would be an itinerary with the fewest number of flights?"
   ]
  },
  {
   "cell_type": "code",
   "execution_count": 64,
   "metadata": {},
   "outputs": [
    {
     "data": {
      "text/plain": [
       "['IND', 'BOS', 'SEA', 'FAI']"
      ]
     },
     "execution_count": 64,
     "metadata": {},
     "output_type": "execute_result"
    }
   ],
   "source": [
    "nx.shortest_path(G, 'IND', 'FAI') # TODO"
   ]
  },
  {
   "cell_type": "markdown",
   "metadata": {},
   "source": [
    "# EXERCISE 6"
   ]
  },
  {
   "cell_type": "markdown",
   "metadata": {},
   "source": [
    "Is it possible to travel from any airport in the US to any other airport in the US, possibly using connecting flights? In other words, does there exist a path in the network between every possible pair of airports?"
   ]
  },
  {
   "cell_type": "code",
   "execution_count": 65,
   "metadata": {},
   "outputs": [
    {
     "data": {
      "text/plain": [
       "False"
      ]
     },
     "execution_count": 65,
     "metadata": {},
     "output_type": "execute_result"
    }
   ],
   "source": [
    "nx.is_connected(G) # TODO"
   ]
  },
  {
   "cell_type": "code",
   "execution_count": 66,
   "metadata": {},
   "outputs": [
    {
     "data": {
      "text/plain": [
       "3"
      ]
     },
     "execution_count": 66,
     "metadata": {},
     "output_type": "execute_result"
    }
   ],
   "source": [
    "nx.number_connected_components(G)"
   ]
  },
  {
   "cell_type": "code",
   "execution_count": 67,
   "metadata": {},
   "outputs": [
    {
     "name": "stdout",
     "output_type": "stream",
     "text": [
      "{'LEB', 'HHH', 'SWF', 'TVC', 'RST', 'GAM', 'CIU', 'CAK', 'SLQ', 'GRR', 'GTR', 'FLG', 'MCI', 'ORF', 'MIA', 'TTN', 'BZN', 'PTU', 'HDN', 'PHX', 'KWN', 'LIH', 'CYF', 'DHN', 'BLI', 'TYS', 'YAK', 'MGM', 'STS', 'IRK', 'AIN', 'HGR', 'HCR', 'MCN', 'OGG', 'MAF', 'AEX', 'PUW', 'OGD', 'YKM', 'KKA', 'FAY', 'HPB', 'GPT', 'ABY', 'TUL', 'WMO', 'GRI', 'HON', 'CLT', 'SVA', 'PIH', 'LWS', 'IRC', 'ROA', 'SBY', 'CIC', 'HOU', 'FKL', 'LAX', 'MOT', 'DRO', 'WNA', 'CEM', 'MKG', 'PLN', 'EUG', 'AKK', 'PVC', 'TNC', 'BKC', 'AZA', 'DAY', 'ANC', 'OBU', 'DUJ', 'BFF', 'ELV', 'JHW', 'MOU', 'BUF', 'EWR', 'DCA', 'WAA', 'DAB', 'LGA', 'SPI', 'BUR', 'BTR', 'AKN', 'LNK', 'APF', 'BRL', 'SCK', 'MMH', 'PHF', 'SLK', 'GSO', 'FAT', 'MDW', 'PGD', 'BJI', 'LAM', 'ALB', 'RKS', 'SYR', 'IAN', 'BTM', 'PBI', 'ALS', 'KWK', 'GCC', 'PKB', 'LBB', 'MSO', 'LMT', 'HRO', 'AUS', 'MCK', 'KWT', 'FMN', 'SHG', 'CSG', 'FSD', 'ACK', 'CRW', 'SRQ', 'CGI', 'AHN', 'MKK', 'EGE', 'RIC', 'RIW', 'LAW', 'BIL', 'FWA', 'LRD', 'HLN', 'CHO', 'EGX', 'NUI', 'WTK', 'GLV', 'IDA', 'LAR', 'ABQ', 'DEC', 'ELI', 'MLL', 'SHX', 'RAP', 'SDY', 'WLK', 'ART', 'LCK', 'MEM', 'ORV', 'GSP', 'LAN', 'ONT', 'LBE', 'BFL', 'PIB', 'DRG', 'MFE', 'OAK', 'RKD', 'ALO', 'MCE', 'COU', 'PDX', 'EKO', 'NME', 'VCT', 'TUP', 'RHI', 'CDC', 'DEN', 'AOO', 'EEK', 'EYW', 'HNM', 'SLC', 'AGN', 'RDM', 'KVC', 'GDV', 'BFD', 'JNU', 'IMT', 'VIS', 'SEA', 'STL', 'MBL', 'MSL', 'GNV', 'BOI', 'AKP', 'TEB', 'PSM', 'OGS', 'MEI', 'MMU', 'SAN', 'EWN', 'INL', 'SHV', 'ANI', 'CEC', 'TLH', 'BDL', 'APN', 'EAT', 'GGW', 'TLA', 'GST', 'PIE', 'ELD', 'IAG', 'MTM', 'LUR', 'OME', 'MHK', 'ADK', 'COS', 'PRC', 'HUS', 'STG', 'FLO', 'ACT', 'KLG', 'MGW', 'IAD', 'AUG', 'MOD', 'BRD', 'ITH', 'BPT', 'AZO', 'SHD', 'ENA', 'AIA', 'SCC', 'LAS', 'BGR', 'TOL', 'ICT', 'ATW', 'PHL', 'ECP', 'DLH', 'SKK', 'TYR', 'BTV', 'TPA', 'LNS', 'AGS', 'GRB', 'BNA', 'FAR', 'MLB', 'MCO', 'DBQ', 'BOS', 'PNS', 'MLI', 'KFP', 'IPL', 'AET', 'MBS', 'DLG', 'NLG', 'ABR', 'NUL', 'OTZ', 'EVV', 'UST', 'JST', 'KTN', 'CRP', 'ESC', 'VDZ', 'MCG', 'ERI', 'KLW', 'SHH', 'SBA', 'LEX', 'MVY', 'RFD', 'MQT', 'BHM', 'RDD', 'KAL', 'BKW', 'KTS', 'HIB', 'LUK', 'SAT', 'LBF', 'BTT', 'MUE', 'BGM', 'JLN', 'DIK', 'SGU', 'CPR', 'HOB', 'GUC', 'PWM', 'ISP', 'XNA', 'STC', 'YUM', 'KKH', 'RSW', 'CMH', 'AMA', 'BTI', 'ROC', 'PSG', 'FLL', 'COD', 'HYG', 'OOK', 'NIB', 'PIT', 'JFK', 'ALW', 'ORH', 'CDB', 'BLV', 'MLU', 'ABL', 'SMK', 'CDR', 'PBG', 'GGG', 'PIZ', 'VAK', 'KPN', 'MKE', 'TOG', 'BWI', 'BET', 'KYU', 'CLD', 'OMA', 'GAL', 'FYU', 'RBY', 'JAX', 'ACV', 'SJC', 'KLN', 'GEG', 'ILM', 'PIA', 'MRY', 'FSM', 'HVN', 'CHA', 'MSN', 'CVG', 'BIS', 'PVD', 'SNA', 'SIT', 'WSN', 'JBR', 'GJT', 'ITO', 'HSL', 'ABI', 'HVR', 'TXK', 'ANV', 'ATK', 'SAF', 'MLY', 'GTF', 'MYR', 'GLH', 'SHR', 'SCE', 'CHS', 'ATY', 'VEE', 'CNM', 'FAI', 'BQK', 'SFO', 'RDU', 'VPS', 'MYU', 'AUK', 'EWB', 'OLF', 'PSP', 'LGB', 'MOB', 'PSC', 'TVF', 'HNL', 'CMI', 'SDF', 'ELM', 'PDT', 'ILG', 'ASE', 'OKC', 'BHB', 'TLJ', 'PKA', 'LCH', 'MFR', 'OTH', 'VLD', 'JHM', 'KSM', 'ARC', 'MSY', 'FNT', 'PAH', 'SUX', 'LWB', 'BRO', 'CKB', 'PQI', 'KOA', 'MWA', 'SPS', 'UIN', 'WBQ', 'KYK', 'CMX', 'SBP', 'GRK', 'IGG', 'HOT', 'HNS', 'LYH', 'KPV', 'SFB', 'SGY', 'CIK', 'DFW', 'JAC', 'JAN', 'ROW', 'SMX', 'IPT', 'AVP', 'HOM', 'HTS', 'ELP', 'EMK', 'PVU', 'RUT', 'PGV', 'TUS', 'GCK', 'KUK', 'SMF', 'KOT', 'MSP', 'DAL', 'HPN', 'ILI', 'SCM', 'DTW', 'CNY', 'VEL', 'HNH', 'ISN', 'PIR', 'IND', 'ADQ', 'BMI', 'HRL', 'LSE', 'LBL', 'TRI', 'YNG', 'RNO', 'DSM', 'UNK', 'CAE', 'CDV', 'SAV', 'PTH', 'LFT', 'TBN', 'PIP', 'OWB', 'CYS', 'LIT', 'SGF', 'CLL', 'GFK', 'PGA', 'AVL', 'SJT', 'MHT', 'CID', 'SLN', 'WRL', 'HKB', 'CEZ', 'RSH', 'KVL', 'ORD', 'IAH', 'GCN', 'OAJ', 'TWF', 'CLE', 'WRG', 'SBN', 'FCA', 'LNY', 'HSV', 'ABE', 'SDP', 'MKL', 'PUB', 'MSS', 'SOW', 'MTJ', 'HYA', 'DDC', 'SNP', 'ATL', 'FOE', 'EAU', 'MDT', 'ACY', 'BRW', 'CWA'}\n",
      "{'DUT', 'KQA', 'AKB'}\n",
      "{'CLM', 'BFI', 'FRD', 'ESD'}\n"
     ]
    }
   ],
   "source": [
    "components = list(nx.connected_components(G))\n",
    "print(components[0])\n",
    "print(components[1])\n",
    "print(components[2])"
   ]
  },
  {
   "cell_type": "code",
   "execution_count": null,
   "metadata": {},
   "outputs": [],
   "source": []
  }
 ],
 "metadata": {
  "colab": {
   "authorship_tag": "ABX9TyMEFlwX99PAaScZSPJyAaN5",
   "provenance": []
  },
  "kernelspec": {
   "display_name": "Python 3 (ipykernel)",
   "language": "python",
   "name": "python3"
  },
  "language_info": {
   "codemirror_mode": {
    "name": "ipython",
    "version": 3
   },
   "file_extension": ".py",
   "mimetype": "text/x-python",
   "name": "python",
   "nbconvert_exporter": "python",
   "pygments_lexer": "ipython3",
   "version": "3.12.4"
  }
 },
 "nbformat": 4,
 "nbformat_minor": 4
}
