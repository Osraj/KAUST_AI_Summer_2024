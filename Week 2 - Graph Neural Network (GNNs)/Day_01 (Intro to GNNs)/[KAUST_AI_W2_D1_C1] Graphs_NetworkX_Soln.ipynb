{
  "cells": [
    {
      "cell_type": "markdown",
      "metadata": {
        "id": "2iviAAoxNg3U"
      },
      "source": [
        "# Introduction to Graphs"
      ]
    },
    {
      "cell_type": "markdown",
      "metadata": {
        "id": "XuXWJLEm2UWS"
      },
      "source": [
        "In this tutorial, we will look at [NetworkX](https://networkx.org/documentation/stable/) and introduction of graphs.\n",
        "\n",
        "NetworkX is one of the most frequently used Python packages to create, manipulate, and mine graphs."
      ]
    },
    {
      "cell_type": "code",
      "execution_count": 1,
      "metadata": {
        "id": "QeqN7MHvH1OA"
      },
      "outputs": [],
      "source": [
        "import networkx as nx"
      ]
    },
    {
      "cell_type": "code",
      "execution_count": 2,
      "metadata": {
        "id": "8cfrNHSZ92V3",
        "outputId": "23b0aeae-11fa-4277-8853-0654f154e909"
      },
      "outputs": [
        {
          "data": {
            "text/plain": [
              "'3.3'"
            ]
          },
          "execution_count": 2,
          "metadata": {},
          "output_type": "execute_result"
        }
      ],
      "source": [
        "nx.__version__"
      ]
    },
    {
      "cell_type": "markdown",
      "metadata": {
        "id": "MCIeGAfLfAMK"
      },
      "source": [
        "## Graph\n",
        "NetworkX provides several classes to store different types of graphs, such as directed and undirected graph. It also provides classes to create multigraphs (both directed and undirected).\n",
        "\n",
        "For more information, please refer to [NetworkX graph types](https://networkx.org/documentation/stable/reference/classes/index.html)."
      ]
    },
    {
      "cell_type": "code",
      "execution_count": 3,
      "metadata": {
        "colab": {
          "base_uri": "https://localhost:8080/"
        },
        "id": "qSI_n6P-e0PW",
        "outputId": "13a54cce-a349-47fb-d0d8-f7a9d40deb68"
      },
      "outputs": [
        {
          "name": "stdout",
          "output_type": "stream",
          "text": [
            "False\n",
            "True\n",
            "{'Name': 'Bar'}\n"
          ]
        }
      ],
      "source": [
        "# Create an undirected graph G\n",
        "G = nx.Graph()\n",
        "print(G.is_directed())\n",
        "\n",
        "# Create a directed graph H\n",
        "H = nx.DiGraph()\n",
        "print(H.is_directed())\n",
        "\n",
        "# Add graph level attribute\n",
        "G.graph[\"Name\"] = \"Bar\"\n",
        "print(G.graph)"
      ]
    },
    {
      "cell_type": "markdown",
      "metadata": {
        "id": "x0pLs0-Ka9j8"
      },
      "source": [
        "## Node\n",
        "\n",
        "Nodes (with attributes) can be easily added to NetworkX graphs."
      ]
    },
    {
      "cell_type": "code",
      "execution_count": 4,
      "metadata": {
        "colab": {
          "base_uri": "https://localhost:8080/"
        },
        "id": "jQ8ApAL5H1GB",
        "outputId": "1f99efe2-cf9b-4b3d-d906-bd401430d410"
      },
      "outputs": [
        {
          "name": "stdout",
          "output_type": "stream",
          "text": [
            "Node 0 has the attributes {'feature': 5, 'label': 0}\n"
          ]
        }
      ],
      "source": [
        "# Add one node with node level attributes\n",
        "G.add_node(0, feature=5, label=0)\n",
        "\n",
        "# Get attributes of the node 0\n",
        "node_0_attr = G.nodes[0]\n",
        "print(\"Node 0 has the attributes {}\".format(node_0_attr))"
      ]
    },
    {
      "cell_type": "code",
      "execution_count": 5,
      "metadata": {
        "colab": {
          "base_uri": "https://localhost:8080/"
        },
        "id": "btOdMYqJaKia",
        "outputId": "4339ccef-3eba-49bc-944b-46cf79ac8596"
      },
      "outputs": [
        {
          "name": "stdout",
          "output_type": "stream",
          "text": [
            "(0, {'feature': 5, 'label': 0})\n",
            "(1, {'feature': 1, 'label': 1})\n",
            "(2, {'feature': 2, 'label': 2})\n",
            "G has 3 nodes\n"
          ]
        }
      ],
      "source": [
        "# Add multiple nodes with attributes\n",
        "G.add_nodes_from([\n",
        "  (1, {\"feature\": 1, \"label\": 1}),\n",
        "  (2, {\"feature\": 2, \"label\": 2})\n",
        "]) #(node, attrdict)\n",
        "\n",
        "# Loop through all the nodes\n",
        "# Set data=True will return node attributes\n",
        "for node in G.nodes(data=True):\n",
        "  print(node)\n",
        "\n",
        "# Get number of nodes\n",
        "num_nodes = G.number_of_nodes()\n",
        "print(\"G has {} nodes\".format(num_nodes))"
      ]
    },
    {
      "cell_type": "markdown",
      "metadata": {
        "id": "2eeEQ47N92V4"
      },
      "source": [
        "The node names don't have to be single integers -- they can be integers or strings or any immutable object, and the types can be mixed."
      ]
    },
    {
      "cell_type": "markdown",
      "metadata": {
        "id": "0AdoaZPgbRis"
      },
      "source": [
        "## Edge\n",
        "\n",
        "Similar to nodes, edges (with attributes) can also be easily added to NetworkX graphs."
      ]
    },
    {
      "cell_type": "code",
      "execution_count": 6,
      "metadata": {
        "colab": {
          "base_uri": "https://localhost:8080/"
        },
        "id": "0szH5F6EH079",
        "outputId": "f54b6a04-69cd-4ebc-debb-c2e468ea5924"
      },
      "outputs": [
        {
          "name": "stdout",
          "output_type": "stream",
          "text": [
            "Edge (0, 1) has the attributes {'weight': 0.5}\n"
          ]
        }
      ],
      "source": [
        "# Add one edge with edge weight 0.5\n",
        "G.add_edge(0, 1, weight=0.5)\n",
        "\n",
        "# Get attributes of the edge (0, 1)\n",
        "edge_0_1_attr = G.edges[(0, 1)]\n",
        "print(\"Edge (0, 1) has the attributes {}\".format(edge_0_1_attr))"
      ]
    },
    {
      "cell_type": "code",
      "execution_count": 7,
      "metadata": {
        "colab": {
          "base_uri": "https://localhost:8080/"
        },
        "id": "QRTmi4EUaf_I",
        "outputId": "9ebb1789-781c-41af-b6d7-0fe44b96c332"
      },
      "outputs": [
        {
          "name": "stdout",
          "output_type": "stream",
          "text": [
            "(0, 1)\n",
            "(0, 2)\n",
            "(1, 2)\n",
            "G has 3 edges\n"
          ]
        }
      ],
      "source": [
        "# Add multiple edges with edge weights\n",
        "G.add_edges_from([\n",
        "  (1, 2, {\"weight\": 0.3}),\n",
        "  (2, 0, {\"weight\": 0.1})\n",
        "])\n",
        "\n",
        "# Loop through all the edges\n",
        "# Here there is no data=True, so only the edge will be returned\n",
        "for edge in G.edges():\n",
        "  print(edge)\n",
        "\n",
        "# Get number of edges\n",
        "num_edges = G.number_of_edges()\n",
        "print(\"G has {} edges\".format(num_edges))"
      ]
    },
    {
      "cell_type": "markdown",
      "metadata": {
        "id": "wJMvBunQ92V5"
      },
      "source": [
        "Inserting edges from non-existent nodes will create the missing nodes."
      ]
    },
    {
      "cell_type": "code",
      "execution_count": 8,
      "metadata": {
        "id": "Q5L5C3hF92V5",
        "outputId": "1741b14e-4a16-4a51-f0bb-25b8f4ff068e"
      },
      "outputs": [
        {
          "name": "stdout",
          "output_type": "stream",
          "text": [
            "H has 0 nodes\n",
            "H now has 6 nodes\n"
          ]
        }
      ],
      "source": [
        "num_nodes = H.number_of_nodes()\n",
        "print(\"H has {} nodes\".format(num_nodes))\n",
        "H.add_edges_from([(1,2),(2,3),(3,2),(3,4),(3,5),(4,5),(4,6),(5,6),(6,4),(4,2)])\n",
        "num_nodes = H.number_of_nodes()\n",
        "print(\"H now has {} nodes\".format(num_nodes))"
      ]
    },
    {
      "cell_type": "markdown",
      "metadata": {
        "id": "9u1Utjn4bc7k"
      },
      "source": [
        "## Visualization"
      ]
    },
    {
      "cell_type": "code",
      "execution_count": 9,
      "metadata": {
        "colab": {
          "base_uri": "https://localhost:8080/",
          "height": 319
        },
        "id": "lykPzFOEahuP",
        "outputId": "33dd076f-3378-455d-9d5d-16de9f529def"
      },
      "outputs": [
        {
          "data": {
            "image/png": "[encoded data removed]",
            "text/plain": [
              "<Figure size 640x480 with 1 Axes>"
            ]
          },
          "metadata": {},
          "output_type": "display_data"
        }
      ],
      "source": [
        "nx.draw(G, with_labels=True, node_color='blue', node_size=1600, font_color='white', font_size=16)"
      ]
    },
    {
      "cell_type": "code",
      "execution_count": 10,
      "metadata": {
        "id": "ErvmdOoT92V5",
        "outputId": "610d5729-1289-4620-ccc6-9635e1587fde"
      },
      "outputs": [
        {
          "data": {
            "image/png": "[encoded data removed]",
            "text/plain": [
              "<Figure size 640x480 with 1 Axes>"
            ]
          },
          "metadata": {},
          "output_type": "display_data"
        }
      ],
      "source": [
        "nx.draw(H, with_labels=True, node_color='red', node_size=1600, font_color='white', font_size=16)"
      ]
    },
    {
      "cell_type": "markdown",
      "metadata": {
        "id": "_Q6YTP2FDbOS"
      },
      "source": [
        "## Graph methods"
      ]
    },
    {
      "cell_type": "code",
      "execution_count": 11,
      "metadata": {
        "colab": {
          "base_uri": "https://localhost:8080/"
        },
        "id": "GFA3B6Z_DE3q",
        "outputId": "cd76856c-f60e-4449-a4f3-ba80888bebf9"
      },
      "outputs": [
        {
          "name": "stdout",
          "output_type": "stream",
          "text": [
            "Node 1 has degree 2\n",
            "Node 1 has neighbor 0\n",
            "Node 1 has neighbor 2\n"
          ]
        }
      ],
      "source": [
        "node_id = 1\n",
        "\n",
        "# Degree of node 1\n",
        "print(\"Node {} has degree {}\".format(node_id, G.degree[node_id]))\n",
        "\n",
        "# Get neighbor of node 1\n",
        "for neighbor in G.neighbors(node_id):\n",
        "  print(\"Node {} has neighbor {}\".format(node_id, neighbor))"
      ]
    },
    {
      "cell_type": "code",
      "execution_count": 12,
      "metadata": {
        "id": "yrAW9MSd92V6",
        "outputId": "a2373586-abb8-4d95-9388-697aeaac53d9"
      },
      "outputs": [
        {
          "name": "stdout",
          "output_type": "stream",
          "text": [
            "True\n",
            "False\n",
            "True\n",
            "True\n"
          ]
        }
      ],
      "source": [
        "# Check node existance\n",
        "print(G.has_node(node_id))\n",
        "\n",
        "print(G.has_node(node_id + 2))\n",
        "\n",
        "print(node_id in G)\n",
        "\n",
        "print(node_id in G.nodes)"
      ]
    },
    {
      "cell_type": "code",
      "execution_count": 13,
      "metadata": {
        "id": "lh3qHowU92V6",
        "outputId": "423d5b26-fd90-444f-e953-39c4fcecfc8a"
      },
      "outputs": [
        {
          "name": "stdout",
          "output_type": "stream",
          "text": [
            "True\n",
            "False\n",
            "True\n"
          ]
        }
      ],
      "source": [
        "# Check edge existance\n",
        "print(G.has_edge(node_id - 1, node_id + 1))\n",
        "\n",
        "print(G.has_edge(node_id, node_id + 2))\n",
        "\n",
        "print((node_id - 1, node_id + 1) in G.edges)"
      ]
    },
    {
      "cell_type": "markdown",
      "metadata": {
        "id": "R9jkYGAU92V6"
      },
      "source": [
        "Note the asymmetry in graph methods dealing with edges:"
      ]
    },
    {
      "cell_type": "code",
      "execution_count": 14,
      "metadata": {
        "id": "PsFacqmF92V6",
        "outputId": "bfcd885b-230b-4137-e9d7-67c1e4a82f5b"
      },
      "outputs": [
        {
          "data": {
            "text/plain": [
              "True"
            ]
          },
          "execution_count": 14,
          "metadata": {},
          "output_type": "execute_result"
        }
      ],
      "source": [
        "H.has_edge(1,2)"
      ]
    },
    {
      "cell_type": "code",
      "execution_count": 15,
      "metadata": {
        "id": "jP7D6k3J92V6",
        "outputId": "b461d763-09e0-4f28-c85d-75b01dfce237"
      },
      "outputs": [
        {
          "data": {
            "text/plain": [
              "False"
            ]
          },
          "execution_count": 15,
          "metadata": {},
          "output_type": "execute_result"
        }
      ],
      "source": [
        "H.has_edge(2,1)"
      ]
    },
    {
      "cell_type": "markdown",
      "metadata": {
        "id": "CgYefOcu92V6"
      },
      "source": [
        "Instead of the symmetric relationship \"neighbors\", nodes in directed graphs have predecessors (\"in-neighbors\") and successors (\"out-neighbors\"). The \"neighbors\" method is a synonym for \"successors\"."
      ]
    },
    {
      "cell_type": "code",
      "execution_count": 16,
      "metadata": {
        "id": "CaMAa6nW92V6",
        "outputId": "a1f85c16-21d0-4773-82e7-88ef716cf836"
      },
      "outputs": [
        {
          "name": "stdout",
          "output_type": "stream",
          "text": [
            "Successors of 2: [3]\n",
            "Predecessors of 2: [1, 3, 4]\n",
            "Neighbors of 2: [3]\n"
          ]
        }
      ],
      "source": [
        "print('Successors of 2:', list(H.successors(2)))\n",
        "print('Predecessors of 2:', list(H.predecessors(2)))\n",
        "print('Neighbors of 2:', list(H.neighbors(2)))"
      ]
    },
    {
      "cell_type": "markdown",
      "metadata": {
        "id": "pI7k2hyF92V6"
      },
      "source": [
        "Directed graphs have in-degree and out-degree, giving the number of edges pointing to and from the given node, respectively. The \"degree\" method on a directed graph gives the total degree: in-degree plus out-degree."
      ]
    },
    {
      "cell_type": "code",
      "execution_count": 17,
      "metadata": {
        "id": "IFkrtHeu92V6",
        "outputId": "9f2ebec4-0833-4764-d88b-fe3d6e669dd1"
      },
      "outputs": [
        {
          "name": "stdout",
          "output_type": "stream",
          "text": [
            "Out-degree of 2: 1\n",
            "In-degree of 2: 3\n",
            "Degree of 2: 4\n"
          ]
        }
      ],
      "source": [
        "print('Out-degree of 2:', H.out_degree(2))\n",
        "print('In-degree of 2:', H.in_degree(2))\n",
        "print('Degree of 2:', H.degree(2))"
      ]
    },
    {
      "cell_type": "markdown",
      "metadata": {
        "id": "OY8TZuZW92V7"
      },
      "source": [
        "## NetworkX functions"
      ]
    },
    {
      "cell_type": "code",
      "execution_count": 18,
      "metadata": {
        "id": "mUQjotET92V7",
        "outputId": "f479f1e8-1984-42e0-d73c-0d34ab610c28"
      },
      "outputs": [
        {
          "data": {
            "text/plain": [
              "False"
            ]
          },
          "execution_count": 18,
          "metadata": {},
          "output_type": "execute_result"
        }
      ],
      "source": [
        "nx.is_tree(G)"
      ]
    },
    {
      "cell_type": "code",
      "execution_count": 19,
      "metadata": {
        "id": "zSHP9na992V7",
        "outputId": "92acbebf-648d-4181-d9ef-0ac16071b838"
      },
      "outputs": [
        {
          "data": {
            "text/plain": [
              "True"
            ]
          },
          "execution_count": 19,
          "metadata": {},
          "output_type": "execute_result"
        }
      ],
      "source": [
        "nx.is_connected(G)"
      ]
    },
    {
      "cell_type": "code",
      "execution_count": 20,
      "metadata": {
        "id": "oZ3B4dUY92V7",
        "outputId": "74c21ae9-a384-41e0-9f4f-be49dd1ff6e5"
      },
      "outputs": [
        {
          "data": {
            "image/png": "[encoded data removed]",
            "text/plain": [
              "<Figure size 640x480 with 1 Axes>"
            ]
          },
          "metadata": {},
          "output_type": "display_data"
        }
      ],
      "source": [
        "G2 = nx.path_graph(n=4)\n",
        "nx.draw(G2, with_labels = True)"
      ]
    },
    {
      "cell_type": "code",
      "execution_count": 21,
      "metadata": {
        "id": "sjFCjPsy92V7",
        "outputId": "a6dec97d-3810-4953-e079-b92327516034"
      },
      "outputs": [
        {
          "data": {
            "image/png": "[encoded data removed]",
            "text/plain": [
              "<Figure size 640x480 with 1 Axes>"
            ]
          },
          "metadata": {},
          "output_type": "display_data"
        }
      ],
      "source": [
        "H2 = nx.DiGraph(G2)\n",
        "nx.draw(H2, with_labels = True)"
      ]
    },
    {
      "cell_type": "markdown",
      "metadata": {
        "id": "6WiZcBY292V7"
      },
      "source": [
        "## Adjacency lists"
      ]
    },
    {
      "cell_type": "markdown",
      "metadata": {
        "id": "PukGQFaX92V7"
      },
      "source": [
        "One compact way to represent a graph is an adjacency list. This is most useful for unweighted graphs, directed or undirected. In an adjacency list, each line contains some number of node names. The first node name is the \"source\" and each other node name on the line is a \"target\". For instance, given the following adjacency list:\n",
        "\n",
        "```\n",
        "a d e\n",
        "b c\n",
        "c\n",
        "d\n",
        "e\n",
        "```\n",
        "the edges are as follows:\n",
        "\n",
        "```\n",
        "(a, d)\n",
        "(a, e)\n",
        "(b, c)\n",
        "```\n",
        "\n",
        "The nodes on their own line exist so that we are sure to include any singleton nodes. Note that if our graph is undirected, we only need to specify one direction for each edge. Importantly, whether the graph is directed or undirected is often not contained in the file itself -- you have to infer it. This is one limitation of the format.\n",
        "\n",
        "NetworkX provides a way to read a graph from an adjacency list: nx.read_adjlist()."
      ]
    },
    {
      "cell_type": "markdown",
      "metadata": {
        "id": "_jspIvZD92V7"
      },
      "source": [
        "## Paths"
      ]
    },
    {
      "cell_type": "markdown",
      "metadata": {
        "id": "mZJorAHN92V7"
      },
      "source": [
        "Let's start with a very simple, undirected network."
      ]
    },
    {
      "cell_type": "code",
      "execution_count": 22,
      "metadata": {
        "id": "aScqby3_92V8",
        "outputId": "2401b1a7-995a-42e7-8080-e378c307e66f"
      },
      "outputs": [
        {
          "data": {
            "image/png": "[encoded data removed]",
            "text/plain": [
              "<Figure size 640x480 with 1 Axes>"
            ]
          },
          "metadata": {},
          "output_type": "display_data"
        }
      ],
      "source": [
        "G = nx.Graph()\n",
        "G.add_nodes_from([1,2,3,4])\n",
        "G.add_edges_from([(1,2),(2,3),(1,3),(1,4)])\n",
        "nx.draw(G, with_labels=True)"
      ]
    },
    {
      "cell_type": "markdown",
      "metadata": {
        "id": "w6WM5o0M92WC"
      },
      "source": [
        "A path in a network is a sequence of edges connecting two nodes. In this simple example, we can easily see that there is indeed at least one path that connects nodes 3 and 4. We can verify this with NetworkX:"
      ]
    },
    {
      "cell_type": "code",
      "execution_count": 23,
      "metadata": {
        "id": "1qkQn6au92WC",
        "outputId": "75a97e80-46ea-4142-f9cc-7fe37dacd074"
      },
      "outputs": [
        {
          "data": {
            "text/plain": [
              "True"
            ]
          },
          "execution_count": 23,
          "metadata": {},
          "output_type": "execute_result"
        }
      ],
      "source": [
        "nx.has_path(G, 3, 4)"
      ]
    },
    {
      "cell_type": "markdown",
      "metadata": {
        "id": "OE1KLv_T92WC"
      },
      "source": [
        "There can be more than one path between two nodes. Again considering nodes 3 and 4, there are two such \"simple\" paths:"
      ]
    },
    {
      "cell_type": "code",
      "execution_count": 24,
      "metadata": {
        "id": "nM8AGs2X92WC",
        "outputId": "f7b975d0-85ca-4404-aff3-855453ca6255"
      },
      "outputs": [
        {
          "data": {
            "text/plain": [
              "[[3, 2, 1, 4], [3, 1, 4]]"
            ]
          },
          "execution_count": 24,
          "metadata": {},
          "output_type": "execute_result"
        }
      ],
      "source": [
        "list(nx.all_simple_paths(G, 3, 4))"
      ]
    },
    {
      "cell_type": "markdown",
      "metadata": {
        "id": "ErptGHWk92WC"
      },
      "source": [
        "A simple path is one without any cycles. If we allowed cycles, there would be infinitely many paths because one could always just go around the cycle as many times as desired."
      ]
    },
    {
      "cell_type": "markdown",
      "metadata": {
        "id": "OcmKHCZv92WC"
      },
      "source": [
        "We are often most interested in shortest paths. In an unweighted network, the shortest path is the one with the fewest edges. We can see that of the two simple paths between nodes 3 and 4, one is shorter than the other. We can get this shortest path with a single NetworkX function:"
      ]
    },
    {
      "cell_type": "code",
      "execution_count": 25,
      "metadata": {
        "id": "8K4u-gsS92WD",
        "outputId": "f790c170-0d1d-4f04-f76b-a5ec31ff9fe8"
      },
      "outputs": [
        {
          "data": {
            "text/plain": [
              "[3, 1, 4]"
            ]
          },
          "execution_count": 25,
          "metadata": {},
          "output_type": "execute_result"
        }
      ],
      "source": [
        "nx.shortest_path(G, 3, 4)"
      ]
    },
    {
      "cell_type": "markdown",
      "metadata": {
        "id": "ibl0gPJT92WD"
      },
      "source": [
        "If you only care about the path length, there's a function for that too:"
      ]
    },
    {
      "cell_type": "code",
      "execution_count": 26,
      "metadata": {
        "id": "YzYeMZ1292WD",
        "outputId": "b89768ae-0f40-44db-fb9b-9f48f23f95c6"
      },
      "outputs": [
        {
          "data": {
            "text/plain": [
              "2"
            ]
          },
          "execution_count": 26,
          "metadata": {},
          "output_type": "execute_result"
        }
      ],
      "source": [
        "nx.shortest_path_length(G, 3, 4)"
      ]
    },
    {
      "cell_type": "markdown",
      "metadata": {
        "id": "nnQKZ81u92WD"
      },
      "source": [
        "Note that a path length is defined here by the number of edges in the path, not the number of nodes, which implies\n",
        "```\n",
        "nx.shortest_path_length(G, u, v) == len(nx.shortest_path(G, u, v)) - 1\n",
        "```\n",
        "for nodes $u$ and $v$."
      ]
    },
    {
      "cell_type": "markdown",
      "metadata": {
        "id": "bdAq3j6w92WD"
      },
      "source": [
        "We know that in a directed graph, an edge from an arbitrary node $u$ to an arbitrary node $v$ does not imply that an edge exists from $v$ to $u$. Since paths must follow edge direction in directed graphs, the same asymmetry applies for paths. Observe that this graph has a path from 1 to 4, but not in the reverse direction."
      ]
    },
    {
      "cell_type": "code",
      "execution_count": 27,
      "metadata": {
        "id": "1fxVONB692WD",
        "outputId": "fed4800d-f712-43f9-f32f-3d42a1978767"
      },
      "outputs": [
        {
          "data": {
            "image/png": "[encoded data removed]",
            "text/plain": [
              "<Figure size 640x480 with 1 Axes>"
            ]
          },
          "metadata": {},
          "output_type": "display_data"
        }
      ],
      "source": [
        "D = nx.DiGraph()\n",
        "D.add_edges_from([\n",
        "    (1,2),\n",
        "    (2,3),\n",
        "    (3,2), (3,4), (3,5),\n",
        "    (4,2), (4,5), (4,6),\n",
        "    (5,6),\n",
        "    (6,4),\n",
        "])\n",
        "nx.draw(D, with_labels=True)"
      ]
    },
    {
      "cell_type": "code",
      "execution_count": 28,
      "metadata": {
        "id": "Uxvvxcc192WD",
        "outputId": "1feab9a0-75df-4aa2-b1e0-eff22db8a0a7"
      },
      "outputs": [
        {
          "data": {
            "text/plain": [
              "True"
            ]
          },
          "execution_count": 28,
          "metadata": {},
          "output_type": "execute_result"
        }
      ],
      "source": [
        "nx.has_path(D, 1, 4)"
      ]
    },
    {
      "cell_type": "code",
      "execution_count": 29,
      "metadata": {
        "id": "VlbqiRuJ92WD",
        "outputId": "a79c15f0-a744-45dc-cd2c-12df3c7e4bdc"
      },
      "outputs": [
        {
          "data": {
            "text/plain": [
              "False"
            ]
          },
          "execution_count": 29,
          "metadata": {},
          "output_type": "execute_result"
        }
      ],
      "source": [
        "nx.has_path(D, 4, 1)"
      ]
    },
    {
      "cell_type": "markdown",
      "metadata": {
        "id": "5iVF6ePf92WD"
      },
      "source": [
        "The other NetworkX functions dealing with paths take this asymmetry into account as well:"
      ]
    },
    {
      "cell_type": "code",
      "execution_count": 30,
      "metadata": {
        "id": "IlDol_Fn92WD",
        "outputId": "78aa8eda-67c7-4a54-91e7-e4fb22ea8847"
      },
      "outputs": [
        {
          "data": {
            "text/plain": [
              "[2, 3, 5]"
            ]
          },
          "execution_count": 30,
          "metadata": {},
          "output_type": "execute_result"
        }
      ],
      "source": [
        "nx.shortest_path(D, 2, 5)"
      ]
    },
    {
      "cell_type": "code",
      "execution_count": 31,
      "metadata": {
        "id": "0O5wrqh292WD",
        "outputId": "a4020960-71ee-40ad-c879-da41baa0126b"
      },
      "outputs": [
        {
          "data": {
            "text/plain": [
              "[5, 6, 4, 2]"
            ]
          },
          "execution_count": 31,
          "metadata": {},
          "output_type": "execute_result"
        }
      ],
      "source": [
        "nx.shortest_path(D, 5, 2)"
      ]
    },
    {
      "cell_type": "markdown",
      "metadata": {
        "id": "7N28-2Uw92WD"
      },
      "source": [
        "Since there is no edge from 5 to 3, the shortest path from 5 to 2 cannot simply backtrack the shortest path from 2 to 5 -- it has to go a longer route through nodes 6 and 4."
      ]
    },
    {
      "cell_type": "markdown",
      "metadata": {
        "id": "YhS7tRGL92WD"
      },
      "source": [
        "## Connected components"
      ]
    },
    {
      "cell_type": "markdown",
      "metadata": {
        "id": "z0VG-H9992WD"
      },
      "source": [
        "In the simple network above, we can see that for every pair of nodes, we can find a path connecting them. This is the definition of a connected graph. We can check this property for a given graph:"
      ]
    },
    {
      "cell_type": "code",
      "execution_count": 32,
      "metadata": {
        "id": "n2xu98uY92WD",
        "outputId": "87adad21-e255-4dfa-b5fe-f51a3d39ac56"
      },
      "outputs": [
        {
          "data": {
            "text/plain": [
              "True"
            ]
          },
          "execution_count": 32,
          "metadata": {},
          "output_type": "execute_result"
        }
      ],
      "source": [
        "nx.is_connected(G)"
      ]
    },
    {
      "cell_type": "markdown",
      "metadata": {
        "id": "v9oLK7fc92WE"
      },
      "source": [
        "Not every graph is connected:"
      ]
    },
    {
      "cell_type": "code",
      "execution_count": 33,
      "metadata": {
        "id": "y_eeaz0p92WE",
        "outputId": "d907bde2-9035-4159-82cb-38ca7ada025e"
      },
      "outputs": [
        {
          "data": {
            "image/png": "[encoded data removed]",
            "text/plain": [
              "<Figure size 640x480 with 1 Axes>"
            ]
          },
          "metadata": {},
          "output_type": "display_data"
        }
      ],
      "source": [
        "G = nx.Graph()\n",
        "nx.add_cycle(G, (1,2,3))\n",
        "G.add_edge(4,5)\n",
        "nx.draw(G, with_labels=True)"
      ]
    },
    {
      "cell_type": "code",
      "execution_count": 34,
      "metadata": {
        "id": "mnDml5kp92WE",
        "outputId": "4d4380fb-cb81-4ba0-a730-571b8624ab19"
      },
      "outputs": [
        {
          "data": {
            "text/plain": [
              "False"
            ]
          },
          "execution_count": 34,
          "metadata": {},
          "output_type": "execute_result"
        }
      ],
      "source": [
        "nx.is_connected(G)"
      ]
    },
    {
      "cell_type": "markdown",
      "metadata": {
        "id": "qwUee2sP92WE"
      },
      "source": [
        "And NetworkX will raise an error if you ask for a path between nodes where none exists:"
      ]
    },
    {
      "cell_type": "code",
      "execution_count": 35,
      "metadata": {
        "id": "tj4_evYr92WE",
        "outputId": "786a1d90-a4b5-45de-90fa-923757e272b3"
      },
      "outputs": [
        {
          "data": {
            "text/plain": [
              "False"
            ]
          },
          "execution_count": 35,
          "metadata": {},
          "output_type": "execute_result"
        }
      ],
      "source": [
        "nx.has_path(G, 3, 5)"
      ]
    },
    {
      "cell_type": "code",
      "execution_count": 36,
      "metadata": {
        "id": "L_JoN9EY92WE"
      },
      "outputs": [],
      "source": [
        "#nx.shortest_path(G, 3, 5)"
      ]
    },
    {
      "cell_type": "markdown",
      "metadata": {
        "id": "FaDhacuO92WE"
      },
      "source": [
        "Visually, we can identify two connected components in our graph. Let's verify this:"
      ]
    },
    {
      "cell_type": "code",
      "execution_count": 37,
      "metadata": {
        "id": "EeIVKIXm92WE",
        "outputId": "32994aa4-1a21-434f-8ac7-c0aa0aa9ad1e"
      },
      "outputs": [
        {
          "data": {
            "text/plain": [
              "2"
            ]
          },
          "execution_count": 37,
          "metadata": {},
          "output_type": "execute_result"
        }
      ],
      "source": [
        "nx.number_connected_components(G)"
      ]
    },
    {
      "cell_type": "markdown",
      "metadata": {
        "id": "RmWdW25b92WE"
      },
      "source": [
        "The nx.connected_components() function takes a graph and returns a list of sets of node names, one such set for each connected component. Verify that the two sets in the following list correspond to the two connected components in the drawing of the graph above:"
      ]
    },
    {
      "cell_type": "code",
      "execution_count": 38,
      "metadata": {
        "id": "tSDnmoqD92WE",
        "outputId": "f48b51b8-7283-4bf3-b74a-72cf28b80b12"
      },
      "outputs": [
        {
          "data": {
            "text/plain": [
              "[{1, 2, 3}, {4, 5}]"
            ]
          },
          "execution_count": 38,
          "metadata": {},
          "output_type": "execute_result"
        }
      ],
      "source": [
        "list(nx.connected_components(G))"
      ]
    },
    {
      "cell_type": "markdown",
      "metadata": {
        "id": "NN-Hary592WF"
      },
      "source": [
        "In case you're not familiar with Python sets, they are collections of items without duplicates. These are useful for collecting node names because node names should be unique. As with other collections, we can get the number of items in a set with the len function:"
      ]
    },
    {
      "cell_type": "code",
      "execution_count": 39,
      "metadata": {
        "id": "aTYiN2q692WF",
        "outputId": "ba906027-05ac-49e4-9238-e578b80e9115"
      },
      "outputs": [
        {
          "data": {
            "text/plain": [
              "3"
            ]
          },
          "execution_count": 39,
          "metadata": {},
          "output_type": "execute_result"
        }
      ],
      "source": [
        "components = list(nx.connected_components(G))\n",
        "len(components[0])"
      ]
    },
    {
      "cell_type": "markdown",
      "metadata": {
        "id": "L786RYsP92WF"
      },
      "source": [
        "We often care about the largest connected component, which is sometimes referred to as the core of the network. We can make use of Python's builtin max function in order to obtain the largest connected component. By default, Python's max function sorts things in lexicographic (i.e. alphabetical) order, which is not helpful here. We want the maximum connected component when sorted in order of their sizes, so we pass len as a key function:"
      ]
    },
    {
      "cell_type": "code",
      "execution_count": 40,
      "metadata": {
        "id": "oGsylOTH92WF",
        "outputId": "59ab06b4-9a9b-44b6-9f9a-40a4309a6e05"
      },
      "outputs": [
        {
          "data": {
            "text/plain": [
              "{1, 2, 3}"
            ]
          },
          "execution_count": 40,
          "metadata": {},
          "output_type": "execute_result"
        }
      ],
      "source": [
        "max(nx.connected_components(G), key=len)"
      ]
    },
    {
      "cell_type": "markdown",
      "metadata": {
        "id": "L-xEqekj92WG"
      },
      "source": [
        "While it's often enough to just have the list of node names, sometimes we need the actual subgraph consisting of the largest connected component. One way to get this is to pass the list of node names to the G.subgraph() function:"
      ]
    },
    {
      "cell_type": "code",
      "execution_count": 41,
      "metadata": {
        "id": "AJIMUBke92WG",
        "outputId": "66216842-52e4-4e43-8df6-87910c1ed24d"
      },
      "outputs": [
        {
          "data": {
            "image/png": "[encoded data removed]",
            "text/plain": [
              "<Figure size 640x480 with 1 Axes>"
            ]
          },
          "metadata": {},
          "output_type": "display_data"
        }
      ],
      "source": [
        "core_nodes = max(nx.connected_components(G), key=len)\n",
        "core = G.subgraph(core_nodes)\n",
        "nx.draw(core, with_labels=True)"
      ]
    },
    {
      "cell_type": "markdown",
      "metadata": {
        "id": "PwWzOpe092WG"
      },
      "source": [
        "Directed networks have two kinds of connectivity. Strongly connected means that there exists a directed path between every pair of nodes, i.e., that from any node we can get to any other node while following edge directionality. Think of cars on a network of one-way streets: they can't drive against the flow of traffic."
      ]
    },
    {
      "cell_type": "code",
      "execution_count": 42,
      "metadata": {
        "id": "LIg80skZ92WG",
        "outputId": "f5e9a275-3f43-4cba-b515-3de942b368d2"
      },
      "outputs": [
        {
          "data": {
            "image/png": "[encoded data removed]",
            "text/plain": [
              "<Figure size 640x480 with 1 Axes>"
            ]
          },
          "metadata": {},
          "output_type": "display_data"
        }
      ],
      "source": [
        "D = nx.DiGraph()\n",
        "D.add_edges_from([\n",
        "    (1,2),\n",
        "    (2,3),\n",
        "    (3,2), (3,4), (3,5),\n",
        "    (4,2), (4,5), (4,6),\n",
        "    (5,6),\n",
        "    (6,4),\n",
        "])\n",
        "nx.draw(D, with_labels=True)"
      ]
    },
    {
      "cell_type": "code",
      "execution_count": 43,
      "metadata": {
        "id": "DlqxFOOd92WH",
        "outputId": "59cf3265-2f6b-4a4b-b1e3-54c6e63c1c52"
      },
      "outputs": [
        {
          "data": {
            "text/plain": [
              "False"
            ]
          },
          "execution_count": 43,
          "metadata": {},
          "output_type": "execute_result"
        }
      ],
      "source": [
        "nx.is_strongly_connected(D)"
      ]
    },
    {
      "cell_type": "markdown",
      "metadata": {
        "id": "BM2FmTDQ92WH"
      },
      "source": [
        "Weakly connected means that there exist a path between every pair of nodes, regardless of direction. Think about pedestrians on a network of one-way streets: they walk on the sidewalks so they don't care about the direction of traffic."
      ]
    },
    {
      "cell_type": "code",
      "execution_count": 44,
      "metadata": {
        "id": "VOZHL-hk92WH",
        "outputId": "81e82b05-3437-49c7-b2f7-5e0e52075b47"
      },
      "outputs": [
        {
          "data": {
            "text/plain": [
              "True"
            ]
          },
          "execution_count": 44,
          "metadata": {},
          "output_type": "execute_result"
        }
      ],
      "source": [
        "nx.is_weakly_connected(D)"
      ]
    },
    {
      "cell_type": "markdown",
      "metadata": {
        "id": "I0OCDIVi92WH"
      },
      "source": [
        "If a network is strongly connected, it is also weakly connected. The converse is not always true, as seen in this example."
      ]
    },
    {
      "cell_type": "markdown",
      "metadata": {
        "id": "_Z8JQcS-92WH"
      },
      "source": [
        "The is_connected function for undirected graphs will raise an error when given a directed graph."
      ]
    },
    {
      "cell_type": "code",
      "execution_count": 45,
      "metadata": {
        "id": "uQalwxiM92WH"
      },
      "outputs": [],
      "source": [
        "#nx.is_connected(D)"
      ]
    },
    {
      "cell_type": "markdown",
      "metadata": {
        "id": "pn0L5sry92WH"
      },
      "source": [
        "In the directed case, instead of nx.connected_components we now have nx.weakly_connected_components and nx.strongly_connected_components:"
      ]
    },
    {
      "cell_type": "code",
      "execution_count": 46,
      "metadata": {
        "id": "Zxp5Ccwl92WH",
        "outputId": "d38a1a24-c5af-4e62-8013-dc00961d4a90"
      },
      "outputs": [
        {
          "data": {
            "text/plain": [
              "[{1, 2, 3, 4, 5, 6}]"
            ]
          },
          "execution_count": 46,
          "metadata": {},
          "output_type": "execute_result"
        }
      ],
      "source": [
        "list(nx.weakly_connected_components(D))"
      ]
    },
    {
      "cell_type": "code",
      "execution_count": 47,
      "metadata": {
        "id": "rPhyvVBD92WH",
        "outputId": "f9f3ad97-d765-4cf3-cdc8-367f3d2e9622"
      },
      "outputs": [
        {
          "data": {
            "text/plain": [
              "[{2, 3, 4, 5, 6}, {1}]"
            ]
          },
          "execution_count": 47,
          "metadata": {},
          "output_type": "execute_result"
        }
      ],
      "source": [
        "list(nx.strongly_connected_components(D))"
      ]
    },
    {
      "cell_type": "markdown",
      "metadata": {
        "id": "8bI5U_m_92WH"
      },
      "source": [
        "# EXERCISE 1"
      ]
    },
    {
      "cell_type": "code",
      "execution_count": 48,
      "metadata": {
        "id": "XYNbyZ0N92WH",
        "outputId": "8e9875c3-0616-4db4-aa2a-c0420e469f9b"
      },
      "outputs": [
        {
          "data": {
            "image/png": "[encoded data removed]",
            "text/plain": [
              "<Figure size 640x480 with 1 Axes>"
            ]
          },
          "metadata": {},
          "output_type": "display_data"
        }
      ],
      "source": [
        "G = nx.Graph()\n",
        "G.add_edges_from([('a', 'b'), ('a', 'd'), ('c', 'd')])\n",
        "nx.draw(G, with_labels=True, node_color='blue', node_size=1600, font_color='white', font_size=16)"
      ]
    },
    {
      "cell_type": "markdown",
      "metadata": {
        "id": "FU4OHR5992WH"
      },
      "source": [
        "Often in the context of trees, a node with degree 1 is called a leaf. Write a function named get_leaves that takes a graph as an argument, loops through the nodes, and returns a list of nodes with degree 1."
      ]
    },
    {
      "cell_type": "code",
      "execution_count": 49,
      "metadata": {
        "id": "GpxLjMdM92WI"
      },
      "outputs": [],
      "source": [
        "def get_leaves(G):\n",
        "    return [node for node in G.nodes if G.degree(node) == 1]"
      ]
    },
    {
      "cell_type": "code",
      "execution_count": 50,
      "metadata": {
        "id": "_epzWai-92WI"
      },
      "outputs": [],
      "source": [
        "assert set(get_leaves(G)) == {'c', 'b'}"
      ]
    },
    {
      "cell_type": "markdown",
      "metadata": {
        "id": "cD5LGT3X92WI"
      },
      "source": [
        "# EXERCISE 2"
      ]
    },
    {
      "cell_type": "code",
      "execution_count": 51,
      "metadata": {
        "id": "SjdryRDn92WI",
        "outputId": "bb47e3e9-c753-45bb-d368-e7103d4e02f0"
      },
      "outputs": [
        {
          "data": {
            "image/png": "[encoded data removed]",
            "text/plain": [
              "<Figure size 640x480 with 1 Axes>"
            ]
          },
          "metadata": {},
          "output_type": "display_data"
        }
      ],
      "source": [
        "friends = [\"George Frank Dennis\", \"Dennis Claire Esther\", \"Claire Frank Alice Esther\", \"Bob Alice\", \"Frank Alice\", \"Alice\", \"Esther\", \"Shelly\"]\n",
        "SG = nx.parse_adjlist(friends)\n",
        "nx.draw(SG, node_size=1500, node_color='lightblue', with_labels=True)"
      ]
    },
    {
      "cell_type": "markdown",
      "metadata": {
        "id": "0g11SFEi92WI"
      },
      "source": [
        "Write a function max_degree that takes a graph as its argument, and returns a 2-tuple with the name and degree of the node with highest degree."
      ]
    },
    {
      "cell_type": "code",
      "execution_count": 52,
      "metadata": {
        "id": "JuJlk8hZ92WI"
      },
      "outputs": [],
      "source": [
        "def max_degree(G):\n",
        "    return max([(node, G.degree(node)) for node in G.nodes], key=lambda x: x[1])"
      ]
    },
    {
      "cell_type": "code",
      "execution_count": 53,
      "metadata": {
        "id": "9oWimyTZ92WI"
      },
      "outputs": [],
      "source": [
        "assert max_degree(SG) == ('Claire', 4)"
      ]
    },
    {
      "cell_type": "markdown",
      "metadata": {
        "id": "swF0mt5T92WI"
      },
      "source": [
        "# EXERCISE 3"
      ]
    },
    {
      "cell_type": "code",
      "execution_count": 54,
      "metadata": {
        "id": "m8NjYcyq92WI",
        "outputId": "a57d5b21-3615-437a-dfa3-2e8e49e92545"
      },
      "outputs": [
        {
          "data": {
            "image/png": "[encoded data removed]",
            "text/plain": [
              "<Figure size 640x480 with 1 Axes>"
            ]
          },
          "metadata": {},
          "output_type": "display_data"
        }
      ],
      "source": [
        "friends = [\"George Frank Dennis\", \"Dennis Claire Esther\", \"Claire Frank Alice Esther\", \"Bob Alice\", \"Frank Alice\", \"Alice\", \"Esther\", \"Shelly\"]\n",
        "SG = nx.parse_adjlist(friends)\n",
        "nx.draw(SG, node_size=1500, node_color='lightblue', with_labels=True)"
      ]
    },
    {
      "cell_type": "markdown",
      "metadata": {
        "id": "v-GbfkVq92WI"
      },
      "source": [
        "Write a function mutual_friends that takes a graph and two nodes as arguments, and returns a list (or set) of nodes that are linked to both given nodes. For example, in the graph SG drawn above,\n",
        "```\n",
        "mutual_friends(SG, 'Alice', 'Claire') == ['Frank']\n",
        "```\n",
        "an empty list or set should be returned in the case where two nodes have no mutual friends, e.g. George and Bob in SG drawn above."
      ]
    },
    {
      "cell_type": "code",
      "execution_count": 55,
      "metadata": {
        "id": "6Bgv7vqs92WI"
      },
      "outputs": [],
      "source": [
        "def mutual_friends(G, node_1, node_2):\n",
        "    return [node for node in G.nodes if G.has_edge(node_1, node) and G.has_edge(node_2, node)]"
      ]
    },
    {
      "cell_type": "code",
      "execution_count": 56,
      "metadata": {
        "id": "DntyokIl92WI"
      },
      "outputs": [],
      "source": [
        "assert mutual_friends(SG, 'Alice', 'Claire') == ['Frank']\n",
        "assert mutual_friends(SG, 'George', 'Bob') == []\n",
        "assert sorted(mutual_friends(SG, 'Claire', 'George')) == ['Dennis', 'Frank']"
      ]
    },
    {
      "cell_type": "markdown",
      "metadata": {
        "id": "HQL7LQ6g92WI"
      },
      "source": [
        "# EXERCISE 4"
      ]
    },
    {
      "cell_type": "code",
      "execution_count": 57,
      "metadata": {
        "id": "V0oAMVot92WI"
      },
      "outputs": [
        {
          "name": "stderr",
          "output_type": "stream",
          "text": [
            "Downloading...\n",
            "From: https://drive.google.com/uc?id=1aA545NhL9eYD7Qn9daTejRzOe2RJXjHp\n",
            "To: c:\\Osamah\\Programming\\Projects\\Python 3\\KAUST_AI_Summer_2024\\Week 2 - Graph Neural Network (GNNs)\\openflights\\openflights_usa.graphml.gz\n",
            "100%|██████████| 31.5k/31.5k [00:00<00:00, 403kB/s]\n"
          ]
        }
      ],
      "source": [
        "import os\n",
        "import gdown\n",
        "url = \"https://drive.google.com/uc?id=1aA545NhL9eYD7Qn9daTejRzOe2RJXjHp\"\n",
        "path = \"openflights\"\n",
        "filename = \"openflights_usa.graphml.gz\"\n",
        "if not os.path.exists(path):\n",
        "    os.makedirs(path, exist_ok=True)\n",
        "    gdown.download(url, os.path.join(path, filename), quiet=False)"
      ]
    },
    {
      "cell_type": "code",
      "execution_count": 58,
      "metadata": {
        "id": "VoMs0eeb92WI"
      },
      "outputs": [],
      "source": [
        "G = nx.read_graphml(os.path.join(path, filename))"
      ]
    },
    {
      "cell_type": "markdown",
      "metadata": {
        "id": "ZIReCeLB92WI"
      },
      "source": [
        "The nodes in this graph are airports, represented by their [IATA codes](https://en.wikipedia.org/wiki/List_of_airports_by_IATA_code:_A); two nodes are connected with an edge if there is a scheduled flight directly connecting these two airports. We'll assume this graph to be undirected since a flight in one direction usually means there is a return flight.\n",
        "\n",
        "Thus this graph has edges\n",
        "```\n",
        "[('HOM', 'ANC'), ('BGM', 'PHL'), ('BGM', 'IAD'), ...]\n",
        "```\n",
        "where ANC is Anchorage, IAD is Washington Dulles, etc.\n",
        "\n",
        "These nodes also have **attributes** associated with them, containing additional information about the airports:"
      ]
    },
    {
      "cell_type": "code",
      "execution_count": 59,
      "metadata": {
        "id": "B25bvWZh92WI",
        "outputId": "cbb05951-a010-4a57-eedc-f239ffb5c1a9"
      },
      "outputs": [
        {
          "data": {
            "text/plain": [
              "{'name': 'Indianapolis International Airport',\n",
              " 'latitude': 39.7173,\n",
              " 'longitude': -86.294403,\n",
              " 'IATA': 'IND'}"
            ]
          },
          "execution_count": 59,
          "metadata": {},
          "output_type": "execute_result"
        }
      ],
      "source": [
        "G.nodes['IND']"
      ]
    },
    {
      "cell_type": "markdown",
      "metadata": {
        "id": "eYXSeGbe92WI"
      },
      "source": [
        "Node attributes are stored as a dictionary, so the values can be accessed individually as such:"
      ]
    },
    {
      "cell_type": "code",
      "execution_count": 60,
      "metadata": {
        "id": "7DwDBk8e92WI",
        "outputId": "97bd555b-a7d4-4bdd-c83d-24cc980e0f58"
      },
      "outputs": [
        {
          "data": {
            "text/plain": [
              "'Indianapolis International Airport'"
            ]
          },
          "execution_count": 60,
          "metadata": {},
          "output_type": "execute_result"
        }
      ],
      "source": [
        "G.nodes['IND']['name']"
      ]
    },
    {
      "cell_type": "markdown",
      "metadata": {
        "id": "g8ayZQME92WJ"
      },
      "source": [
        "Is there a direct flight between Indianapolis and Fairbanks, Alaska (FAI)? A direct flight is one with no intermediate stops."
      ]
    },
    {
      "cell_type": "code",
      "execution_count": 61,
      "metadata": {
        "id": "TKkbZmsi92WJ",
        "outputId": "c446285c-9ea3-4462-918d-25942183b7b9"
      },
      "outputs": [
        {
          "data": {
            "text/plain": [
              "False"
            ]
          },
          "execution_count": 61,
          "metadata": {},
          "output_type": "execute_result"
        }
      ],
      "source": [
        "G.has_edge('IND', 'FAI')"
      ]
    },
    {
      "cell_type": "markdown",
      "metadata": {
        "id": "4-gb1i4N92WJ"
      },
      "source": [
        "# EXERCISE 5"
      ]
    },
    {
      "cell_type": "markdown",
      "metadata": {
        "id": "4Ww08GXq92WJ"
      },
      "source": [
        "If I wanted to fly from Indianapolis to Fairbanks, Alaska what would be an itinerary with the fewest number of flights?"
      ]
    },
    {
      "cell_type": "code",
      "execution_count": 62,
      "metadata": {
        "id": "hu42p1vo92WJ",
        "outputId": "a144431b-3617-4853-c99b-f25d1e536f55"
      },
      "outputs": [
        {
          "data": {
            "text/plain": [
              "['IND', 'BOS', 'SEA', 'FAI']"
            ]
          },
          "execution_count": 62,
          "metadata": {},
          "output_type": "execute_result"
        }
      ],
      "source": [
        "nx.shortest_path(G, 'IND', 'FAI')"
      ]
    },
    {
      "cell_type": "markdown",
      "metadata": {
        "id": "IEmozHCo92WJ"
      },
      "source": [
        "# EXERCISE 6"
      ]
    },
    {
      "cell_type": "markdown",
      "metadata": {
        "id": "HiEIzUvn92WJ"
      },
      "source": [
        "Is it possible to travel from any airport in the US to any other airport in the US, possibly using connecting flights? In other words, does there exist a path in the network between every possible pair of airports?"
      ]
    },
    {
      "cell_type": "code",
      "execution_count": 63,
      "metadata": {
        "id": "bicAmo5z92WJ",
        "outputId": "3809b9a6-7763-4fb3-fe2e-94fda72c2468"
      },
      "outputs": [
        {
          "data": {
            "text/plain": [
              "False"
            ]
          },
          "execution_count": 63,
          "metadata": {},
          "output_type": "execute_result"
        }
      ],
      "source": [
        "nx.is_connected(G)"
      ]
    },
    {
      "cell_type": "code",
      "execution_count": 64,
      "metadata": {
        "id": "_wt3XQTA92WJ",
        "outputId": "45a15416-67fa-4023-e9ac-66bdd07e4b3c"
      },
      "outputs": [
        {
          "data": {
            "text/plain": [
              "3"
            ]
          },
          "execution_count": 64,
          "metadata": {},
          "output_type": "execute_result"
        }
      ],
      "source": [
        "nx.number_connected_components(G)"
      ]
    },
    {
      "cell_type": "code",
      "execution_count": 65,
      "metadata": {
        "id": "9Edw8JOp92WJ",
        "outputId": "31a90f22-4591-417c-a945-ea234d95480a"
      },
      "outputs": [
        {
          "name": "stdout",
          "output_type": "stream",
          "text": [
            "{'ABR', 'ICT', 'SGF', 'PGV', 'HYA', 'GRR', 'ATL', 'CYS', 'PIH', 'EWB', 'ILI', 'RDU', 'TPA', 'ITH', 'BGR', 'ACV', 'SPI', 'BIS', 'MSY', 'SLK', 'CIU', 'ADK', 'DTW', 'BTT', 'MKL', 'PKA', 'KWT', 'ATW', 'BFD', 'DAY', 'CEM', 'HPN', 'YAK', 'BZN', 'CHA', 'MHK', 'TUP', 'BET', 'ACY', 'AKK', 'APF', 'SJC', 'STS', 'BDL', 'DUJ', 'KKH', 'TOL', 'DAL', 'GNV', 'RST', 'ELV', 'LGA', 'LUR', 'PIT', 'PTH', 'ART', 'GRI', 'KPN', 'PBI', 'DHN', 'KLW', 'LIH', 'KPV', 'TOG', 'LNK', 'ALW', 'BWI', 'BFL', 'DFW', 'IPL', 'JBR', 'TUS', 'DEN', 'MOU', 'GDV', 'GST', 'APN', 'ANI', 'AKN', 'ASE', 'BGM', 'CDR', 'SNA', 'TXK', 'MDW', 'AVL', 'JNU', 'HOT', 'LAS', 'MOD', 'FWA', 'LBL', 'PIR', 'CPR', 'ATY', 'MKE', 'CDC', 'FOE', 'BKC', 'WRG', 'MBS', 'EMK', 'PAH', 'MSN', 'MKG', 'MEI', 'PGD', 'AHN', 'EWN', 'TRI', 'TLH', 'MUE', 'PTU', 'STL', 'LFT', 'ESC', 'OGD', 'HUS', 'GCC', 'ADQ', 'CSG', 'GTR', 'MSO', 'PHF', 'BRO', 'GJT', 'SAT', 'CHS', 'ORV', 'LEX', 'EAT', 'CGI', 'VEE', 'HIB', 'EKO', 'SFO', 'FMN', 'FKL', 'OGG', 'CMH', 'CLD', 'MLI', 'PNS', 'BRL', 'GUC', 'MIA', 'BTV', 'LYH', 'WLK', 'SDF', 'RFD', 'KWN', 'KKA', 'ISP', 'TBN', 'RDM', 'ILM', 'WRL', 'CHO', 'ROA', 'HYG', 'RBY', 'RHI', 'TVF', 'BIL', 'MDT', 'ORF', 'EVV', 'ROC', 'BTR', 'ARC', 'OBU', 'RAP', 'FSM', 'MMH', 'OMA', 'SMK', 'ALB', 'AEX', 'LAR', 'SJT', 'SHV', 'HOB', 'AGN', 'LWS', 'CRP', 'HOM', 'PHL', 'COS', 'CRW', 'ROW', 'PUB', 'PVU', 'ERI', 'KAL', 'SVA', 'HNH', 'ILG', 'LSE', 'MBL', 'DLH', 'SGY', 'MLL', 'ABE', 'UNK', 'SCK', 'KFP', 'MYR', 'MCK', 'CKB', 'KLN', 'BTI', 'WSN', 'GCK', 'KYK', 'MLU', 'LBE', 'PSP', 'WNA', 'NME', 'OLF', 'LEB', 'TEB', 'ONT', 'PIP', 'CEZ', 'GRB', 'WBQ', 'BLV', 'PHX', 'BLI', 'SHX', 'MVY', 'OGS', 'AMA', 'XNA', 'TYS', 'IAG', 'CLL', 'COD', 'BHB', 'RIW', 'PDX', 'VPS', 'HHH', 'BFF', 'CDB', 'LAN', 'CAE', 'PSC', 'VCT', 'SHH', 'SNP', 'VDZ', 'MSL', 'SBP', 'BJI', 'SPS', 'OME', 'GFK', 'IND', 'SAF', 'PBG', 'SIT', 'SOW', 'EUG', 'CAK', 'TUL', 'HVR', 'SHG', 'CIK', 'PIZ', 'BHM', 'MRY', 'MTM', 'PRC', 'BOI', 'LUK', 'MEM', 'MWA', 'ANC', 'BUR', 'SLC', 'SKK', 'YUM', 'AVP', 'JAC', 'KSM', 'VAK', 'SHR', 'SEA', 'LNY', 'GPT', 'MGM', 'LCK', 'SMX', 'DIK', 'UST', 'ABL', 'LCH', 'OAK', 'INL', 'FLG', 'MCO', 'GGW', 'JFK', 'PUW', 'JAX', 'JHW', 'AOO', 'ORD', 'DSM', 'SAV', 'SLN', 'MMU', 'ORH', 'SUX', 'EAU', 'EEK', 'PVD', 'VLD', 'GSO', 'RSH', 'NLG', 'AIN', 'ALS', 'PSM', 'KOA', 'MAF', 'GAM', 'MCG', 'HDN', 'SHD', 'MYU', 'KLG', 'HCR', 'FSD', 'CNM', 'MKK', 'FAR', 'MQT', 'CNY', 'ISN', 'GAL', 'PSG', 'SDP', 'CEC', 'MCN', 'TTN', 'PIA', 'MOT', 'HNL', 'HSV', 'AUK', 'RIC', 'ABI', 'EGX', 'JAN', 'ITO', 'SBN', 'DRG', 'SBY', 'RKS', 'KUK', 'FAY', 'MFE', 'DEC', 'DDC', 'OWB', 'NUL', 'MCI', 'EWR', 'CLT', 'KOT', 'ANV', 'TVC', 'ELI', 'CIC', 'MTJ', 'HKB', 'CVG', 'DLG', 'BUF', 'IAD', 'STC', 'PVC', 'BNA', 'LRD', 'LIT', 'KTS', 'KVL', 'FLO', 'OTH', 'ELP', 'RUT', 'BRW', 'SDY', 'KVC', 'LGB', 'GCN', 'GTF', 'IPT', 'TLA', 'FNT', 'LBB', 'CLE', 'HVN', 'IAN', 'GEG', 'GLH', 'PKB', 'AZO', 'GGG', 'KTN', 'STG', 'ATK', 'HNM', 'LMT', 'AIA', 'CID', 'OOK', 'GSP', 'HLN', 'GRK', 'YKM', 'MHT', 'MLY', 'WAA', 'TYR', 'SFB', 'HRO', 'ELD', 'AUS', 'SCE', 'MOB', 'PIB', 'SCM', 'VIS', 'TLJ', 'WTK', 'OAJ', 'EGE', 'OKC', 'PGA', 'MFR', 'MGW', 'MSS', 'WMO', 'DRO', 'RSW', 'ENA', 'IRC', 'LAW', 'COU', 'PDT', 'DAB', 'LWB', 'OTZ', 'EYW', 'FYU', 'HRL', 'HSL', 'YNG', 'TWF', 'SMF', 'IMT', 'BKW', 'CMI', 'PLN', 'MSP', 'BQK', 'SAN', 'DCA', 'PQI', 'AGS', 'HGR', 'HTS', 'ECP', 'UIN', 'HON', 'BTM', 'CDV', 'JST', 'LBF', 'IRK', 'SLQ', 'ABY', 'FLL', 'KWK', 'FAI', 'HOU', 'BPT', 'SCC', 'ALO', 'VEL', 'IGG', 'MCE', 'LAX', 'RDD', 'ACK', 'BOS', 'CWA', 'NUI', 'BRD', 'NIB', 'FCA', 'DBQ', 'AET', 'GLV', 'MLB', 'LAM', 'JHM', 'PIE', 'CYF', 'ELM', 'AZA', 'RNO', 'HNS', 'IDA', 'SYR', 'SRQ', 'ABQ', 'HPB', 'SBA', 'TNC', 'ACT', 'SWF', 'KYU', 'IAH', 'PWM', 'JLN', 'AKP', 'CMX', 'LNS', 'FAT', 'BMI', 'SGU', 'RKD', 'AUG'}\n",
            "{'KQA', 'DUT', 'AKB'}\n",
            "{'FRD', 'CLM', 'BFI', 'ESD'}\n"
          ]
        }
      ],
      "source": [
        "components = list(nx.connected_components(G))\n",
        "print(components[0])\n",
        "print(components[1])\n",
        "print(components[2])"
      ]
    },
    {
      "cell_type": "code",
      "execution_count": null,
      "metadata": {
        "id": "7eSLM44z92WJ"
      },
      "outputs": [],
      "source": []
    },
    {
      "cell_type": "code",
      "execution_count": null,
      "metadata": {
        "id": "yilkmd_D92WJ"
      },
      "outputs": [],
      "source": []
    }
  ],
  "metadata": {
    "colab": {
      "provenance": []
    },
    "kernelspec": {
      "display_name": "Python 3 (ipykernel)",
      "language": "python",
      "name": "python3"
    },
    "language_info": {
      "codemirror_mode": {
        "name": "ipython",
        "version": 3
      },
      "file_extension": ".py",
      "mimetype": "text/x-python",
      "name": "python",
      "nbconvert_exporter": "python",
      "pygments_lexer": "ipython3",
      "version": "3.12.4"
    }
  },
  "nbformat": 4,
  "nbformat_minor": 0
}
