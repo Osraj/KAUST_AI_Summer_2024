{
  "cells": [
    {
      "cell_type": "markdown",
      "id": "b82523e1-4c69-4a52-a820-cfbbfb73f6b6",
      "metadata": {
        "id": "b82523e1-4c69-4a52-a820-cfbbfb73f6b6"
      },
      "source": [
        "This notebook has been inspired by [Q* Learning with FrozenLakev2.ipynb](https://colab.research.google.com/github/simoninithomas/Deep_reinforcement_learning_Course/blob/master/Q_Learning_with_FrozenLakev2.ipynb#scrollTo=Xr9nI6dcQM8I) and [Deep Reinforcement Learning Course](https://huggingface.co/learn/deep-rl-course/unit0/introduction?fw=pt) by Thomas Simonini"
      ]
    },
    {
      "cell_type": "markdown",
      "id": "57f2f350-4c97-4700-9707-184e3cedd16f",
      "metadata": {
        "id": "57f2f350-4c97-4700-9707-184e3cedd16f"
      },
      "source": [
        "### Day 1: Introduction to Reinforcement Learning (RL) and Markov Decision Process (MDP)"
      ]
    },
    {
      "cell_type": "markdown",
      "id": "8ce1582e-d13d-410f-a6d1-dea7df636b59",
      "metadata": {
        "id": "8ce1582e-d13d-410f-a6d1-dea7df636b59"
      },
      "source": [
        "Reinforcement Learning (RL) is a branch of machine learning that focuses on learning optimal actions to take in a given environment to maximize a cumulative reward or return.\n",
        "\n",
        "Markov Decision Process (MDP) is a mathematical framework for modeling decision-making problems in RL. It consists of states, actions, transition probabilities, and rewards.\n"
      ]
    },
    {
      "cell_type": "markdown",
      "id": "faf75453-1877-495b-b1dd-16ba52cc0dbe",
      "metadata": {
        "id": "faf75453-1877-495b-b1dd-16ba52cc0dbe"
      },
      "source": [
        "### OpenAI Gym"
      ]
    },
    {
      "cell_type": "markdown",
      "id": "fecb42a8-324d-4bd4-b3b8-e60b7c911d50",
      "metadata": {
        "id": "fecb42a8-324d-4bd4-b3b8-e60b7c911d50"
      },
      "source": [
        "[OpenAI Gym](https://www.gymlibrary.dev/) is a toolkit for developing and comparing reinforcement learning (RL) algorithms. It consists of a growing suite of environments (from simulated robots to Atari games), and a site for comparing and reproducing results. OpenAI Gym provides a diverse suite of environments that range from easy to difficult and involve many different kinds of data.\n",
        "\n",
        "Creating and Interacting with gym environments is very simple.\n",
        "\n",
        "```\n",
        "import gym\n",
        "env = gym.make(\"CartPole-v1\")\n",
        "observation, info = env.reset(seed=42)\n",
        "\n",
        "for _ in range(1000):\n",
        "    action = env.action_space.sample()\n",
        "    observation, reward, done, truncated, info = env.step(action)\n",
        "\n",
        "    if terminated or truncated:\n",
        "        observation, info = env.reset()\n",
        "env.close()\n",
        "```\n",
        "\n",
        "Following are the definitions of some common terminologies used.\n",
        "\n",
        "**Reset:** Resets the environment to an initial state and returns the initial observation. <br>\n",
        "**Step:** Run one timestep of the environment's dynamics.<br>\n",
        "**Observation:** The observed state of the environment.<br>\n",
        "**Action:** An action provided by the agent.<br>\n",
        "**Reward:** The amount of reward returned as a result of taking the action.<br>\n",
        "**Terminated:** Whether a terminal state (as defined under the MDP of the task) is reached.<br>\n",
        "**Truncated:** Whether a truncation condition outside the scope of the MDP is satisfied. Typically a timelimit, but could also be used to indicate agent physically going out of bounds.<br>\n",
        "**Info:** This contains auxiliary diagnostic information (helpful for debugging, learning, and logging).<br>\n",
        "**Action Space:** This attribute gives the format of valid actions. It is of datatype Space provided by Gym. For example, if the action space is of type Discrete and gives the value Discrete(2), this means there are two valid discrete actions: 0 & 1.<br>\n",
        "**Observation:** This attribute gives the format of valid observations. It is of datatype Space provided by Gym. For example, if the observation space is of type Box and the shape of the object is (4,), this denotes a valid observation will be an array of 4 numbers.<br>\n",
        "\n",
        "Note: Previously, `terminated` and `truncated` used to be merged under one variable `done`. <br>\n",
        "\n",
        "\n",
        "We will use OpenAI Gym for Frozen Lake (2D) and Cart Pole (1D) environments.\n",
        "\n",
        "### Note:\n",
        "\n",
        "OpenAI has launched the Gymnasium library. Gymnasium is the successor to OpenAI Gym, designed to maintain and extend the original framework for reinforcement learning environments. It offers improved support, more active development, and enhanced features while maintaining compatibility with existing Gym-based code. The interface for gymnasium and gym is almost same.\n",
        "\n",
        "Gym itself still exists and is used, as it will be in this demo. However a lot of the tutorials, including the ones you'll find in this course, have been made using gymnasium. This mix of library is to ensure you can worked with both libraries"
      ]
    },
    {
      "cell_type": "markdown",
      "id": "fcdc8ec7-b351-4ca9-9d7f-831c31111ee6",
      "metadata": {
        "id": "fcdc8ec7-b351-4ca9-9d7f-831c31111ee6"
      },
      "source": [
        "# Cart Pole\n",
        "\n",
        "|   |   |\n",
        "|---|---|\n",
        "| Action Space | Discrete(2) |\n",
        "| Observation Shape | (4,) |\n",
        "| Observation High | [4.8   inf 0.42  inf] |\n",
        "| Observation Low | [-4.8   -inf -0.42  -inf] |\n",
        "| Import | `gym.make(\"CartPole-v1\")` |\n",
        "\n",
        "\n",
        "### Description\n",
        "\n",
        "This environment corresponds to the version of the cart-pole problem described by Barto, Sutton, and Anderson in\n",
        "[\"Neuronlike Adaptive Elements That Can Solve Difficult Learning Control Problem\"](https://ieeexplore.ieee.org/document/6313077).\n",
        "A pole is attached by an un-actuated joint to a cart, which moves along a frictionless track.\n",
        "The pendulum is placed upright on the cart and the goal is to balance the pole by applying forces\n",
        " in the left and right direction on the cart.\n",
        "\n",
        "\n",
        "### Action Space\n",
        "\n",
        "The action is a `ndarray` with shape `(1,)` which can take values `{0, 1}` indicating the direction\n",
        " of the fixed force the cart is pushed with.\n",
        "\n",
        "| Num | Action                 |\n",
        "|-----|------------------------|\n",
        "| 0   | Push cart to the left  |\n",
        "| 1   | Push cart to the right |\n",
        "\n",
        "\n",
        "**Note**: The velocity that is reduced or increased by the applied force is not fixed and it depends on the angle\n",
        " the pole is pointing. The center of gravity of the pole varies the amount of energy needed to move the cart underneath it\n",
        "\n",
        "### Observation Space\n",
        "\n",
        "The observation is a `ndarray` with shape `(4,)` with the values corresponding to the following positions and velocities:\n",
        "\n",
        "| Num | Observation           | Min                 | Max               |\n",
        "|-----|-----------------------|---------------------|-------------------|\n",
        "| 0   | Cart Position         | -4.8                | 4.8               |\n",
        "| 1   | Cart Velocity         | -Inf                | Inf               |\n",
        "| 2   | Pole Angle            | ~ -0.418 rad (-24°) | ~ 0.418 rad (24°) |\n",
        "| 3   | Pole Angular Velocity | -Inf                | Inf               |\n",
        "\n",
        "**Note:** While the ranges above denote the possible values for observation space of each element,\n",
        "    it is not reflective of the allowed values of the state space in an unterminated episode. Particularly:\n",
        "-  The cart x-position (index 0) can be take values between `(-4.8, 4.8)`, but the episode terminates\n",
        "   if the cart leaves the `(-2.4, 2.4)` range.\n",
        "-  The pole angle can be observed between  `(-.418, .418)` radians (or **±24°**), but the episode terminates\n",
        "   if the pole angle is not in the range `(-.2095, .2095)` (or **±12°**)\n",
        "\n",
        "### Rewards\n",
        "\n",
        "Since the goal is to keep the pole upright for as long as possible, a reward of `+1` for every step taken,\n",
        "including the termination step, is allotted. The threshold for rewards is 475 for v1.\n",
        "\n",
        "### Starting State\n",
        "\n",
        "All observations are assigned a uniformly random value in `(-0.05, 0.05)`\n",
        "\n",
        "### Episode End\n",
        "\n",
        "The episode ends if any one of the following occurs:\n",
        "\n",
        "1. Termination: Pole Angle is greater than ±12°\n",
        "2. Termination: Cart Position is greater than ±2.4 (center of the cart reaches the edge of the display)\n",
        "3. Truncation: Episode length is greater than 500 (200 for v0)"
      ]
    },
    {
      "cell_type": "markdown",
      "id": "67aebdb6-239c-4555-a8a3-d28e499a5d27",
      "metadata": {
        "id": "67aebdb6-239c-4555-a8a3-d28e499a5d27"
      },
      "source": [
        "Docs/source: https://www.gymlibrary.dev/environments/classic_control/cart_pole/"
      ]
    },
    {
      "cell_type": "markdown",
      "id": "f7188440-8fb8-4ecb-85c9-77fc797ec6f7",
      "metadata": {
        "id": "f7188440-8fb8-4ecb-85c9-77fc797ec6f7"
      },
      "source": [
        "# Policies\n",
        "A policy is a mapping from states to actions. It determines the action to take in each state.\n",
        "\n",
        "In the following code cells, we will define and evaluate different policies for the 1D and 2D environments.\n"
      ]
    },
    {
      "cell_type": "code",
      "execution_count": 1,
      "id": "5ff64163-5a64-41c8-9141-c7bd2eb5e231",
      "metadata": {
        "id": "5ff64163-5a64-41c8-9141-c7bd2eb5e231"
      },
      "outputs": [],
      "source": [
        "import gym\n",
        "from tqdm import tqdm"
      ]
    },
    {
      "cell_type": "code",
      "execution_count": 2,
      "id": "ed784bc8-1f05-4907-9044-9e17cebb2484",
      "metadata": {
        "id": "ed784bc8-1f05-4907-9044-9e17cebb2484",
        "colab": {
          "base_uri": "https://localhost:8080/"
        },
        "outputId": "6bc03a3d-5582-48be-8e2f-63f3651dc93d"
      },
      "outputs": [
        {
          "output_type": "stream",
          "name": "stderr",
          "text": [
            "/usr/local/lib/python3.10/dist-packages/ipykernel/ipkernel.py:283: DeprecationWarning: `should_run_async` will not call `transform_cell` automatically in the future. Please pass the result to `transformed_cell` argument and any exception that happen during thetransform in `preprocessing_exc_tuple` in IPython 7.17 and above.\n",
            "  and should_run_async(code)\n"
          ]
        }
      ],
      "source": [
        "# Function to evaluate a policy in an environment\n",
        "def evaluate_policy(env, policy, num_episodes=1000):\n",
        "    rewards = []\n",
        "    for _ in tqdm(range(num_episodes)):\n",
        "        state = env.reset()\n",
        "        episode_reward = 0\n",
        "        done = False\n",
        "        while not done:\n",
        "            action = policy(state)\n",
        "            next_state, reward, done, info = env.step(action)\n",
        "            episode_reward += reward\n",
        "            state = next_state\n",
        "        rewards.append(episode_reward)\n",
        "    return sum(rewards) / num_episodes"
      ]
    },
    {
      "cell_type": "markdown",
      "id": "cd6291cb-4fa5-46cc-92db-aa4ebc9de0e3",
      "metadata": {
        "id": "cd6291cb-4fa5-46cc-92db-aa4ebc9de0e3"
      },
      "source": [
        "## 1D"
      ]
    },
    {
      "cell_type": "code",
      "execution_count": 3,
      "id": "a9e2042f-3458-4776-912a-8fd0e1917342",
      "metadata": {
        "colab": {
          "base_uri": "https://localhost:8080/"
        },
        "id": "a9e2042f-3458-4776-912a-8fd0e1917342",
        "outputId": "fe8fdedb-bfe4-4b5f-8f1c-41f74accd3f6"
      },
      "outputs": [
        {
          "output_type": "stream",
          "name": "stderr",
          "text": [
            "/usr/local/lib/python3.10/dist-packages/gym/core.py:317: DeprecationWarning: \u001b[33mWARN: Initializing wrapper in old step API which returns one bool instead of two. It is recommended to set `new_step_api=True` to use new step API. This will be the default behaviour in future.\u001b[0m\n",
            "  deprecation(\n",
            "/usr/local/lib/python3.10/dist-packages/gym/wrappers/step_api_compatibility.py:39: DeprecationWarning: \u001b[33mWARN: Initializing environment in old step API which returns one bool instead of two. It is recommended to set `new_step_api=True` to use new step API. This will be the default behaviour in future.\u001b[0m\n",
            "  deprecation(\n"
          ]
        }
      ],
      "source": [
        "# Create the CartPole environment (1D)\n",
        "env_1d = gym.make(\"CartPole-v1\", render_mode=\"rgb_array\")"
      ]
    },
    {
      "cell_type": "code",
      "execution_count": 4,
      "id": "7016617b-1b78-43e5-b874-658bdfb10c0a",
      "metadata": {
        "colab": {
          "base_uri": "https://localhost:8080/"
        },
        "id": "7016617b-1b78-43e5-b874-658bdfb10c0a",
        "outputId": "a3f151ba-2366-4c36-ce17-a2faf65aa9ca"
      },
      "outputs": [
        {
          "output_type": "execute_result",
          "data": {
            "text/plain": [
              "Box([-4.8000002e+00 -3.4028235e+38 -4.1887903e-01 -3.4028235e+38], [4.8000002e+00 3.4028235e+38 4.1887903e-01 3.4028235e+38], (4,), float32)"
            ]
          },
          "metadata": {},
          "execution_count": 4
        }
      ],
      "source": [
        "env_1d.observation_space"
      ]
    },
    {
      "cell_type": "code",
      "execution_count": 5,
      "id": "06aed737-4776-4179-bf90-afe40014fad9",
      "metadata": {
        "colab": {
          "base_uri": "https://localhost:8080/"
        },
        "id": "06aed737-4776-4179-bf90-afe40014fad9",
        "outputId": "35fb2f7a-96e5-4125-e4ef-bddd2b2063ad"
      },
      "outputs": [
        {
          "output_type": "execute_result",
          "data": {
            "text/plain": [
              "(Discrete(2), 2)"
            ]
          },
          "metadata": {},
          "execution_count": 5
        }
      ],
      "source": [
        "env_1d.action_space, env_1d.action_space.n"
      ]
    },
    {
      "cell_type": "code",
      "execution_count": 6,
      "id": "a0b213db-5909-4961-a7f5-8985da6ac40f",
      "metadata": {
        "id": "a0b213db-5909-4961-a7f5-8985da6ac40f"
      },
      "outputs": [],
      "source": [
        "def angle_policy(observation):\n",
        "    angle = observation[2]\n",
        "    action = 0 if angle < 0 else 1\n",
        "    return action"
      ]
    },
    {
      "cell_type": "code",
      "execution_count": 7,
      "id": "2ecf5414-a693-43ab-94f6-1ce10d324d2d",
      "metadata": {
        "colab": {
          "base_uri": "https://localhost:8080/"
        },
        "collapsed": true,
        "id": "2ecf5414-a693-43ab-94f6-1ce10d324d2d",
        "outputId": "5995a0fd-ac1b-4570-c3a4-3ceb0b721293"
      },
      "outputs": [
        {
          "output_type": "stream",
          "name": "stdout",
          "text": [
            "-0.0457251\n",
            "-0.04665466\n",
            "-0.04202596\n",
            "-0.031845078\n",
            "-0.016081225\n",
            "0.005332562\n",
            "0.03249821\n",
            "0.053843655\n",
            "0.06954292\n",
            "0.079736814\n",
            "0.084531054\n",
            "0.08399521\n",
            "0.07816213\n",
            "0.06702797\n"
          ]
        },
        {
          "output_type": "stream",
          "name": "stderr",
          "text": [
            "/usr/local/lib/python3.10/dist-packages/gym/utils/passive_env_checker.py:241: DeprecationWarning: `np.bool8` is a deprecated alias for `np.bool_`.  (Deprecated NumPy 1.24)\n",
            "  if not isinstance(terminated, (bool, np.bool8)):\n"
          ]
        },
        {
          "output_type": "stream",
          "name": "stdout",
          "text": [
            "0.05055242\n",
            "0.028659452\n",
            "0.0012384275\n",
            "-0.031854264\n",
            "-0.07079289\n",
            "-0.104078695\n",
            "-0.1319681\n",
            "-0.15468931\n",
            "-0.17243946\n",
            "-0.18538292\n",
            "-0.19365029\n",
            "-0.19733791\n",
            "-0.19650769\n",
            "-0.19118723\n",
            "-0.18136996\n",
            "-0.16701546\n",
            "-0.14804985\n",
            "-0.12436626\n",
            "-0.09582562\n",
            "-0.06225762\n",
            "-0.023462225\n",
            "0.020788178\n",
            "0.07074572\n",
            "0.114978425\n",
            "0.15381004\n",
            "0.18754293\n"
          ]
        }
      ],
      "source": [
        "done = False\n",
        "state = env_1d.reset()\n",
        "while not done:\n",
        "    action = angle_policy(state)\n",
        "    print(state[2])\n",
        "    next_state, reward, done, info = env_1d.step(action)\n",
        "    state = next_state\n"
      ]
    },
    {
      "cell_type": "code",
      "execution_count": 8,
      "id": "3bfadc97-8fb0-4886-b38d-b8271a731977",
      "metadata": {
        "id": "3bfadc97-8fb0-4886-b38d-b8271a731977"
      },
      "outputs": [],
      "source": [
        "# Define the \"Always Left\" policy\n",
        "def always_left_policy(observation):\n",
        "    return 0  # Action: Push cart to the left\n",
        "\n",
        "# Define the \"Always Right\" policy\n",
        "def always_right_policy(observation):\n",
        "    return 1  # Action: Push cart to the right"
      ]
    },
    {
      "cell_type": "code",
      "execution_count": 9,
      "id": "GwTwUdmui07j",
      "metadata": {
        "colab": {
          "base_uri": "https://localhost:8080/"
        },
        "id": "GwTwUdmui07j",
        "outputId": "117a2f61-de9d-4bee-d2ce-98dac615ef5a"
      },
      "outputs": [
        {
          "output_type": "stream",
          "name": "stderr",
          "text": [
            "100%|██████████| 1000/1000 [03:06<00:00,  5.36it/s]\n"
          ]
        },
        {
          "output_type": "execute_result",
          "data": {
            "text/plain": [
              "42.107"
            ]
          },
          "metadata": {},
          "execution_count": 9
        }
      ],
      "source": [
        "evaluate_policy(env_1d, angle_policy)"
      ]
    },
    {
      "cell_type": "code",
      "execution_count": 10,
      "id": "7ebbf0bd-2981-4978-95e5-6a54752835ab",
      "metadata": {
        "colab": {
          "base_uri": "https://localhost:8080/"
        },
        "id": "7ebbf0bd-2981-4978-95e5-6a54752835ab",
        "outputId": "567fea47-6f1d-41e5-d8c9-4a99fb0ff5c5"
      },
      "outputs": [
        {
          "output_type": "stream",
          "name": "stderr",
          "text": [
            "100%|██████████| 1000/1000 [00:42<00:00, 23.29it/s]\n"
          ]
        },
        {
          "output_type": "execute_result",
          "data": {
            "text/plain": [
              "9.336"
            ]
          },
          "metadata": {},
          "execution_count": 10
        }
      ],
      "source": [
        "evaluate_policy(env_1d, always_left_policy)"
      ]
    },
    {
      "cell_type": "code",
      "execution_count": 11,
      "id": "f28c3bf3-c657-4669-9a4e-3431eeaa2660",
      "metadata": {
        "colab": {
          "base_uri": "https://localhost:8080/"
        },
        "id": "f28c3bf3-c657-4669-9a4e-3431eeaa2660",
        "outputId": "2a020e3a-216f-45da-acb8-f1cd1b13f294"
      },
      "outputs": [
        {
          "output_type": "stream",
          "name": "stderr",
          "text": [
            "100%|██████████| 1000/1000 [00:42<00:00, 23.30it/s]\n"
          ]
        },
        {
          "output_type": "execute_result",
          "data": {
            "text/plain": [
              "9.361"
            ]
          },
          "metadata": {},
          "execution_count": 11
        }
      ],
      "source": [
        "evaluate_policy(env_1d, always_right_policy)"
      ]
    },
    {
      "cell_type": "code",
      "execution_count": 12,
      "id": "93a79c3a-c5e9-4c4d-b95e-338362fe310d",
      "metadata": {
        "id": "93a79c3a-c5e9-4c4d-b95e-338362fe310d"
      },
      "outputs": [],
      "source": [
        "import numpy as np"
      ]
    },
    {
      "cell_type": "code",
      "execution_count": 13,
      "id": "91bd7231-063d-4430-8872-51840d620062",
      "metadata": {
        "id": "91bd7231-063d-4430-8872-51840d620062"
      },
      "outputs": [],
      "source": [
        "def random_policy(observation):\n",
        "    action = np.random.randint(0, 2)\n",
        "    return action"
      ]
    },
    {
      "cell_type": "code",
      "execution_count": 14,
      "id": "dcc26b41-cf9d-4e8b-a950-e9326defa445",
      "metadata": {
        "colab": {
          "base_uri": "https://localhost:8080/"
        },
        "id": "dcc26b41-cf9d-4e8b-a950-e9326defa445",
        "outputId": "398eda63-3a19-4878-98e7-939f4c1901e1"
      },
      "outputs": [
        {
          "output_type": "stream",
          "name": "stderr",
          "text": [
            "100%|██████████| 1000/1000 [01:34<00:00, 10.56it/s]\n"
          ]
        },
        {
          "output_type": "execute_result",
          "data": {
            "text/plain": [
              "22.265"
            ]
          },
          "metadata": {},
          "execution_count": 14
        }
      ],
      "source": [
        "evaluate_policy(env_1d, random_policy)"
      ]
    },
    {
      "cell_type": "markdown",
      "id": "0d5a0543-ec5c-41c1-a821-0c908b8b5488",
      "metadata": {
        "id": "0d5a0543-ec5c-41c1-a821-0c908b8b5488"
      },
      "source": [
        "### Visualization"
      ]
    },
    {
      "cell_type": "code",
      "execution_count": 15,
      "id": "6aa462a4-0b39-49f3-a671-9127841be765",
      "metadata": {
        "id": "6aa462a4-0b39-49f3-a671-9127841be765"
      },
      "outputs": [],
      "source": [
        "# For visualization\n",
        "from gym.wrappers.monitoring import video_recorder\n",
        "from IPython.display import HTML\n",
        "from IPython import display\n",
        "import glob\n",
        "import base64, io, os\n",
        "\n",
        "os.environ['SDL_VIDEODRIVER']='dummy'"
      ]
    },
    {
      "cell_type": "code",
      "execution_count": 16,
      "id": "3aea3f97-6e6c-4b84-b6a4-29d376313b8e",
      "metadata": {
        "id": "3aea3f97-6e6c-4b84-b6a4-29d376313b8e"
      },
      "outputs": [],
      "source": [
        "os.makedirs(\"video\", exist_ok=True)\n",
        "\n",
        "def show_video(env_name):\n",
        "    mp4list = glob.glob('video/*.mp4')\n",
        "    if len(mp4list) > 0:\n",
        "        mp4 = 'video/{}.mp4'.format(env_name)\n",
        "        video = io.open(mp4, 'r+b').read()\n",
        "        encoded = base64.b64encode(video)\n",
        "        display.display(HTML(data='''<video alt=\"test\" autoplay\n",
        "                loop controls style=\"height: 400px;\">\n",
        "                <source src=\"data:video/mp4;base64,{0}\" type=\"video/mp4\" />\n",
        "             </video>'''.format(encoded.decode('ascii'))))\n",
        "    else:\n",
        "        print(\"Could not find video\")\n",
        "\n",
        "def show_video_of_model(env_name, env, policy, max_steps=10000, verbose=0):\n",
        "    vid = video_recorder.VideoRecorder(env, path=\"video/{}.mp4\".format(env_name))\n",
        "    state = env.reset()\n",
        "    done = False\n",
        "    for t in tqdm(range(max_steps)):\n",
        "        vid.capture_frame()\n",
        "        action = policy(state)\n",
        "        next_state, reward, done, info = env.step(action)\n",
        "        if verbose:\n",
        "            print(f\"state: {state}, action: {action}\",next_state, reward, done)\n",
        "        state = next_state\n",
        "        if done:\n",
        "            break\n",
        "    vid.close()\n",
        "    env.close()"
      ]
    },
    {
      "cell_type": "code",
      "execution_count": 17,
      "id": "b19557b0-9fb4-4d0f-af14-6a90dda1245e",
      "metadata": {
        "colab": {
          "base_uri": "https://localhost:8080/"
        },
        "id": "b19557b0-9fb4-4d0f-af14-6a90dda1245e",
        "outputId": "77ded2ab-bdbd-4006-c7d7-cbf805e03304"
      },
      "outputs": [
        {
          "output_type": "stream",
          "name": "stderr",
          "text": [
            "/usr/local/lib/python3.10/dist-packages/gym/wrappers/monitoring/video_recorder.py:101: DeprecationWarning: \u001b[33mWARN: <class 'gym.wrappers.monitoring.video_recorder.VideoRecorder'> is marked as deprecated and will be removed in the future.\u001b[0m\n",
            "  logger.deprecation(\n",
            "  0%|          | 38/10000 [00:01<05:57, 27.88it/s]\n"
          ]
        }
      ],
      "source": [
        "show_video_of_model(\"CartPole-v1\", env_1d, angle_policy)"
      ]
    },
    {
      "cell_type": "code",
      "execution_count": 18,
      "id": "2d149343-18ee-40f9-ad41-69ba99dc761b",
      "metadata": {
        "colab": {
          "base_uri": "https://localhost:8080/",
          "height": 477
        },
        "id": "2d149343-18ee-40f9-ad41-69ba99dc761b",
        "outputId": "b5e9a56c-cfbf-4d57-d77d-857bec293b2f"
      },
      "outputs": [
        {
          "output_type": "stream",
          "name": "stderr",
          "text": [
            "/usr/local/lib/python3.10/dist-packages/ipykernel/ipkernel.py:283: DeprecationWarning: `should_run_async` will not call `transform_cell` automatically in the future. Please pass the result to `transformed_cell` argument and any exception that happen during thetransform in `preprocessing_exc_tuple` in IPython 7.17 and above.\n",
            "  and should_run_async(code)\n"
          ]
        },
        {
          "output_type": "display_data",
          "data": {
            "text/plain": [
              "<IPython.core.display.HTML object>"
            ],
            "text/html": [
              "<video alt=\"test\" autoplay\n",
              "                loop controls style=\"height: 400px;\">\n",
              "                <source src=\"data:video/mp4;base64,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\" type=\"video/mp4\" />\n",
              "             </video>"
            ]
          },
          "metadata": {}
        }
      ],
      "source": [
        "show_video(\"CartPole-v1\")"
      ]
    },
    {
      "cell_type": "markdown",
      "id": "d11d6e57-b055-45e5-83c9-99ac3d39cde4",
      "metadata": {
        "id": "d11d6e57-b055-45e5-83c9-99ac3d39cde4"
      },
      "source": [
        "## Frozen Lake"
      ]
    },
    {
      "cell_type": "markdown",
      "id": "6be61d3f-a188-4377-b944-a9b4ee06a3d1",
      "metadata": {
        "id": "6be61d3f-a188-4377-b944-a9b4ee06a3d1"
      },
      "source": [
        "Frozen lake is a toy text environment involves crossing a frozen lake from start to goal without falling into any holes by walking over the frozen lake. <br>\n",
        "\n",
        "We can also set the lake to be slippery so that the agent does not always move in the intended direction. \\but here, we will only look at the non-slippery case. But you are welcome to try the slippery one.<br>\n",
        "\n",
        "You can read more about the environment [here](https://gymnasium.farama.org/environments/toy_text/frozen_lake/).\n",
        "\n",
        "![Frozen Lake](https://gymnasium.farama.org/_images/frozen_lake.gif)\n"
      ]
    },
    {
      "cell_type": "markdown",
      "id": "1221d41e-7952-431f-b0b5-54a2f05b3bef",
      "metadata": {
        "id": "1221d41e-7952-431f-b0b5-54a2f05b3bef"
      },
      "source": [
        "|   |   |\n",
        "|---|---|\n",
        "| Action Space | Discrete(4) |\n",
        "| Observation Space | Discrete(16) |\n",
        "| Import | `gym.make(\"FrozenLake-v1\")` |\n",
        "\n",
        "\n",
        "Frozen lake involves crossing a frozen lake from Start(S) to Goal(G) without falling into any Holes(H)\n",
        "by walking over the Frozen(F) lake.\n",
        "The agent may not always move in the intended direction due to the slippery nature of the frozen lake.\n",
        "\n",
        "\n",
        "### Action Space\n",
        "The agent takes a 1-element vector for actions.\n",
        "The action space is `(dir)`, where `dir` decides direction to move in which can be:\n",
        "\n",
        "- 0: LEFT\n",
        "- 1: DOWN\n",
        "- 2: RIGHT\n",
        "- 3: UP\n",
        "\n",
        "### Observation Space\n",
        "The observation is a value representing the agent's current position as\n",
        "current_row * nrows + current_col (where both the row and col start at 0).\n",
        "For example, the goal position in the 4x4 map can be calculated as follows: 3 * 4 + 3 = 15.\n",
        "The number of possible observations is dependent on the size of the map.\n",
        "For example, the 4x4 map has 16 possible observations.\n",
        "\n",
        "### Rewards\n",
        "\n",
        "Reward schedule:\n",
        "- Reach goal(G): +1\n",
        "- Reach hole(H): 0\n",
        "- Reach frozen(F): 0\n",
        "\n",
        "### Arguments\n",
        "\n",
        "```\n",
        "gym.make('FrozenLake-v1', desc=None, map_name=\"4x4\", is_slippery=True)\n",
        "```\n",
        "\n",
        "`desc`: Used to specify custom map for frozen lake. For example,\n",
        "\n",
        "    desc=[\"SFFF\", \"FHFH\", \"FFFH\", \"HFFG\"].\n",
        "\n",
        "    A random generated map can be specified by calling the function `generate_random_map`. For example,\n",
        "\n",
        "    ```\n",
        "    from gym.envs.toy_text.frozen_lake import generate_random_map\n",
        "\n",
        "    gym.make('FrozenLake-v1', desc=generate_random_map(size=8))\n",
        "    ```\n",
        "\n",
        "`map_name`: ID to use any of the preloaded maps.\n",
        "\n",
        "    \"4x4\":[\n",
        "        \"SFFF\",\n",
        "        \"FHFH\",\n",
        "        \"FFFH\",\n",
        "        \"HFFG\"\n",
        "        ]\n",
        "\n",
        "    \"8x8\": [\n",
        "        \"SFFFFFFF\",\n",
        "        \"FFFFFFFF\",\n",
        "        \"FFFHFFFF\",\n",
        "        \"FFFFFHFF\",\n",
        "        \"FFFHFFFF\",\n",
        "        \"FHHFFFHF\",\n",
        "        \"FHFFHFHF\",\n",
        "        \"FFFHFFFG\",\n",
        "    ]\n",
        "\n",
        "`is_slippery`: True/False. If True will move in intended direction with\n",
        "probability of 1/3 else will move in either perpendicular direction with\n",
        "equal probability of 1/3 in both directions.\n",
        "\n",
        "    For example, if action is left and is_slippery is True, then:\n",
        "    - P(move left)=1/3\n",
        "    - P(move up)=1/3\n",
        "    - P(move down)=1/3\n"
      ]
    },
    {
      "cell_type": "code",
      "execution_count": 19,
      "id": "1039715f-b1e4-4e9f-b90e-1ed8207a2ef5",
      "metadata": {
        "colab": {
          "base_uri": "https://localhost:8080/"
        },
        "id": "1039715f-b1e4-4e9f-b90e-1ed8207a2ef5",
        "outputId": "3d1f75c3-6ee6-44b0-8397-ad99c99712ef"
      },
      "outputs": [
        {
          "output_type": "stream",
          "name": "stderr",
          "text": [
            "/usr/local/lib/python3.10/dist-packages/gym/core.py:317: DeprecationWarning: \u001b[33mWARN: Initializing wrapper in old step API which returns one bool instead of two. It is recommended to set `new_step_api=True` to use new step API. This will be the default behaviour in future.\u001b[0m\n",
            "  deprecation(\n",
            "/usr/local/lib/python3.10/dist-packages/gym/wrappers/step_api_compatibility.py:39: DeprecationWarning: \u001b[33mWARN: Initializing environment in old step API which returns one bool instead of two. It is recommended to set `new_step_api=True` to use new step API. This will be the default behaviour in future.\u001b[0m\n",
            "  deprecation(\n"
          ]
        }
      ],
      "source": [
        "env_2d = gym.make(\"FrozenLake-v1\", is_slippery=False, render_mode=\"rgb_array\")"
      ]
    },
    {
      "cell_type": "code",
      "execution_count": 20,
      "id": "24ed0f69-99db-46ac-8690-b69867c3ef6a",
      "metadata": {
        "colab": {
          "base_uri": "https://localhost:8080/"
        },
        "id": "24ed0f69-99db-46ac-8690-b69867c3ef6a",
        "outputId": "003a6265-ef43-45c4-e4d4-e145aee423e3"
      },
      "outputs": [
        {
          "output_type": "execute_result",
          "data": {
            "text/plain": [
              "Discrete(16)"
            ]
          },
          "metadata": {},
          "execution_count": 20
        }
      ],
      "source": [
        "env_2d.observation_space"
      ]
    },
    {
      "cell_type": "code",
      "execution_count": 21,
      "id": "742362b9-0a62-4b2a-8547-ca5c849afd7b",
      "metadata": {
        "colab": {
          "base_uri": "https://localhost:8080/"
        },
        "id": "742362b9-0a62-4b2a-8547-ca5c849afd7b",
        "outputId": "530dc4be-5a97-426f-b4a4-ffbd2a850e4d"
      },
      "outputs": [
        {
          "output_type": "execute_result",
          "data": {
            "text/plain": [
              "Discrete(4)"
            ]
          },
          "metadata": {},
          "execution_count": 21
        }
      ],
      "source": [
        "env_2d.action_space"
      ]
    },
    {
      "cell_type": "code",
      "execution_count": 22,
      "id": "159d9ffa-ba01-4deb-8fd9-8a47dcb6f21b",
      "metadata": {
        "id": "159d9ffa-ba01-4deb-8fd9-8a47dcb6f21b"
      },
      "outputs": [],
      "source": [
        "# Define the \"Always Left\" policy\n",
        "def always_left_policy(observation):\n",
        "    return 0  # Action: Move left\n",
        "\n",
        "# Define the \"Always Right\" policy\n",
        "def always_right_policy(observation):\n",
        "    return 2  # Action: Move right\n",
        "\n",
        "def random_policy(observation):\n",
        "    return np.random.randint(0, 4)"
      ]
    },
    {
      "cell_type": "code",
      "execution_count": 23,
      "id": "e37a8169-b7a9-4e72-8a05-d49e6a796630",
      "metadata": {
        "colab": {
          "base_uri": "https://localhost:8080/"
        },
        "id": "e37a8169-b7a9-4e72-8a05-d49e6a796630",
        "outputId": "523a09ed-be66-4e90-84ef-ec61a286bab2"
      },
      "outputs": [
        {
          "output_type": "stream",
          "name": "stderr",
          "text": [
            "\r  0%|          | 0/1000 [00:00<?, ?it/s]/usr/local/lib/python3.10/dist-packages/gym/utils/passive_env_checker.py:241: DeprecationWarning: `np.bool8` is a deprecated alias for `np.bool_`.  (Deprecated NumPy 1.24)\n",
            "  if not isinstance(terminated, (bool, np.bool8)):\n",
            "100%|██████████| 1000/1000 [02:21<00:00,  7.08it/s]\n"
          ]
        },
        {
          "output_type": "execute_result",
          "data": {
            "text/plain": [
              "0.0"
            ]
          },
          "metadata": {},
          "execution_count": 23
        }
      ],
      "source": [
        "evaluate_policy(env_2d, always_left_policy)"
      ]
    },
    {
      "cell_type": "code",
      "execution_count": 24,
      "id": "74c95ee2-5a97-4b59-b8ca-2757f3107b6b",
      "metadata": {
        "colab": {
          "base_uri": "https://localhost:8080/"
        },
        "id": "74c95ee2-5a97-4b59-b8ca-2757f3107b6b",
        "outputId": "b771a98f-568e-4d82-bb19-6a86e00be983"
      },
      "outputs": [
        {
          "output_type": "stream",
          "name": "stderr",
          "text": [
            "100%|██████████| 1000/1000 [02:18<00:00,  7.23it/s]\n"
          ]
        },
        {
          "output_type": "execute_result",
          "data": {
            "text/plain": [
              "0.0"
            ]
          },
          "metadata": {},
          "execution_count": 24
        }
      ],
      "source": [
        "evaluate_policy(env_2d, always_right_policy)"
      ]
    },
    {
      "cell_type": "code",
      "execution_count": 25,
      "id": "3f637ef7-7040-484a-8e4b-b405dcbd4881",
      "metadata": {
        "colab": {
          "base_uri": "https://localhost:8080/"
        },
        "id": "3f637ef7-7040-484a-8e4b-b405dcbd4881",
        "outputId": "8179a6bb-86fe-4414-b9c4-fa41af60a21c"
      },
      "outputs": [
        {
          "output_type": "stream",
          "name": "stderr",
          "text": [
            "100%|██████████| 1000/1000 [00:12<00:00, 82.53it/s]\n"
          ]
        },
        {
          "output_type": "execute_result",
          "data": {
            "text/plain": [
              "0.019"
            ]
          },
          "metadata": {},
          "execution_count": 25
        }
      ],
      "source": [
        "evaluate_policy(env_2d, random_policy)"
      ]
    },
    {
      "cell_type": "code",
      "execution_count": 26,
      "id": "7cad6ced-1080-4dcb-812d-b5a998a397ce",
      "metadata": {
        "id": "7cad6ced-1080-4dcb-812d-b5a998a397ce"
      },
      "outputs": [],
      "source": [
        "# Define the Position-Based Policy\n",
        "def position_based_policy(observation):\n",
        "    nrows, ncols = env_2d.desc.shape\n",
        "    goal_position = nrows * ncols - 1  # Calculate the goal position\n",
        "\n",
        "    current_row = observation // ncols\n",
        "    current_col = observation % ncols\n",
        "\n",
        "    if current_col < ncols - 1:\n",
        "        return 2  # Move right\n",
        "    elif current_row < nrows - 1:\n",
        "        return 1  # Move down\n",
        "    elif current_col > 0:\n",
        "        return 0  # Move left\n",
        "    else:\n",
        "        return 3  # Move up (towards the goal)"
      ]
    },
    {
      "cell_type": "code",
      "execution_count": 27,
      "id": "e9cbd62c-f547-4cec-a61b-f0cab81f7ec6",
      "metadata": {
        "colab": {
          "base_uri": "https://localhost:8080/"
        },
        "id": "e9cbd62c-f547-4cec-a61b-f0cab81f7ec6",
        "outputId": "c90406fc-0a55-4527-8c8e-367d81ffc190"
      },
      "outputs": [
        {
          "output_type": "stream",
          "name": "stderr",
          "text": [
            "100%|██████████| 1000/1000 [00:06<00:00, 147.03it/s]\n"
          ]
        },
        {
          "output_type": "execute_result",
          "data": {
            "text/plain": [
              "0.0"
            ]
          },
          "metadata": {},
          "execution_count": 27
        }
      ],
      "source": [
        "evaluate_policy(env_2d, position_based_policy)"
      ]
    },
    {
      "cell_type": "code",
      "execution_count": 28,
      "id": "70bf7b17-68a1-4f4b-be7a-d1233bab4740",
      "metadata": {
        "id": "70bf7b17-68a1-4f4b-be7a-d1233bab4740"
      },
      "outputs": [],
      "source": [
        "# Define the Position-Based Policy\n",
        "def naive_position_based_policy(observation):\n",
        "    nrows, ncols = env_2d.desc.shape\n",
        "    goal_position = nrows * ncols - 1  # Calculate the goal position\n",
        "\n",
        "    current_row = observation // ncols\n",
        "    current_col = observation % ncols\n",
        "\n",
        "    if current_col < ncols - 1:\n",
        "        return 2  # Move right\n",
        "    elif current_row < nrows - 1:\n",
        "        return 1  # Move down\n",
        "    elif current_col > 0:\n",
        "        return 0  # Move left\n",
        "    else:\n",
        "        return 3  # Move up (towards the goal)"
      ]
    },
    {
      "cell_type": "code",
      "execution_count": 29,
      "id": "2vAhynrF4koG",
      "metadata": {
        "colab": {
          "base_uri": "https://localhost:8080/"
        },
        "id": "2vAhynrF4koG",
        "outputId": "663cb828-d8ae-4776-8ea7-9bfa929873e6"
      },
      "outputs": [
        {
          "output_type": "stream",
          "name": "stderr",
          "text": [
            "100%|██████████| 1000/1000 [00:07<00:00, 137.98it/s]\n"
          ]
        },
        {
          "output_type": "execute_result",
          "data": {
            "text/plain": [
              "0.0"
            ]
          },
          "metadata": {},
          "execution_count": 29
        }
      ],
      "source": [
        "evaluate_policy(env_2d, naive_position_based_policy)"
      ]
    },
    {
      "cell_type": "code",
      "execution_count": 30,
      "id": "f82420b1-c24b-4e8f-a3fd-9f9ca36a1380",
      "metadata": {
        "id": "f82420b1-c24b-4e8f-a3fd-9f9ca36a1380"
      },
      "outputs": [],
      "source": [
        "def position_based_policy2(observation):\n",
        "    nrows, ncols = env_2d.desc.shape\n",
        "    goal_position = nrows * ncols - 1  # Calculate the goal position\n",
        "\n",
        "    current_row = observation // ncols\n",
        "    current_col = observation % ncols\n",
        "\n",
        "    if current_col < ncols - 1 and env_2d.desc[current_row, current_col + 1] != b'H':\n",
        "        return 2  # Move right\n",
        "    elif current_row < nrows - 1 and env_2d.desc[current_row + 1, current_col] != b'H':\n",
        "        return 1  # Move down\n",
        "    elif current_col > 0 and env_2d.desc[current_row, current_col - 1] != b'H':\n",
        "        return 0  # Move left\n",
        "    else:\n",
        "        return 3  # Move up (towards the goal)"
      ]
    },
    {
      "cell_type": "code",
      "execution_count": 31,
      "id": "Ptee2bHD4pSC",
      "metadata": {
        "colab": {
          "base_uri": "https://localhost:8080/"
        },
        "id": "Ptee2bHD4pSC",
        "outputId": "d67babc5-f9fb-41ae-8814-53ecd5300fc1"
      },
      "outputs": [
        {
          "output_type": "stream",
          "name": "stderr",
          "text": [
            "100%|██████████| 1000/1000 [02:21<00:00,  7.06it/s]\n"
          ]
        },
        {
          "output_type": "execute_result",
          "data": {
            "text/plain": [
              "0.0"
            ]
          },
          "metadata": {},
          "execution_count": 31
        }
      ],
      "source": [
        "evaluate_policy(env_2d, position_based_policy2)"
      ]
    },
    {
      "cell_type": "code",
      "execution_count": 32,
      "id": "ae74b7d3-ffdf-484a-99ca-e8221ea699b3",
      "metadata": {
        "id": "ae74b7d3-ffdf-484a-99ca-e8221ea699b3"
      },
      "outputs": [],
      "source": [
        "def smart_random_policy(observation):\n",
        "    nrows, ncols = env_2d.desc.shape\n",
        "    goal_position = nrows * ncols - 1  # Calculate the goal position\n",
        "\n",
        "    current_row = observation // ncols\n",
        "    current_col = observation % ncols\n",
        "\n",
        "    valid_move = False\n",
        "    while not valid_move:\n",
        "        action = np.random.randint(0, 4)  # Take a random move\n",
        "        if action == 0:  # Move left\n",
        "            new_col = max(current_col - 1, 0)\n",
        "            new_row = current_row\n",
        "        elif action == 1:  # Move down\n",
        "            new_col = current_col\n",
        "            new_row = min(current_row + 1, env_2d.env.nrow - 1)\n",
        "        elif action == 2:  # Move right\n",
        "            new_col = min(current_col + 1, env_2d.env.ncol - 1)\n",
        "            new_row = current_row\n",
        "        else:  # Move up\n",
        "            new_col = current_col\n",
        "            new_row = max(current_row - 1, 0)\n",
        "\n",
        "        next_state = new_row * env_2d.env.ncol + new_col\n",
        "        if env_2d.desc.flatten()[next_state] != b'H':  # Check if the move leads to a hole\n",
        "            valid_move = True\n",
        "    return action"
      ]
    },
    {
      "cell_type": "code",
      "execution_count": 33,
      "id": "80ba3c17-d2dd-4716-b6c9-21a4b4a43987",
      "metadata": {
        "colab": {
          "base_uri": "https://localhost:8080/"
        },
        "id": "80ba3c17-d2dd-4716-b6c9-21a4b4a43987",
        "outputId": "78bf93dc-e813-4dd1-d797-d061ec3a1d48"
      },
      "outputs": [
        {
          "output_type": "stream",
          "name": "stderr",
          "text": [
            "100%|██████████| 1000/1000 [01:26<00:00, 11.54it/s]\n"
          ]
        },
        {
          "output_type": "execute_result",
          "data": {
            "text/plain": [
              "0.736"
            ]
          },
          "metadata": {},
          "execution_count": 33
        }
      ],
      "source": [
        "evaluate_policy(env_2d, smart_random_policy)"
      ]
    },
    {
      "cell_type": "markdown",
      "id": "3yJHuRXv9SMw",
      "metadata": {
        "id": "3yJHuRXv9SMw"
      },
      "source": [
        "## Exercise\n",
        "\n",
        "Try creating a \"smart\" policy\n",
        "\n",
        "<details>\n",
        "  <summary>Hint</summary>\n",
        "  Try to calculate the Manhattan distance to the goal and select the action that minimizes this distance.\n",
        "\n",
        "  <details>\n",
        "    <summary>Show Python code</summary>\n",
        "    \n",
        "      def smart_goal_oriented_policy(observation):\n",
        "            nrows, ncols = env_2d.desc.shape\n",
        "            goal_position = nrows * ncols - 1  # Calculate the goal position\n",
        "\n",
        "            current_row = observation // ncols\n",
        "            current_col = observation % ncols\n",
        "            goal_row = goal_position // ncols\n",
        "            goal_col = goal_position % ncols\n",
        "\n",
        "\n",
        "            valid_moves = []\n",
        "\n",
        "            # Check all possible actions and select the ones that move closer to the goal\n",
        "            if current_col > 0:\n",
        "                new_col = current_col - 1\n",
        "                new_row = current_row\n",
        "                next_state = new_row * ncols + new_col\n",
        "                if env_2d.desc.flatten()[next_state] != b'H':  # Check if the move leads to a hole\n",
        "                    valid_moves.append((0, manhattan_distance(new_row, new_col)))  # Move left\n",
        "\n",
        "            if current_row < nrows - 1:\n",
        "                new_col = current_col\n",
        "                new_row = current_row + 1\n",
        "                next_state = new_row * ncols + new_col\n",
        "                if env_2d.desc.flatten()[next_state] != b'H':  # Check if the move leads to a hole\n",
        "                    valid_moves.append((1, manhattan_distance(new_row, new_col)))  # Move down\n",
        "\n",
        "            if current_col < ncols - 1:\n",
        "                new_col = current_col + 1\n",
        "                new_row = current_row\n",
        "                next_state = new_row * ncols + new_col\n",
        "                if env_2d.desc.flatten()[next_state] != b'H':  # Check if the move leads to a hole\n",
        "                    valid_moves.append((2, manhattan_distance(new_row, new_col)))  # Move right\n",
        "\n",
        "            if current_row > 0:\n",
        "                new_col = current_col\n",
        "                new_row = current_row - 1\n",
        "                next_state = new_row * ncols + new_col\n",
        "                if env_2d.desc.flatten()[next_state] != b'H':  # Check if the move leads to a hole\n",
        "                    valid_moves.append((3, manhattan_distance(new_row, new_col)))  # Move up\n",
        "\n",
        "            # Choose the action that minimizes the Manhattan distance to the goal\n",
        "            if valid_moves:\n",
        "                action = min(valid_moves, key=lambda x: x[1])[0]\n",
        "            else:\n",
        "                action = np.random.randint(0, 4)  # If no valid move, take a random move\n",
        "\n",
        "            return action\n",
        "\n",
        "  </details>\n",
        "</details>\n"
      ]
    },
    {
      "cell_type": "code",
      "execution_count": 34,
      "id": "YuHoJ8ORH1uW",
      "metadata": {
        "id": "YuHoJ8ORH1uW"
      },
      "outputs": [],
      "source": [
        "# Calculating the Manhattan distance\n",
        "def manhattan_distance(row, col):\n",
        "    nrows, ncols = env_2d.desc.shape\n",
        "    goal_position = nrows * ncols - 1\n",
        "    goal_row = goal_position // ncols\n",
        "    goal_col = goal_position % ncols\n",
        "    return abs(row - goal_row) + abs(col - goal_col)"
      ]
    },
    {
      "cell_type": "code",
      "execution_count": 48,
      "id": "lJZlyhLM5VvT",
      "metadata": {
        "id": "lJZlyhLM5VvT"
      },
      "outputs": [],
      "source": [
        "import random\n",
        "def smart_goal_oriented_policy(observation):\n",
        "    #TODO Complete this, however you want to do it\n",
        "    nrows, ncols = env_2d.desc.shape\n",
        "    goal_position = nrows * ncols - 1  # Calculate the goal position\n",
        "\n",
        "    current_row = observation // ncols # Calculate the current row\n",
        "    current_col = observation % ncols # Calculate the current column\n",
        "\n",
        "    goal_row = goal_position // ncols # Calculate the goal row\n",
        "    goal_col = goal_position % ncols # Calculate the goal column\n",
        "\n",
        "    valid_moves = []\n",
        "\n",
        "    # Check all possible actions and select the ones that move closer to the goal\n",
        "    if current_col > 0: # Checks if there is a possible move on the left\n",
        "        new_col = current_col - 1\n",
        "        new_row = current_row\n",
        "        next_state = new_row * ncols + new_col\n",
        "        if env_2d.desc.flatten()[next_state] != b'H':  # Check if the move leads to a hole\n",
        "          valid_moves.append((0, manhattan_distance(new_row, new_col)))  # Move left\n",
        "\n",
        "    if current_row > 0: # Checks if there is a possible move on the up\n",
        "        new_col = current_col\n",
        "        new_row = current_row - 1\n",
        "        next_state = new_row * ncols + new_col\n",
        "        if env_2d.desc.flatten()[next_state] != b'H':  # Check if the move leads to a hole\n",
        "          valid_moves.append((3, manhattan_distance(new_row, new_col)))  # Move up\n",
        "\n",
        "    if current_col < ncols - 1: # Checks if there is a possible move on the right\n",
        "        new_col = current_col + 1\n",
        "        new_row = current_row\n",
        "        next_state = new_row * ncols + new_col\n",
        "        if env_2d.desc.flatten()[next_state] != b'H':  # Check if the move leads to a hole\n",
        "          valid_moves.append((2, manhattan_distance(new_row, new_col)))  # Move right\n",
        "\n",
        "    if current_row < nrows - 1: # Checks if there is a possible move down\n",
        "        new_col = current_col\n",
        "        new_row = current_row + 1\n",
        "        next_state = new_row * ncols + new_col\n",
        "        if env_2d.desc.flatten()[next_state] != b'H':  # Check if the move leads to a hole\n",
        "          valid_moves.append((1, manhattan_distance(new_row, new_col)))  # Move down\n",
        "\n",
        "    # Choose the action that minimizes the Manhattan distance to the goal\n",
        "    if valid_moves:\n",
        "        random.shuffle(valid_moves)\n",
        "        action = min(valid_moves, key=lambda x: x[1])[0]  # Choose the action that minimizes the Manhattan distance to the goal, shuffle to prevent stucking\n",
        "    else:\n",
        "        action = np.random.randint(0, 4)  # If no valid move, take a random move\n",
        "\n",
        "    return action"
      ]
    },
    {
      "cell_type": "code",
      "execution_count": 49,
      "id": "rlJBY51Y5WTH",
      "metadata": {
        "colab": {
          "base_uri": "https://localhost:8080/"
        },
        "id": "rlJBY51Y5WTH",
        "outputId": "4b2f357e-d6fc-4222-f6e2-544fa832683e"
      },
      "outputs": [
        {
          "output_type": "stream",
          "name": "stderr",
          "text": [
            "100%|██████████| 1000/1000 [00:12<00:00, 81.88it/s]\n"
          ]
        },
        {
          "output_type": "execute_result",
          "data": {
            "text/plain": [
              "1.0"
            ]
          },
          "metadata": {},
          "execution_count": 49
        }
      ],
      "source": [
        "env_2d.reset()\n",
        "evaluate_policy(env_2d, smart_goal_oriented_policy)"
      ]
    },
    {
      "cell_type": "code",
      "source": [
        "l = [1,2,3]\n",
        "print(l)\n",
        "random.shuffle(l)\n",
        "print(l)"
      ],
      "metadata": {
        "colab": {
          "base_uri": "https://localhost:8080/"
        },
        "id": "JmkvPZhj9hlF",
        "outputId": "50b703c6-8c41-4006-b755-4b5db413ea28"
      },
      "id": "JmkvPZhj9hlF",
      "execution_count": 47,
      "outputs": [
        {
          "output_type": "stream",
          "name": "stdout",
          "text": [
            "[1, 2, 3]\n",
            "[1, 3, 2]\n"
          ]
        },
        {
          "output_type": "stream",
          "name": "stderr",
          "text": [
            "/usr/local/lib/python3.10/dist-packages/ipykernel/ipkernel.py:283: DeprecationWarning: `should_run_async` will not call `transform_cell` automatically in the future. Please pass the result to `transformed_cell` argument and any exception that happen during thetransform in `preprocessing_exc_tuple` in IPython 7.17 and above.\n",
            "  and should_run_async(code)\n"
          ]
        }
      ]
    },
    {
      "cell_type": "markdown",
      "id": "0984621a-97e6-477e-9c88-9b10c9795a3c",
      "metadata": {
        "id": "0984621a-97e6-477e-9c88-9b10c9795a3c"
      },
      "source": [
        "## Viz"
      ]
    },
    {
      "cell_type": "code",
      "execution_count": 50,
      "id": "oDUVvRTn8PR4",
      "metadata": {
        "colab": {
          "base_uri": "https://localhost:8080/"
        },
        "id": "oDUVvRTn8PR4",
        "outputId": "a4a99eab-4050-4fe5-a7be-09fcfd41bd59"
      },
      "outputs": [
        {
          "output_type": "stream",
          "name": "stderr",
          "text": [
            "/usr/local/lib/python3.10/dist-packages/gym/wrappers/monitoring/video_recorder.py:101: DeprecationWarning: \u001b[33mWARN: <class 'gym.wrappers.monitoring.video_recorder.VideoRecorder'> is marked as deprecated and will be removed in the future.\u001b[0m\n",
            "  logger.deprecation(\n",
            "  0%|          | 15/10000 [00:00<07:26, 22.38it/s] \n"
          ]
        }
      ],
      "source": [
        "show_video_of_model(\"lake\", env_2d, smart_random_policy, max_steps=10000)"
      ]
    },
    {
      "cell_type": "code",
      "execution_count": 51,
      "id": "1diaZrra8SE4",
      "metadata": {
        "colab": {
          "base_uri": "https://localhost:8080/",
          "height": 477
        },
        "id": "1diaZrra8SE4",
        "outputId": "ff798c18-8641-4d04-910d-9c16a4126b80"
      },
      "outputs": [
        {
          "output_type": "stream",
          "name": "stderr",
          "text": [
            "/usr/local/lib/python3.10/dist-packages/ipykernel/ipkernel.py:283: DeprecationWarning: `should_run_async` will not call `transform_cell` automatically in the future. Please pass the result to `transformed_cell` argument and any exception that happen during thetransform in `preprocessing_exc_tuple` in IPython 7.17 and above.\n",
            "  and should_run_async(code)\n"
          ]
        },
        {
          "output_type": "display_data",
          "data": {
            "text/plain": [
              "<IPython.core.display.HTML object>"
            ],
            "text/html": [
              "<video alt=\"test\" autoplay\n",
              "                loop controls style=\"height: 400px;\">\n",
              "                <source src=\"data:video/mp4;base64,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\" type=\"video/mp4\" />\n",
              "             </video>"
            ]
          },
          "metadata": {}
        }
      ],
      "source": [
        "show_video(\"lake\")"
      ]
    },
    {
      "cell_type": "code",
      "execution_count": 52,
      "id": "885a33f0-8b1f-44d7-855b-ecf335ce03ae",
      "metadata": {
        "colab": {
          "base_uri": "https://localhost:8080/"
        },
        "collapsed": true,
        "id": "885a33f0-8b1f-44d7-855b-ecf335ce03ae",
        "outputId": "215529a6-1edb-4ecc-aba2-d97608aa09ed"
      },
      "outputs": [
        {
          "output_type": "stream",
          "name": "stderr",
          "text": [
            "/usr/local/lib/python3.10/dist-packages/gym/wrappers/monitoring/video_recorder.py:101: DeprecationWarning: \u001b[33mWARN: <class 'gym.wrappers.monitoring.video_recorder.VideoRecorder'> is marked as deprecated and will be removed in the future.\u001b[0m\n",
            "  logger.deprecation(\n",
            "  0%|          | 5/10000 [00:00<09:11, 18.14it/s]\n"
          ]
        }
      ],
      "source": [
        "show_video_of_model(\"lake\", env_2d, smart_goal_oriented_policy, max_steps=10000)"
      ]
    },
    {
      "cell_type": "code",
      "execution_count": 53,
      "id": "def9e124-e63a-4c2f-b4cb-efa77a919f33",
      "metadata": {
        "colab": {
          "base_uri": "https://localhost:8080/",
          "height": 477
        },
        "id": "def9e124-e63a-4c2f-b4cb-efa77a919f33",
        "outputId": "d03e72f0-1e6c-4717-b934-46a16466b470"
      },
      "outputs": [
        {
          "output_type": "stream",
          "name": "stderr",
          "text": [
            "/usr/local/lib/python3.10/dist-packages/ipykernel/ipkernel.py:283: DeprecationWarning: `should_run_async` will not call `transform_cell` automatically in the future. Please pass the result to `transformed_cell` argument and any exception that happen during thetransform in `preprocessing_exc_tuple` in IPython 7.17 and above.\n",
            "  and should_run_async(code)\n"
          ]
        },
        {
          "output_type": "display_data",
          "data": {
            "text/plain": [
              "<IPython.core.display.HTML object>"
            ],
            "text/html": [
              "<video alt=\"test\" autoplay\n",
              "                loop controls style=\"height: 400px;\">\n",
              "                <source src=\"data:video/mp4;base64,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\" type=\"video/mp4\" />\n",
              "             </video>"
            ]
          },
          "metadata": {}
        }
      ],
      "source": [
        "show_video(\"lake\")"
      ]
    },
    {
      "cell_type": "code",
      "execution_count": 53,
      "id": "a904b1ad-97b8-40a9-bb31-0f4752386ba8",
      "metadata": {
        "id": "a904b1ad-97b8-40a9-bb31-0f4752386ba8"
      },
      "outputs": [],
      "source": []
    },
    {
      "cell_type": "code",
      "execution_count": null,
      "id": "3cc251a7-1313-4ef0-9618-da27bb91b168",
      "metadata": {
        "id": "3cc251a7-1313-4ef0-9618-da27bb91b168"
      },
      "outputs": [],
      "source": []
    }
  ],
  "metadata": {
    "accelerator": "TPU",
    "colab": {
      "gpuType": "V28",
      "provenance": []
    },
    "kernelspec": {
      "display_name": "Python 3",
      "name": "python3"
    },
    "language_info": {
      "codemirror_mode": {
        "name": "ipython",
        "version": 3
      },
      "file_extension": ".py",
      "mimetype": "text/x-python",
      "name": "python",
      "nbconvert_exporter": "python",
      "pygments_lexer": "ipython3",
      "version": "3.11.4"
    }
  },
  "nbformat": 4,
  "nbformat_minor": 5
}