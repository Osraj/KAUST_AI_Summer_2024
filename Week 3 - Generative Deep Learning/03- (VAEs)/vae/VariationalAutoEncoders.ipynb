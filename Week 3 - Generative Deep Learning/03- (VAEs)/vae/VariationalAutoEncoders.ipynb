{
 "cells": [
  {
   "cell_type": "markdown",
   "metadata": {
    "id": "Gm3hxkkqnu_R"
   },
   "source": [
    "# Image Generation using Variational AutoEncoders"
   ]
  },
  {
   "cell_type": "markdown",
   "metadata": {
    "id": "fvASWvJK4ty-"
   },
   "source": [
    "The goal of Autoencoders was to generate latent vectors which are easily decodable back to the original image. But this can cause the latent space to become disjoint and non-continous.\n",
    "\n",
    "Variational Autoencoders were introduced to remedy this. Variational Autoencoders are trained to learn the probability distribution that models the input data. In varional autoencoders, the inputs are mapped to a probability distribuion over latent vectors. Typically, this probability distribution is set to standard normal distribution. So, there are two targets in VAEs: one to minimize the reconstruction loss and two to minimize the KL divergence between the Probilitistic encoder and standard normal distribution.\n"
   ]
  },
  {
   "cell_type": "markdown",
   "metadata": {
    "id": "rZW2SP07325K"
   },
   "source": [
    "![\"Variational Autoencoder Architecture\"](https://blog.bayeslabs.co/assets/img/vae-gaussian.png)\n",
    "\n",
    "<p align = \"center\">\n",
    "Fig.1 - Variational Autoencoder Architecture\n",
    "(<a href=https://blog.bayeslabs.co/2019/06/04/All-you-need-to-know-about-Vae\">\n",
    "source\n",
    "</a>)\n",
    "</p>"
   ]
  },
  {
   "cell_type": "code",
   "execution_count": 1,
   "metadata": {
    "id": "53pepfXZjw9B"
   },
   "outputs": [],
   "source": [
    "import torch\n",
    "import torch.nn as nn\n",
    "from torch.utils.data import Dataset, DataLoader\n",
    "from torchvision import datasets\n",
    "from torchvision.transforms import ToTensor\n",
    "from torchsummary import summary\n",
    "import matplotlib.pyplot as plt\n",
    "from mpl_toolkits.axes_grid1 import ImageGrid\n",
    "from tqdm import tqdm\n",
    "import numpy as np"
   ]
  },
  {
   "cell_type": "code",
   "execution_count": 2,
   "metadata": {
    "id": "0fJCUHHLt8H8"
   },
   "outputs": [],
   "source": [
    "EPOCHS = 20\n",
    "LEARNING_RATE = 1e-4\n",
    "BATCH_SIZE = 64\n",
    "Z = 32\n",
    "KLD_WEIGHT = 0.0012"
   ]
  },
  {
   "cell_type": "code",
   "execution_count": 3,
   "metadata": {
    "id": "BodA8N3tuNlE"
   },
   "outputs": [
    {
     "name": "stderr",
     "output_type": "stream",
     "text": [
      "/opt/anaconda3/envs/mlcourse/lib/python3.7/site-packages/torchvision/datasets/mnist.py:498: UserWarning: The given NumPy array is not writeable, and PyTorch does not support non-writeable tensors. This means you can write to the underlying (supposedly non-writeable) NumPy array using the tensor. You may want to copy the array to protect its data or make it writeable before converting it to a tensor. This type of warning will be suppressed for the rest of this program. (Triggered internally at  /Users/distiller/project/conda/conda-bld/pytorch_1616554799287/work/torch/csrc/utils/tensor_numpy.cpp:143.)\n",
      "  return torch.from_numpy(parsed.astype(m[2], copy=False)).view(*s)\n"
     ]
    }
   ],
   "source": [
    "# We will be using the mnist digit data.\n",
    "mnist_dataset = datasets.MNIST(root=\"minist_data/\", download=True, transform=ToTensor())"
   ]
  },
  {
   "cell_type": "code",
   "execution_count": 4,
   "metadata": {
    "id": "CkSc77N5uPXA"
   },
   "outputs": [],
   "source": [
    "# Initializing pytorch dataloader\n",
    "train_dataloader = DataLoader(mnist_dataset, batch_size=BATCH_SIZE, shuffle=True)"
   ]
  },
  {
   "cell_type": "code",
   "execution_count": 5,
   "metadata": {
    "colab": {
     "base_uri": "https://localhost:8080/",
     "height": 142
    },
    "executionInfo": {
     "elapsed": 738,
     "status": "ok",
     "timestamp": 1666089240906,
     "user": {
      "displayName": "Muhammad Mubashar",
      "userId": "14515435323579848862"
     },
     "user_tz": -300
    },
    "id": "tBlw8en5uRow",
    "outputId": "47ca8187-3ea9-4925-fe29-ef625cebafcc"
   },
   "outputs": [
    {
     "data": {
      "image/png": "[encoded data removed]",
      "text/plain": [
       "<Figure size 1008x1008 with 7 Axes>"
      ]
     },
     "metadata": {
      "needs_background": "light"
     },
     "output_type": "display_data"
    }
   ],
   "source": [
    "# Visualizing some sample images\n",
    "figure = plt.figure(figsize=(14, 14))\n",
    "cols, rows = 7, 1\n",
    "for i in range(1, cols * rows + 1):\n",
    "    sample_idx = torch.randint(len(mnist_dataset), size=(1,)).item()\n",
    "    img, label = mnist_dataset[sample_idx]\n",
    "    figure.add_subplot(rows, cols, i)\n",
    "    plt.title(label)\n",
    "    plt.axis(\"off\")\n",
    "    plt.imshow(img.squeeze(), cmap=\"gray\")\n",
    "plt.show()"
   ]
  },
  {
   "cell_type": "code",
   "execution_count": 6,
   "metadata": {
    "colab": {
     "base_uri": "https://localhost:8080/",
     "height": 35
    },
    "executionInfo": {
     "elapsed": 18,
     "status": "ok",
     "timestamp": 1666089240908,
     "user": {
      "displayName": "Muhammad Mubashar",
      "userId": "14515435323579848862"
     },
     "user_tz": -300
    },
    "id": "Uezgo6PwuTMB",
    "outputId": "40d80d24-a4fb-4e8e-e47d-ec874e88d13e"
   },
   "outputs": [
    {
     "data": {
      "text/plain": [
       "'cpu'"
      ]
     },
     "execution_count": 6,
     "metadata": {},
     "output_type": "execute_result"
    }
   ],
   "source": [
    "device = \"cuda\" if torch.cuda.is_available() else \"cpu\"\n",
    "device"
   ]
  },
  {
   "cell_type": "markdown",
   "metadata": {
    "id": "9vejjknDqXBn"
   },
   "source": [
    "Here, we will define a model for a Variational Autoencoder. It is mostly similar to Autoencoders with a few differences. Instead of the encoder outputing a deterministic latent space representation like in autoencoders, the encoder will now output a mean and log variance vector. The latent space representation will then be sampled using them. We output log variance instead of just variance because the varaince always has to be postive.\n",
    "\n",
    "The docoder is same as in autoencoders.\n",
    "\n",
    "For sampling the latent space representation, we use a reparameterization trick so that it is possible to backpropagate. The basic idea is given below in the Fig 2.\n",
    "\n",
    "![\"Reparameteriztion Trick\"](https://blog.bayeslabs.co/assets/img/vae_part_1_1.png)\n",
    "\n",
    "<p align = \"center\">\n",
    "Fig.2 - Reparameteriztion Trick\n",
    "(<a href=https://blog.bayeslabs.co/2019/06/04/All-you-need-to-know-about-Vae\">\n",
    "source\n",
    "</a>)\n",
    "</p>\n",
    "\n"
   ]
  },
  {
   "cell_type": "code",
   "execution_count": 7,
   "metadata": {
    "colab": {
     "base_uri": "https://localhost:8080/"
    },
    "executionInfo": {
     "elapsed": 18,
     "status": "ok",
     "timestamp": 1666089240909,
     "user": {
      "displayName": "Muhammad Mubashar",
      "userId": "14515435323579848862"
     },
     "user_tz": -300
    },
    "id": "eNCJkFQsuVST",
    "outputId": "df0661a5-7b30-4f71-83be-83abde75aba5"
   },
   "outputs": [
    {
     "data": {
      "text/plain": [
       "VariationalAutoEncoder(\n",
       "  (encoder_top): Sequential(\n",
       "    (0): Conv2d(1, 16, kernel_size=(3, 3), stride=(2, 2), padding=(1, 1))\n",
       "    (1): BatchNorm2d(16, eps=1e-05, momentum=0.1, affine=True, track_running_stats=True)\n",
       "    (2): LeakyReLU(negative_slope=0.01)\n",
       "    (3): Conv2d(16, 32, kernel_size=(3, 3), stride=(2, 2), padding=(1, 1))\n",
       "    (4): BatchNorm2d(32, eps=1e-05, momentum=0.1, affine=True, track_running_stats=True)\n",
       "    (5): LeakyReLU(negative_slope=0.01)\n",
       "    (6): Conv2d(32, 64, kernel_size=(3, 3), stride=(2, 2), padding=(1, 1))\n",
       "    (7): BatchNorm2d(64, eps=1e-05, momentum=0.1, affine=True, track_running_stats=True)\n",
       "    (8): LeakyReLU(negative_slope=0.01)\n",
       "    (9): Flatten(start_dim=1, end_dim=-1)\n",
       "    (10): Linear(in_features=1024, out_features=128, bias=True)\n",
       "    (11): BatchNorm1d(128, eps=1e-05, momentum=0.1, affine=True, track_running_stats=True)\n",
       "    (12): LeakyReLU(negative_slope=0.01)\n",
       "  )\n",
       "  (mu_layer): Linear(in_features=128, out_features=32, bias=True)\n",
       "  (logvar_layer): Linear(in_features=128, out_features=32, bias=True)\n",
       "  (decoder): Sequential(\n",
       "    (0): Linear(in_features=32, out_features=128, bias=True)\n",
       "    (1): BatchNorm1d(128, eps=1e-05, momentum=0.1, affine=True, track_running_stats=True)\n",
       "    (2): LeakyReLU(negative_slope=0.01)\n",
       "    (3): Linear(in_features=128, out_features=1024, bias=True)\n",
       "    (4): BatchNorm1d(1024, eps=1e-05, momentum=0.1, affine=True, track_running_stats=True)\n",
       "    (5): LeakyReLU(negative_slope=0.01)\n",
       "    (6): Reshape()\n",
       "    (7): ConvTranspose2d(64, 32, kernel_size=(3, 3), stride=(2, 2), padding=(1, 1))\n",
       "    (8): BatchNorm2d(32, eps=1e-05, momentum=0.1, affine=True, track_running_stats=True)\n",
       "    (9): LeakyReLU(negative_slope=0.01)\n",
       "    (10): ConvTranspose2d(32, 16, kernel_size=(3, 3), stride=(2, 2), padding=(1, 1), output_padding=(1, 1))\n",
       "    (11): BatchNorm2d(16, eps=1e-05, momentum=0.1, affine=True, track_running_stats=True)\n",
       "    (12): LeakyReLU(negative_slope=0.01)\n",
       "    (13): ConvTranspose2d(16, 1, kernel_size=(3, 3), stride=(2, 2), padding=(1, 1), output_padding=(1, 1))\n",
       "    (14): Sigmoid()\n",
       "  )\n",
       ")"
      ]
     },
     "execution_count": 7,
     "metadata": {},
     "output_type": "execute_result"
    }
   ],
   "source": [
    "class Reshape(nn.Module):\n",
    "    \"\"\"A custom reshape layer.\"\"\"\n",
    "    def __init__(self, shape):\n",
    "        super(Reshape, self).__init__()\n",
    "        self.shape = shape\n",
    "\n",
    "    def forward(self, x):\n",
    "        return x.view(*self.shape)\n",
    "\n",
    "\n",
    "class VariationalAutoEncoder(nn.Module):\n",
    "    \"\"\"Variational Autoencoder model\"\"\"\n",
    "    def __init__(self, z):\n",
    "        super(VariationalAutoEncoder, self).__init__()\n",
    "        self.z = z\n",
    "        self.encoder_top = nn.Sequential(\n",
    "            nn.Conv2d(in_channels=1, out_channels=16, kernel_size=3, stride=2, padding=1),\n",
    "            nn.BatchNorm2d(16),\n",
    "            nn.LeakyReLU(),\n",
    "\n",
    "            nn.Conv2d(in_channels=16, out_channels=32, kernel_size=3, stride=2, padding=1),\n",
    "            nn.BatchNorm2d(32),\n",
    "            nn.LeakyReLU(),\n",
    "\n",
    "            nn.Conv2d(in_channels=32, out_channels=64, kernel_size=3, stride=2, padding=1),\n",
    "            nn.BatchNorm2d(64),\n",
    "            nn.LeakyReLU(),\n",
    "\n",
    "            nn.Flatten(1,-1),\n",
    "            nn.Linear(64 * 4 * 4, 128),\n",
    "            nn.BatchNorm1d(128),\n",
    "            nn.LeakyReLU(),\n",
    "        )\n",
    "\n",
    "        self.mu_layer =  nn.Linear(128, z)\n",
    "        self.logvar_layer =  nn.Linear(128, z)\n",
    "\n",
    "        self.decoder = nn.Sequential(\n",
    "            nn.Linear(z, 128),\n",
    "            nn.BatchNorm1d(128),\n",
    "            nn.LeakyReLU(),\n",
    "\n",
    "            nn.Linear(128, 64 * 4 * 4),\n",
    "            nn.BatchNorm1d(64 * 4 * 4),\n",
    "            nn.LeakyReLU(),\n",
    "\n",
    "            Reshape((-1,64,4,4)),\n",
    "\n",
    "            nn.ConvTranspose2d(in_channels=64, out_channels=32, kernel_size=3, stride=2, padding=1),\n",
    "            nn.BatchNorm2d(32),\n",
    "            nn.LeakyReLU(),\n",
    "\n",
    "            nn.ConvTranspose2d(in_channels=32, out_channels=16, kernel_size=3, stride=2, padding=1, output_padding=1),\n",
    "            nn.BatchNorm2d(16),\n",
    "            nn.LeakyReLU(),\n",
    "\n",
    "            nn.ConvTranspose2d(in_channels=16, out_channels=1, kernel_size=3, stride=2, padding=1, output_padding=1),\n",
    "            nn.Sigmoid(),\n",
    "        )\n",
    "\n",
    "    def encode(self, x):\n",
    "        x = self.encoder_top(x)\n",
    "        mu = self.mu_layer(x)\n",
    "        logvar = self.logvar_layer(x)\n",
    "        return mu, logvar\n",
    "\n",
    "    def reparameterize(self, mu, logvar):\n",
    "        # First we convert the log variance to standard deviation and then we sample through reparameterization\n",
    "        std = torch.exp(0.5 * logvar)\n",
    "        eps = torch.randn_like(std)\n",
    "        return mu + std*eps\n",
    "\n",
    "    def forward(self, x):\n",
    "        mu, logvar = self.encode(x)\n",
    "        x = self.reparameterize(mu, logvar)\n",
    "        x = self.decoder(x)\n",
    "        return x, mu, logvar\n",
    "\n",
    "\n",
    "model = VariationalAutoEncoder(z=Z)\n",
    "model.to(device)"
   ]
  },
  {
   "cell_type": "code",
   "execution_count": 8,
   "metadata": {
    "colab": {
     "base_uri": "https://localhost:8080/"
    },
    "executionInfo": {
     "elapsed": 15,
     "status": "ok",
     "timestamp": 1666089240910,
     "user": {
      "displayName": "Muhammad Mubashar",
      "userId": "14515435323579848862"
     },
     "user_tz": -300
    },
    "id": "ON8h0u2OwgeB",
    "outputId": "cd7bd531-9127-4bc7-beb9-6819b5b010b1"
   },
   "outputs": [
    {
     "name": "stdout",
     "output_type": "stream",
     "text": [
      "----------------------------------------------------------------\n",
      "        Layer (type)               Output Shape         Param #\n",
      "================================================================\n",
      "            Conv2d-1           [-1, 16, 14, 14]             160\n",
      "       BatchNorm2d-2           [-1, 16, 14, 14]              32\n",
      "         LeakyReLU-3           [-1, 16, 14, 14]               0\n",
      "            Conv2d-4             [-1, 32, 7, 7]           4,640\n",
      "       BatchNorm2d-5             [-1, 32, 7, 7]              64\n",
      "         LeakyReLU-6             [-1, 32, 7, 7]               0\n",
      "            Conv2d-7             [-1, 64, 4, 4]          18,496\n",
      "       BatchNorm2d-8             [-1, 64, 4, 4]             128\n",
      "         LeakyReLU-9             [-1, 64, 4, 4]               0\n",
      "          Flatten-10                 [-1, 1024]               0\n",
      "           Linear-11                  [-1, 128]         131,200\n",
      "      BatchNorm1d-12                  [-1, 128]             256\n",
      "        LeakyReLU-13                  [-1, 128]               0\n",
      "           Linear-14                   [-1, 32]           4,128\n",
      "           Linear-15                   [-1, 32]           4,128\n",
      "           Linear-16                  [-1, 128]           4,224\n",
      "      BatchNorm1d-17                  [-1, 128]             256\n",
      "        LeakyReLU-18                  [-1, 128]               0\n",
      "           Linear-19                 [-1, 1024]         132,096\n",
      "      BatchNorm1d-20                 [-1, 1024]           2,048\n",
      "        LeakyReLU-21                 [-1, 1024]               0\n",
      "          Reshape-22             [-1, 64, 4, 4]               0\n",
      "  ConvTranspose2d-23             [-1, 32, 7, 7]          18,464\n",
      "      BatchNorm2d-24             [-1, 32, 7, 7]              64\n",
      "        LeakyReLU-25             [-1, 32, 7, 7]               0\n",
      "  ConvTranspose2d-26           [-1, 16, 14, 14]           4,624\n",
      "      BatchNorm2d-27           [-1, 16, 14, 14]              32\n",
      "        LeakyReLU-28           [-1, 16, 14, 14]               0\n",
      "  ConvTranspose2d-29            [-1, 1, 28, 28]             145\n",
      "          Sigmoid-30            [-1, 1, 28, 28]               0\n",
      "================================================================\n",
      "Total params: 325,185\n",
      "Trainable params: 325,185\n",
      "Non-trainable params: 0\n",
      "----------------------------------------------------------------\n",
      "Input size (MB): 0.00\n",
      "Forward/backward pass size (MB): 0.30\n",
      "Params size (MB): 1.24\n",
      "Estimated Total Size (MB): 1.54\n",
      "----------------------------------------------------------------\n"
     ]
    }
   ],
   "source": [
    "# model summary\n",
    "summary(model, (1,28,28))"
   ]
  },
  {
   "cell_type": "markdown",
   "metadata": {
    "id": "dRwupNxk711T"
   },
   "source": [
    "The loss funtion of Variational Autoencoders is called Evidence Lower Bound (ELBO) as it bounds the likelihood of the data which we want to maximise and it consists of two terms.\n",
    "$$ L = ReconstructionLoss + KLDivergence $$\n",
    "Reconstruction Loss is simply a measure of the likelihood of the reconstructed data output at the decoder. Typically, it is the mean squared error between input and output.\n",
    "\n",
    "KL Divergence here acts as a regulaizer term becuase it is constraint on the form of tour approximate posterior. Typically, it is assumed as standard normal distribution.\n",
    "\n",
    "$$KL(N(\\mu, \\sigma), N(0, 1)) = -0.5 * (1 + \\log \\sigma^2 - \\sigma^2 - \\mu^2)$$\n",
    "\n",
    "Complete derivation of the loss for VAEs can be studied [here](https://deepai.org/publication/tutorial-deriving-the-standard-variational-autoencoder-vae-loss-function)"
   ]
  },
  {
   "cell_type": "markdown",
   "metadata": {
    "id": "7BVEaW7_CtNu"
   },
   "source": [
    "Another thing we need to take care of is the weight of each term in the loss. If the weight of KL Divergence is too high, it will then take focus off reconstruction and we will get bad reconstruction and if it is too low, the approximate posterior distribution will become non-continous."
   ]
  },
  {
   "cell_type": "code",
   "execution_count": 9,
   "metadata": {
    "id": "mLVJ3APiwsTs"
   },
   "outputs": [],
   "source": [
    "# Loss function for Variational Auto Encoder\n",
    "def loss_fn(y_true, y_pred, mu, logvar):\n",
    "\n",
    "    # The total loss will consist of two parts: Reconstruction loss and KL divergence\n",
    "\n",
    "    # Reconstruction Loss is simply mean squared error of gt and prediction like in autoencoders.\n",
    "    reconstruction_loss = nn.functional.mse_loss(y_pred, y_true)\n",
    "\n",
    "    # The second part of loss is the KL Divergence between the approximate posterior q(z|x) and latent prior p(z) assuming them to be normal distributions.\n",
    "    kld_loss =   torch.mean(-0.5 * torch.sum(1 + logvar - mu ** 2 - logvar.exp(), dim = 1), dim = 0)\n",
    "\n",
    "    loss = (1-KLD_WEIGHT)*reconstruction_loss + KLD_WEIGHT*kld_loss\n",
    "    return loss"
   ]
  },
  {
   "cell_type": "code",
   "execution_count": 10,
   "metadata": {
    "id": "buCU8mBfwmF8"
   },
   "outputs": [],
   "source": [
    "# Defining the optimizer here\n",
    "optimizer = torch.optim.Adam(model.parameters(), lr=LEARNING_RATE)"
   ]
  },
  {
   "cell_type": "code",
   "execution_count": 11,
   "metadata": {
    "colab": {
     "base_uri": "https://localhost:8080/"
    },
    "executionInfo": {
     "elapsed": 496056,
     "status": "ok",
     "timestamp": 1666089737851,
     "user": {
      "displayName": "Muhammad Mubashar",
      "userId": "14515435323579848862"
     },
     "user_tz": -300
    },
    "id": "55DPAA8P1qqE",
    "outputId": "aef631b0-880c-4090-b00c-316a8002833a"
   },
   "outputs": [
    {
     "name": "stderr",
     "output_type": "stream",
     "text": [
      "Epoch 1/20: : 100%|█| 938/938 [00:42<00:00, 22.13it/s, batch_loss=0.0967, avg_lo\n",
      "Epoch 2/20: : 100%|█| 938/938 [00:41<00:00, 22.34it/s, batch_loss=0.0648, avg_lo\n",
      "Epoch 3/20: : 100%|█| 938/938 [00:42<00:00, 22.31it/s, batch_loss=0.0508, avg_lo\n",
      "Epoch 4/20: : 100%|█| 938/938 [00:40<00:00, 23.03it/s, batch_loss=0.0479, avg_lo\n",
      "Epoch 5/20: : 100%|█| 938/938 [00:41<00:00, 22.35it/s, batch_loss=0.0479, avg_lo\n",
      "Epoch 6/20: : 100%|█| 938/938 [00:42<00:00, 22.02it/s, batch_loss=0.0498, avg_lo\n",
      "Epoch 7/20: : 100%|█| 938/938 [00:42<00:00, 21.85it/s, batch_loss=0.0464, avg_lo\n",
      "Epoch 8/20: : 100%|█| 938/938 [00:42<00:00, 22.09it/s, batch_loss=0.0426, avg_lo\n",
      "Epoch 9/20: : 100%|█| 938/938 [00:41<00:00, 22.73it/s, batch_loss=0.042, avg_los\n",
      "Epoch 10/20: : 100%|█| 938/938 [00:40<00:00, 22.90it/s, batch_loss=0.0386, avg_l\n",
      "Epoch 11/20: : 100%|█| 938/938 [00:41<00:00, 22.85it/s, batch_loss=0.0405, avg_l\n",
      "Epoch 12/20: : 100%|█| 938/938 [00:41<00:00, 22.51it/s, batch_loss=0.0417, avg_l\n",
      "Epoch 13/20: : 100%|█| 938/938 [00:42<00:00, 21.93it/s, batch_loss=0.0387, avg_l\n",
      "Epoch 14/20: : 100%|█| 938/938 [00:42<00:00, 22.22it/s, batch_loss=0.0403, avg_l\n",
      "Epoch 15/20: : 100%|█| 938/938 [00:42<00:00, 22.18it/s, batch_loss=0.0395, avg_l\n",
      "Epoch 16/20: : 100%|█| 938/938 [00:42<00:00, 22.17it/s, batch_loss=0.0423, avg_l\n",
      "Epoch 17/20: : 100%|█| 938/938 [00:42<00:00, 21.99it/s, batch_loss=0.042, avg_lo\n",
      "Epoch 18/20: : 100%|█| 938/938 [00:40<00:00, 22.96it/s, batch_loss=0.0427, avg_l\n",
      "Epoch 19/20: : 100%|█| 938/938 [00:42<00:00, 22.19it/s, batch_loss=0.0355, avg_l\n",
      "Epoch 20/20: : 100%|█| 938/938 [00:42<00:00, 21.98it/s, batch_loss=0.0388, avg_l\n"
     ]
    }
   ],
   "source": [
    "# Training loop\n",
    "loss_history = []\n",
    "for i in range(1,EPOCHS+1):\n",
    "    running_loss = 0\n",
    "    pbar = tqdm(train_dataloader)\n",
    "    for b, data in enumerate(pbar):\n",
    "        # Every data instance is an input + label pair. We don't need the label\n",
    "        inputs, _ = data\n",
    "        inputs = inputs.to(device)\n",
    "\n",
    "        # Zero the gradients for every batch!\n",
    "        optimizer.zero_grad()\n",
    "\n",
    "        # Make predictions for this batch\n",
    "        outputs, mu, logvar = model(inputs)\n",
    "\n",
    "        # Compute the loss and its gradients\n",
    "        loss = loss_fn(inputs, outputs, mu, logvar)\n",
    "        loss.backward()\n",
    "\n",
    "        # Adjust learning weights\n",
    "        optimizer.step()\n",
    "\n",
    "        # Update Progress\n",
    "        running_loss += loss.item()\n",
    "        pbar.set_description(f\"Epoch {i}/{EPOCHS}: \")\n",
    "        pbar.set_postfix({\"batch_loss\": loss.item(), \"avg_loss\": running_loss/(b+1)})\n",
    "    loss_history.append(running_loss)"
   ]
  },
  {
   "cell_type": "code",
   "execution_count": null,
   "metadata": {},
   "outputs": [],
   "source": [
    "plt.figure(figsize=(14, 3))\n",
    "plt.plot(loss_history, 'k', lw=3)\n",
    "plt.title('Loss');"
   ]
  },
  {
   "cell_type": "code",
   "execution_count": 12,
   "metadata": {
    "id": "LCtOJPdp2AFl"
   },
   "outputs": [],
   "source": [
    "# Helper function to display results\n",
    "def display_image_grid(images, num_rows, num_cols, title_text):\n",
    "\n",
    "    fig = plt.figure(figsize=(num_cols*3., num_rows*3.), )\n",
    "    grid = ImageGrid(fig, 111, nrows_ncols=(num_rows, num_cols), axes_pad=0.15)\n",
    "\n",
    "    for ax, im in zip(grid, images):\n",
    "        ax.imshow(im, cmap=\"gray\")\n",
    "        ax.axis(\"off\")\n",
    "    \n",
    "    plt.suptitle(title_text, fontsize=20)\n",
    "    plt.show()"
   ]
  },
  {
   "cell_type": "code",
   "execution_count": 13,
   "metadata": {
    "colab": {
     "base_uri": "https://localhost:8080/"
    },
    "executionInfo": {
     "elapsed": 17,
     "status": "ok",
     "timestamp": 1666089737854,
     "user": {
      "displayName": "Muhammad Mubashar",
      "userId": "14515435323579848862"
     },
     "user_tz": -300
    },
    "id": "Rajsj2B52Jpk",
    "outputId": "dc6ecaf8-0032-4ee1-e6f0-9b5b64a75289"
   },
   "outputs": [
    {
     "data": {
      "text/plain": [
       "VariationalAutoEncoder(\n",
       "  (encoder_top): Sequential(\n",
       "    (0): Conv2d(1, 16, kernel_size=(3, 3), stride=(2, 2), padding=(1, 1))\n",
       "    (1): BatchNorm2d(16, eps=1e-05, momentum=0.1, affine=True, track_running_stats=True)\n",
       "    (2): LeakyReLU(negative_slope=0.01)\n",
       "    (3): Conv2d(16, 32, kernel_size=(3, 3), stride=(2, 2), padding=(1, 1))\n",
       "    (4): BatchNorm2d(32, eps=1e-05, momentum=0.1, affine=True, track_running_stats=True)\n",
       "    (5): LeakyReLU(negative_slope=0.01)\n",
       "    (6): Conv2d(32, 64, kernel_size=(3, 3), stride=(2, 2), padding=(1, 1))\n",
       "    (7): BatchNorm2d(64, eps=1e-05, momentum=0.1, affine=True, track_running_stats=True)\n",
       "    (8): LeakyReLU(negative_slope=0.01)\n",
       "    (9): Flatten(start_dim=1, end_dim=-1)\n",
       "    (10): Linear(in_features=1024, out_features=128, bias=True)\n",
       "    (11): BatchNorm1d(128, eps=1e-05, momentum=0.1, affine=True, track_running_stats=True)\n",
       "    (12): LeakyReLU(negative_slope=0.01)\n",
       "  )\n",
       "  (mu_layer): Linear(in_features=128, out_features=32, bias=True)\n",
       "  (logvar_layer): Linear(in_features=128, out_features=32, bias=True)\n",
       "  (decoder): Sequential(\n",
       "    (0): Linear(in_features=32, out_features=128, bias=True)\n",
       "    (1): BatchNorm1d(128, eps=1e-05, momentum=0.1, affine=True, track_running_stats=True)\n",
       "    (2): LeakyReLU(negative_slope=0.01)\n",
       "    (3): Linear(in_features=128, out_features=1024, bias=True)\n",
       "    (4): BatchNorm1d(1024, eps=1e-05, momentum=0.1, affine=True, track_running_stats=True)\n",
       "    (5): LeakyReLU(negative_slope=0.01)\n",
       "    (6): Reshape()\n",
       "    (7): ConvTranspose2d(64, 32, kernel_size=(3, 3), stride=(2, 2), padding=(1, 1))\n",
       "    (8): BatchNorm2d(32, eps=1e-05, momentum=0.1, affine=True, track_running_stats=True)\n",
       "    (9): LeakyReLU(negative_slope=0.01)\n",
       "    (10): ConvTranspose2d(32, 16, kernel_size=(3, 3), stride=(2, 2), padding=(1, 1), output_padding=(1, 1))\n",
       "    (11): BatchNorm2d(16, eps=1e-05, momentum=0.1, affine=True, track_running_stats=True)\n",
       "    (12): LeakyReLU(negative_slope=0.01)\n",
       "    (13): ConvTranspose2d(16, 1, kernel_size=(3, 3), stride=(2, 2), padding=(1, 1), output_padding=(1, 1))\n",
       "    (14): Sigmoid()\n",
       "  )\n",
       ")"
      ]
     },
     "execution_count": 13,
     "metadata": {},
     "output_type": "execute_result"
    }
   ],
   "source": [
    "# Set the model to eval state\n",
    "model.eval()"
   ]
  },
  {
   "cell_type": "code",
   "execution_count": 17,
   "metadata": {
    "colab": {
     "base_uri": "https://localhost:8080/",
     "height": 409
    },
    "executionInfo": {
     "elapsed": 2219,
     "status": "ok",
     "timestamp": 1666089740061,
     "user": {
      "displayName": "Muhammad Mubashar",
      "userId": "14515435323579848862"
     },
     "user_tz": -300
    },
    "id": "5f9raaWk2L81",
    "outputId": "9cdb5984-d8f0-4790-af8a-87ee0cf1b174"
   },
   "outputs": [
    {
     "data": {
      "image/png": "[encoded data removed]",
      "text/plain": [
       "<Figure size 1512x216 with 14 Axes>"
      ]
     },
     "metadata": {
      "needs_background": "light"
     },
     "output_type": "display_data"
    },
    {
     "data": {
      "image/png": "[encoded data removed]",
      "text/plain": [
       "<Figure size 1512x216 with 14 Axes>"
      ]
     },
     "metadata": {
      "needs_background": "light"
     },
     "output_type": "display_data"
    }
   ],
   "source": [
    "# Display some sample images and there reconstruction through auto encoders\n",
    "\n",
    "images = []\n",
    "cols, rows = 7, 1\n",
    "for i in range(cols * rows):\n",
    "    sample_idx = torch.randint(len(mnist_dataset), size=(1,)).item()\n",
    "    img, label = mnist_dataset[sample_idx]\n",
    "    images.append(img.squeeze())\n",
    "\n",
    "display_image_grid(images, rows, cols, \"original_images\")\n",
    "with torch.no_grad():\n",
    "    reconstructed_images = model(torch.stack(images).unsqueeze(1).to(device))[0].cpu()\n",
    "display_image_grid(reconstructed_images.squeeze(1), rows, cols, \"reconstructed_images\")\n"
   ]
  },
  {
   "cell_type": "markdown",
   "metadata": {
    "id": "sRw2nEWX2WWq"
   },
   "source": [
    "### Generation through Variational AutoEncoders"
   ]
  },
  {
   "cell_type": "code",
   "execution_count": 15,
   "metadata": {
    "colab": {
     "base_uri": "https://localhost:8080/",
     "height": 400
    },
    "executionInfo": {
     "elapsed": 3047,
     "status": "ok",
     "timestamp": 1666089984285,
     "user": {
      "displayName": "Muhammad Mubashar",
      "userId": "14515435323579848862"
     },
     "user_tz": -300
    },
    "id": "N7dzhdmi2Pzj",
    "outputId": "3d59c302-c8c3-4dcc-8142-900a9f3e4ffc"
   },
   "outputs": [
    {
     "data": {
      "image/png": "[encoded data removed]",
      "text/plain": [
       "<Figure size 1512x432 with 28 Axes>"
      ]
     },
     "metadata": {
      "needs_background": "light"
     },
     "output_type": "display_data"
    }
   ],
   "source": [
    "# Now we will try some actual generation. We will sample the encodings randomly and then pass them through decoder\n",
    "rows, cols = 2, 7\n",
    "sample_encodings = torch.randn(rows*cols, Z).to(device)\n",
    "with torch.no_grad():\n",
    "    generations = model.decoder(sample_encodings).cpu()\n",
    "display_image_grid(generations.squeeze(1), rows, cols, \"generated_images\")"
   ]
  },
  {
   "cell_type": "markdown",
   "metadata": {
    "id": "axN50IrtGjTw"
   },
   "source": [
    "### Discussion"
   ]
  },
  {
   "cell_type": "markdown",
   "metadata": {
    "id": "ZIw6-C9_GnMc"
   },
   "source": [
    "With Variational AutoEncoders, we sacrificed a little in reconstruction but in the end we got some decent generations from completely random inputs. But as it can be seen, they are blurry. This is one of the shortcommings of VAEs, that they produce blurry images."
   ]
  },
  {
   "cell_type": "code",
   "execution_count": null,
   "metadata": {
    "id": "VtSeGOtJ207X"
   },
   "outputs": [],
   "source": []
  }
 ],
 "metadata": {
  "accelerator": "GPU",
  "colab": {
   "authorship_tag": "ABX9TyOQbv+kcLQ+ycEnqvyJ8Exg",
   "provenance": []
  },
  "kernelspec": {
   "display_name": "Python 3 (ipykernel)",
   "language": "python",
   "name": "python3"
  },
  "language_info": {
   "codemirror_mode": {
    "name": "ipython",
    "version": 3
   },
   "file_extension": ".py",
   "mimetype": "text/x-python",
   "name": "python",
   "nbconvert_exporter": "python",
   "pygments_lexer": "ipython3",
   "version": "3.9.12"
  },
  "toc": {
   "base_numbering": 1,
   "nav_menu": {},
   "number_sections": true,
   "sideBar": true,
   "skip_h1_title": false,
   "title_cell": "Table of Contents",
   "title_sidebar": "Contents",
   "toc_cell": false,
   "toc_position": {},
   "toc_section_display": true,
   "toc_window_display": false
  }
 },
 "nbformat": 4,
 "nbformat_minor": 1
}
