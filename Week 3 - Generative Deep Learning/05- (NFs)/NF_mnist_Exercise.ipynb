{
 "cells": [
  {
   "cell_type": "markdown",
   "id": "3b1a8b0d",
   "metadata": {
    "id": "3b1a8b0d"
   },
   "source": [
    "# Normalizing flows"
   ]
  },
  {
   "cell_type": "code",
   "execution_count": 1,
   "id": "660b4840a51bdf30",
   "metadata": {
    "id": "660b4840a51bdf30"
   },
   "outputs": [],
   "source": [
    "!pip install -q normflows"
   ]
  },
  {
   "cell_type": "code",
   "execution_count": 2,
   "id": "73e6450e",
   "metadata": {
    "ExecuteTime": {
     "end_time": "2024-07-13T14:19:11.699093Z",
     "start_time": "2024-07-13T14:19:10.568116Z"
    },
    "id": "73e6450e"
   },
   "outputs": [],
   "source": [
    "# Import required packages\n",
    "import os\n",
    "import torch\n",
    "import torchvision as tv\n",
    "import numpy as np\n",
    "import normflows as nf\n",
    "import logging\n",
    "import random\n",
    "\n",
    "from matplotlib import pyplot as plt\n",
    "from tqdm import tqdm\n",
    "from torchvision import transforms\n",
    "from torch.utils.data import TensorDataset, DataLoader\n",
    "from IPython.display import Image\n",
    "from torchvision import datasets"
   ]
  },
  {
   "cell_type": "code",
   "execution_count": 3,
   "id": "42225c62",
   "metadata": {
    "ExecuteTime": {
     "end_time": "2024-07-13T14:19:11.740181Z",
     "start_time": "2024-07-13T14:19:11.700342Z"
    },
    "id": "42225c62",
    "outputId": "f7fa0a8b-9165-4e92-824e-177cd2780bda"
   },
   "outputs": [
    {
     "data": {
      "text/plain": [
       "device(type='cuda')"
      ]
     },
     "execution_count": 3,
     "metadata": {},
     "output_type": "execute_result"
    }
   ],
   "source": [
    "# Move model on GPU if available\n",
    "enable_cuda = True\n",
    "device = torch.device('cuda' if torch.cuda.is_available() and enable_cuda else 'cpu')\n",
    "device"
   ]
  },
  {
   "cell_type": "code",
   "execution_count": 4,
   "id": "f08b3727",
   "metadata": {
    "ExecuteTime": {
     "end_time": "2024-07-13T14:19:11.745754Z",
     "start_time": "2024-07-13T14:19:11.741168Z"
    },
    "id": "f08b3727",
    "outputId": "052dd00e-51dd-4b7c-f314-bb58b45cdfad"
   },
   "outputs": [
    {
     "name": "stdout",
     "output_type": "stream",
     "text": [
      "Set seed 42\n"
     ]
    }
   ],
   "source": [
    "def set_seed(seed):\n",
    "    \"\"\"Set seed\"\"\"\n",
    "    random.seed(seed)\n",
    "    np.random.seed(seed)\n",
    "    torch.manual_seed(seed)\n",
    "    if torch.cuda.is_available():\n",
    "        torch.cuda.manual_seed(seed)\n",
    "        torch.cuda.manual_seed_all(seed)\n",
    "        torch.backends.cudnn.deterministic = True\n",
    "        torch.backends.cudnn.benchmark = False\n",
    "    print(f'Set seed {seed}')\n",
    "\n",
    "set_seed(42)  # Use any number you like here"
   ]
  },
  {
   "cell_type": "markdown",
   "id": "87192fde",
   "metadata": {
    "id": "87192fde"
   },
   "source": [
    "In this notebook we will use Normalizing Flows as a generative model for the MNIST dataset. We will use the [normflows](https://github.com/VincentStimper/normalizing-flows/tree/36b58d34333aa301a5f42f327590ca72373a35eb) Python package. Specifically, we will use the [Glow](https://arxiv.org/pdf/1807.03039.pdf) normalizing flow. This notebook is adapted from [this notebook](https://github.com/VincentStimper/normalizing-flows/blob/36b58d34333aa301a5f42f327590ca72373a35eb/examples/glow.ipynb). Let's get started!"
   ]
  },
  {
   "cell_type": "markdown",
   "id": "b21bb661",
   "metadata": {
    "id": "b21bb661"
   },
   "source": [
    "## Minimizing the likelihood with Normalizing Flows"
   ]
  },
  {
   "cell_type": "markdown",
   "id": "afd73d64",
   "metadata": {
    "id": "afd73d64"
   },
   "source": [
    "Normalizing flows transform a target distribution to a pre-defined simpler distribution through a sequence of **flows**, which are invertible operations. These sequence of flows allows for the evaluation of the complex distribution by evaluating the simple distribution by accounting for the flow, as shown by the following formula:\n",
    "\n",
    "$$\n",
    "    p_X(x) = p_Z(f(x))\\vert \\det Df(x)\\vert\n",
    "$$\n",
    "\n",
    "We can now minimize the log-likelihood of the complex distribution as follows:\n",
    "\n",
    "$$\n",
    "    -\\log p_X(x) = - \\log p_Z(f(x)) - \\log(\\vert \\det Df(x)\\vert).\n",
    "$$"
   ]
  },
  {
   "cell_type": "markdown",
   "id": "9655e738",
   "metadata": {
    "id": "9655e738"
   },
   "source": [
    "To make a neural network invertible while retaining its ability to model distribution and making the inversion computationally feasible, flows typically constitute of splitting operations as shown below."
   ]
  },
  {
   "cell_type": "code",
   "execution_count": 5,
   "id": "c1e3ee0e",
   "metadata": {
    "ExecuteTime": {
     "end_time": "2024-07-13T14:19:11.828315Z",
     "start_time": "2024-07-13T14:19:11.747029Z"
    },
    "id": "c1e3ee0e",
    "outputId": "81a7264b-f661-43b3-cf9a-1f2ccd701cec"
   },
   "outputs": [
    {
     "ename": "FileNotFoundError",
     "evalue": "[Errno 2] No such file or directory: 'Figures/coupling_flow.png'",
     "output_type": "error",
     "traceback": [
      "\u001b[0;31m---------------------------------------------------------------------------\u001b[0m",
      "\u001b[0;31mFileNotFoundError\u001b[0m                         Traceback (most recent call last)",
      "Cell \u001b[0;32mIn[5], line 1\u001b[0m\n\u001b[0;32m----> 1\u001b[0m Image(filename\u001b[38;5;241m=\u001b[39m\u001b[38;5;124m'\u001b[39m\u001b[38;5;124mFigures/coupling_flow.png\u001b[39m\u001b[38;5;124m'\u001b[39m,width\u001b[38;5;241m=\u001b[39m\u001b[38;5;241m900\u001b[39m, height\u001b[38;5;241m=\u001b[39m\u001b[38;5;241m400\u001b[39m)\n",
      "File \u001b[0;32m~/miniconda3/envs/GPU/lib/python3.12/site-packages/IPython/core/display.py:970\u001b[0m, in \u001b[0;36mImage.__init__\u001b[0;34m(self, data, url, filename, format, embed, width, height, retina, unconfined, metadata, alt)\u001b[0m\n\u001b[1;32m    968\u001b[0m \u001b[38;5;28mself\u001b[39m\u001b[38;5;241m.\u001b[39munconfined \u001b[38;5;241m=\u001b[39m unconfined\n\u001b[1;32m    969\u001b[0m \u001b[38;5;28mself\u001b[39m\u001b[38;5;241m.\u001b[39malt \u001b[38;5;241m=\u001b[39m alt\n\u001b[0;32m--> 970\u001b[0m \u001b[38;5;28msuper\u001b[39m(Image, \u001b[38;5;28mself\u001b[39m)\u001b[38;5;241m.\u001b[39m\u001b[38;5;21m__init__\u001b[39m(data\u001b[38;5;241m=\u001b[39mdata, url\u001b[38;5;241m=\u001b[39murl, filename\u001b[38;5;241m=\u001b[39mfilename,\n\u001b[1;32m    971\u001b[0m         metadata\u001b[38;5;241m=\u001b[39mmetadata)\n\u001b[1;32m    973\u001b[0m \u001b[38;5;28;01mif\u001b[39;00m \u001b[38;5;28mself\u001b[39m\u001b[38;5;241m.\u001b[39mwidth \u001b[38;5;129;01mis\u001b[39;00m \u001b[38;5;28;01mNone\u001b[39;00m \u001b[38;5;129;01mand\u001b[39;00m \u001b[38;5;28mself\u001b[39m\u001b[38;5;241m.\u001b[39mmetadata\u001b[38;5;241m.\u001b[39mget(\u001b[38;5;124m'\u001b[39m\u001b[38;5;124mwidth\u001b[39m\u001b[38;5;124m'\u001b[39m, {}):\n\u001b[1;32m    974\u001b[0m     \u001b[38;5;28mself\u001b[39m\u001b[38;5;241m.\u001b[39mwidth \u001b[38;5;241m=\u001b[39m metadata[\u001b[38;5;124m'\u001b[39m\u001b[38;5;124mwidth\u001b[39m\u001b[38;5;124m'\u001b[39m]\n",
      "File \u001b[0;32m~/miniconda3/envs/GPU/lib/python3.12/site-packages/IPython/core/display.py:327\u001b[0m, in \u001b[0;36mDisplayObject.__init__\u001b[0;34m(self, data, url, filename, metadata)\u001b[0m\n\u001b[1;32m    324\u001b[0m \u001b[38;5;28;01melif\u001b[39;00m \u001b[38;5;28mself\u001b[39m\u001b[38;5;241m.\u001b[39mmetadata \u001b[38;5;129;01mis\u001b[39;00m \u001b[38;5;28;01mNone\u001b[39;00m:\n\u001b[1;32m    325\u001b[0m     \u001b[38;5;28mself\u001b[39m\u001b[38;5;241m.\u001b[39mmetadata \u001b[38;5;241m=\u001b[39m {}\n\u001b[0;32m--> 327\u001b[0m \u001b[38;5;28mself\u001b[39m\u001b[38;5;241m.\u001b[39mreload()\n\u001b[1;32m    328\u001b[0m \u001b[38;5;28mself\u001b[39m\u001b[38;5;241m.\u001b[39m_check_data()\n",
      "File \u001b[0;32m~/miniconda3/envs/GPU/lib/python3.12/site-packages/IPython/core/display.py:1005\u001b[0m, in \u001b[0;36mImage.reload\u001b[0;34m(self)\u001b[0m\n\u001b[1;32m   1003\u001b[0m \u001b[38;5;250m\u001b[39m\u001b[38;5;124;03m\"\"\"Reload the raw data from file or URL.\"\"\"\u001b[39;00m\n\u001b[1;32m   1004\u001b[0m \u001b[38;5;28;01mif\u001b[39;00m \u001b[38;5;28mself\u001b[39m\u001b[38;5;241m.\u001b[39membed:\n\u001b[0;32m-> 1005\u001b[0m     \u001b[38;5;28msuper\u001b[39m(Image,\u001b[38;5;28mself\u001b[39m)\u001b[38;5;241m.\u001b[39mreload()\n\u001b[1;32m   1006\u001b[0m     \u001b[38;5;28;01mif\u001b[39;00m \u001b[38;5;28mself\u001b[39m\u001b[38;5;241m.\u001b[39mretina:\n\u001b[1;32m   1007\u001b[0m         \u001b[38;5;28mself\u001b[39m\u001b[38;5;241m.\u001b[39m_retina_shape()\n",
      "File \u001b[0;32m~/miniconda3/envs/GPU/lib/python3.12/site-packages/IPython/core/display.py:353\u001b[0m, in \u001b[0;36mDisplayObject.reload\u001b[0;34m(self)\u001b[0m\n\u001b[1;32m    351\u001b[0m \u001b[38;5;28;01mif\u001b[39;00m \u001b[38;5;28mself\u001b[39m\u001b[38;5;241m.\u001b[39mfilename \u001b[38;5;129;01mis\u001b[39;00m \u001b[38;5;129;01mnot\u001b[39;00m \u001b[38;5;28;01mNone\u001b[39;00m:\n\u001b[1;32m    352\u001b[0m     encoding \u001b[38;5;241m=\u001b[39m \u001b[38;5;28;01mNone\u001b[39;00m \u001b[38;5;28;01mif\u001b[39;00m \u001b[38;5;124m\"\u001b[39m\u001b[38;5;124mb\u001b[39m\u001b[38;5;124m\"\u001b[39m \u001b[38;5;129;01min\u001b[39;00m \u001b[38;5;28mself\u001b[39m\u001b[38;5;241m.\u001b[39m_read_flags \u001b[38;5;28;01melse\u001b[39;00m \u001b[38;5;124m\"\u001b[39m\u001b[38;5;124mutf-8\u001b[39m\u001b[38;5;124m\"\u001b[39m\n\u001b[0;32m--> 353\u001b[0m     \u001b[38;5;28;01mwith\u001b[39;00m \u001b[38;5;28mopen\u001b[39m(\u001b[38;5;28mself\u001b[39m\u001b[38;5;241m.\u001b[39mfilename, \u001b[38;5;28mself\u001b[39m\u001b[38;5;241m.\u001b[39m_read_flags, encoding\u001b[38;5;241m=\u001b[39mencoding) \u001b[38;5;28;01mas\u001b[39;00m f:\n\u001b[1;32m    354\u001b[0m         \u001b[38;5;28mself\u001b[39m\u001b[38;5;241m.\u001b[39mdata \u001b[38;5;241m=\u001b[39m f\u001b[38;5;241m.\u001b[39mread()\n\u001b[1;32m    355\u001b[0m \u001b[38;5;28;01melif\u001b[39;00m \u001b[38;5;28mself\u001b[39m\u001b[38;5;241m.\u001b[39murl \u001b[38;5;129;01mis\u001b[39;00m \u001b[38;5;129;01mnot\u001b[39;00m \u001b[38;5;28;01mNone\u001b[39;00m:\n\u001b[1;32m    356\u001b[0m     \u001b[38;5;66;03m# Deferred import\u001b[39;00m\n",
      "\u001b[0;31mFileNotFoundError\u001b[0m: [Errno 2] No such file or directory: 'Figures/coupling_flow.png'"
     ]
    }
   ],
   "source": [
    "# Image(filename='Figures/coupling_flow.png',width=900, height=400)"
   ]
  },
  {
   "cell_type": "code",
   "execution_count": null,
   "id": "61241a68",
   "metadata": {
    "ExecuteTime": {
     "end_time": "2024-07-13T14:19:11.833523Z",
     "start_time": "2024-07-13T14:19:11.829251Z"
    },
    "id": "61241a68",
    "outputId": "2acd7905-96c6-4313-da80-7b9678a669ff"
   },
   "outputs": [],
   "source": [
    "# Image(filename='Figures/coupling_flow_inv.png',width=900, height=400)"
   ]
  },
  {
   "cell_type": "markdown",
   "id": "8a47420e",
   "metadata": {
    "id": "8a47420e"
   },
   "source": [
    "## Constructing a flow using the normflows package"
   ]
  },
  {
   "cell_type": "markdown",
   "id": "8629ff41",
   "metadata": {
    "id": "8629ff41"
   },
   "source": [
    "The following code blocks are embedded into the normflows library and here we go over the inner workings together. The Glow architecture looks as follows ([source](https://arxiv.org/pdf/1807.03039.pdf))."
   ]
  },
  {
   "cell_type": "code",
   "execution_count": null,
   "id": "10f62972",
   "metadata": {
    "ExecuteTime": {
     "end_time": "2024-07-13T14:19:11.842307Z",
     "start_time": "2024-07-13T14:19:11.834689Z"
    },
    "id": "10f62972",
    "outputId": "a0cdd3c2-faa6-47ba-85a1-0565e2cd9c6d"
   },
   "outputs": [],
   "source": [
    "# Image(filename='Figures/multi-scale.png',width=900, height=400)"
   ]
  },
  {
   "cell_type": "markdown",
   "id": "40b7d3dd",
   "metadata": {
    "id": "40b7d3dd"
   },
   "source": [
    "We start by constructing the coupling function. Do not run the below cells as they will give an error! All the below functions are directly from the normflows package and that's where we load them from later."
   ]
  },
  {
   "cell_type": "markdown",
   "id": "aa7b457f",
   "metadata": {
    "id": "aa7b457f"
   },
   "source": [
    "```\n",
    "class AffineCoupling(Flow):\n",
    "    \"\"\"\n",
    "    Affine Coupling layer as introduced RealNVP paper, see arXiv: 1605.08803\n",
    "    \"\"\"\n",
    "\n",
    "    def __init__(self, param_map, scale=True, scale_map=\"exp\"):\n",
    "        \"\"\"Constructor\n",
    "\n",
    "        Args:\n",
    "          param_map: Maps features to shift and scale parameter (if applicable)\n",
    "          scale: Flag whether scale shall be applied\n",
    "          scale_map: Map to be applied to the scale parameter, can be 'exp' as in RealNVP or 'sigmoid' as in Glow, 'sigmoid_inv' uses multiplicative sigmoid scale when sampling from the model\n",
    "        \"\"\"\n",
    "        super().__init__()\n",
    "        self.add_module(\"param_map\", param_map)\n",
    "        self.scale = scale\n",
    "        self.scale_map = scale_map\n",
    "\n",
    "    def forward(self, z):\n",
    "        \"\"\"\n",
    "        z is a list of z1 and z2; ```z = [z1, z2]```\n",
    "        z1 is left constant and affine map is applied to z2 with parameters depending\n",
    "        on z1\n",
    "\n",
    "        Args:\n",
    "          z\n",
    "        \"\"\"\n",
    "        z1, z2 = z\n",
    "        param = self.param_map(z1)\n",
    "        if self.scale:\n",
    "            shift = param[:, 0::2, ...]\n",
    "            scale_ = param[:, 1::2, ...]\n",
    "            if self.scale_map == \"exp\":\n",
    "                z2 = z2 * torch.exp(scale_) + shift\n",
    "                log_det = torch.sum(scale_, dim=list(range(1, shift.dim())))\n",
    "            elif self.scale_map == \"sigmoid\":\n",
    "                scale = torch.sigmoid(scale_ + 2)\n",
    "                z2 = z2 / scale + shift\n",
    "                log_det = -torch.sum(torch.log(scale), dim=list(range(1, shift.dim())))\n",
    "            elif self.scale_map == \"sigmoid_inv\":\n",
    "                scale = torch.sigmoid(scale_ + 2)\n",
    "                z2 = z2 * scale + shift\n",
    "                log_det = torch.sum(torch.log(scale), dim=list(range(1, shift.dim())))\n",
    "            else:\n",
    "                raise NotImplementedError(\"This scale map is not implemented.\")\n",
    "        else:\n",
    "            z2 = z2 + param\n",
    "            log_det = zero_log_det_like_z(z2)\n",
    "        return [z1, z2], log_det\n",
    "\n",
    "    def inverse(self, z):\n",
    "        z1, z2 = z\n",
    "        param = self.param_map(z1)\n",
    "        if self.scale:\n",
    "            shift = param[:, 0::2, ...]\n",
    "            scale_ = param[:, 1::2, ...]\n",
    "            if self.scale_map == \"exp\":\n",
    "                z2 = (z2 - shift) * torch.exp(-scale_)\n",
    "                log_det = -torch.sum(scale_, dim=list(range(1, shift.dim())))\n",
    "            elif self.scale_map == \"sigmoid\":\n",
    "                scale = torch.sigmoid(scale_ + 2)\n",
    "                z2 = (z2 - shift) * scale\n",
    "                log_det = torch.sum(torch.log(scale), dim=list(range(1, shift.dim())))\n",
    "            elif self.scale_map == \"sigmoid_inv\":\n",
    "                scale = torch.sigmoid(scale_ + 2)\n",
    "                z2 = (z2 - shift) / scale\n",
    "                log_det = -torch.sum(torch.log(scale), dim=list(range(1, shift.dim())))\n",
    "            else:\n",
    "                raise NotImplementedError(\"This scale map is not implemented.\")\n",
    "        else:\n",
    "            z2 = z2 - param\n",
    "            log_det = zero_log_det_like_z(z2)\n",
    "        return [z1, z2], log_det"
   ]
  },
  {
   "cell_type": "markdown",
   "id": "c0db7976",
   "metadata": {
    "id": "c0db7976"
   },
   "source": [
    "Next, we include the splitting and merging operations into the network that define the multi-scale architecture."
   ]
  },
  {
   "cell_type": "markdown",
   "id": "6e62771c",
   "metadata": {
    "id": "6e62771c"
   },
   "source": [
    "```\n",
    "class AffineCouplingBlock(Flow):\n",
    "    \"\"\"\n",
    "    Affine Coupling layer including split and merge operation\n",
    "    \"\"\"\n",
    "\n",
    "    def __init__(self, param_map, scale=True, scale_map=\"exp\", split_mode=\"channel\"):\n",
    "        \"\"\"Constructor\n",
    "\n",
    "        Args:\n",
    "          param_map: Maps features to shift and scale parameter (if applicable)\n",
    "          scale: Flag whether scale shall be applied\n",
    "          scale_map: Map to be applied to the scale parameter, can be 'exp' as in RealNVP or 'sigmoid' as in Glow\n",
    "          split_mode: Splitting mode, for possible values see Split class\n",
    "        \"\"\"\n",
    "        super().__init__()\n",
    "        self.flows = nn.ModuleList([])\n",
    "        # Split layer\n",
    "        self.flows += [Split(split_mode)]\n",
    "        # Affine coupling layer\n",
    "        self.flows += [AffineCoupling(param_map, scale, scale_map)]\n",
    "        # Merge layer\n",
    "        self.flows += [Merge(split_mode)]\n",
    "\n",
    "    def forward(self, z):\n",
    "        log_det_tot = torch.zeros(z.shape[0], dtype=z.dtype, device=z.device)\n",
    "        for flow in self.flows:\n",
    "            z, log_det = flow(z)\n",
    "            log_det_tot += log_det\n",
    "        return z, log_det_tot\n",
    "\n",
    "    def inverse(self, z):\n",
    "        log_det_tot = torch.zeros(z.shape[0], dtype=z.dtype, device=z.device)\n",
    "        for i in range(len(self.flows) - 1, -1, -1):\n",
    "            z, log_det = self.flows[i].inverse(z)\n",
    "            log_det_tot += log_det\n",
    "        return z, log_det_tot"
   ]
  },
  {
   "cell_type": "markdown",
   "id": "7a4ed149",
   "metadata": {
    "id": "7a4ed149"
   },
   "source": [
    "And now we are ready to build one Glow block."
   ]
  },
  {
   "cell_type": "markdown",
   "id": "a858d0bf",
   "metadata": {
    "id": "a858d0bf"
   },
   "source": [
    "```\n",
    "class GlowBlock(Flow):\n",
    "    \"\"\"Glow: Generative Flow with Invertible 1×1 Convolutions, [arXiv: 1807.03039](https://arxiv.org/abs/1807.03039)\n",
    "\n",
    "    One Block of the Glow model, comprised of\n",
    "\n",
    "    - MaskedAffineFlow (affine coupling layer)\n",
    "    - Invertible1x1Conv (dropped if there is only one channel)\n",
    "    - ActNorm (first batch used for initialization)\n",
    "    \"\"\"\n",
    "\n",
    "    def __init__(\n",
    "        self,\n",
    "        channels,\n",
    "        hidden_channels,\n",
    "        scale=True,\n",
    "        scale_map=\"sigmoid\",\n",
    "        split_mode=\"channel\",\n",
    "        leaky=0.0,\n",
    "        init_zeros=True,\n",
    "        use_lu=True,\n",
    "        net_actnorm=False,\n",
    "    ):\n",
    "        \"\"\"Constructor\n",
    "\n",
    "        Args:\n",
    "          channels: Number of channels of the data\n",
    "          hidden_channels: number of channels in the hidden layer of the ConvNet\n",
    "          scale: Flag, whether to include scale in affine coupling layer\n",
    "          scale_map: Map to be applied to the scale parameter, can be 'exp' as in RealNVP or 'sigmoid' as in Glow\n",
    "          split_mode: Splitting mode, for possible values see Split class\n",
    "          leaky: Leaky parameter of LeakyReLUs of ConvNet2d\n",
    "          init_zeros: Flag whether to initialize last conv layer with zeros\n",
    "          use_lu: Flag whether to parametrize weights through the LU decomposition in invertible 1x1 convolution layers\n",
    "          logscale_factor: Factor which can be used to control the scale of the log scale factor, see [source](https://github.com/openai/glow)\n",
    "        \"\"\"\n",
    "        super().__init__()\n",
    "        self.flows = nn.ModuleList([])\n",
    "        # Coupling layer\n",
    "        kernel_size = (3, 1, 3)\n",
    "        num_param = 2 if scale else 1\n",
    "        if \"channel\" == split_mode:\n",
    "            channels_ = ((channels + 1) // 2,) + 2 * (hidden_channels,)\n",
    "            channels_ += (num_param * (channels // 2),)\n",
    "        elif \"channel_inv\" == split_mode:\n",
    "            channels_ = (channels // 2,) + 2 * (hidden_channels,)\n",
    "            channels_ += (num_param * ((channels + 1) // 2),)\n",
    "        elif \"checkerboard\" in split_mode:\n",
    "            channels_ = (channels,) + 2 * (hidden_channels,)\n",
    "            channels_ += (num_param * channels,)\n",
    "        else:\n",
    "            raise NotImplementedError(\"Mode \" + split_mode + \" is not implemented.\")\n",
    "        param_map = nets.ConvNet2d(\n",
    "            channels_, kernel_size, leaky, init_zeros, actnorm=net_actnorm\n",
    "        )\n",
    "        self.flows += [AffineCouplingBlock(param_map, scale, scale_map, split_mode)]\n",
    "        # Invertible 1x1 convolution\n",
    "        if channels > 1:\n",
    "            self.flows += [Invertible1x1Conv(channels, use_lu)]\n",
    "        # Activation normalization\n",
    "        self.flows += [ActNorm((channels,) + (1, 1))]\n",
    "\n",
    "    def forward(self, z):\n",
    "        log_det_tot = torch.zeros(z.shape[0], dtype=z.dtype, device=z.device)\n",
    "        for flow in self.flows:\n",
    "            z, log_det = flow(z)\n",
    "            log_det_tot += log_det\n",
    "        return z, log_det_tot\n",
    "\n",
    "    def inverse(self, z):\n",
    "        log_det_tot = torch.zeros(z.shape[0], dtype=z.dtype, device=z.device)\n",
    "        for i in range(len(self.flows) - 1, -1, -1):\n",
    "            z, log_det = self.flows[i].inverse(z)\n",
    "            log_det_tot += log_det\n",
    "        return z, log_det_tot"
   ]
  },
  {
   "cell_type": "markdown",
   "id": "3e1de4ea",
   "metadata": {
    "id": "3e1de4ea"
   },
   "source": [
    "Finally, we are ready to construct the Glow architecture!"
   ]
  },
  {
   "cell_type": "code",
   "execution_count": 6,
   "id": "ba853ea5",
   "metadata": {
    "ExecuteTime": {
     "end_time": "2024-07-13T14:19:12.022455Z",
     "start_time": "2024-07-13T14:19:11.843491Z"
    },
    "id": "ba853ea5",
    "outputId": "eaec8522-5b1c-4383-d2a9-1477fb4a0ccf"
   },
   "outputs": [
    {
     "name": "stderr",
     "output_type": "stream",
     "text": [
      "/home/sarrajos/miniconda3/envs/GPU/lib/python3.12/site-packages/torch/_tensor.py:795: UserWarning: torch.lu is deprecated in favor of torch.linalg.lu_factor / torch.linalg.lu_factor_ex and will be removed in a future PyTorch release.\n",
      "LU, pivots = torch.lu(A, compute_pivots)\n",
      "should be replaced with\n",
      "LU, pivots = torch.linalg.lu_factor(A, compute_pivots)\n",
      "and\n",
      "LU, pivots, info = torch.lu(A, compute_pivots, get_infos=True)\n",
      "should be replaced with\n",
      "LU, pivots, info = torch.linalg.lu_factor_ex(A, compute_pivots) (Triggered internally at /opt/conda/conda-bld/pytorch_1716905971214/work/aten/src/ATen/native/BatchLinearAlgebra.cpp:1984.)\n",
      "  LU, pivots, infos = torch._lu_with_info(\n"
     ]
    }
   ],
   "source": [
    "img_size = 32\n",
    "mnist_channels = 1\n",
    "\n",
    "# Define flows\n",
    "L = 3 # Do not change as it might break the model.\n",
    "K = 16 # Do not change as it might break the model.\n",
    "torch.manual_seed(0)\n",
    "\n",
    "input_shape = (mnist_channels, img_size, img_size)\n",
    "n_dims = np.prod(input_shape)\n",
    "channels = mnist_channels\n",
    "hidden_channels = 256\n",
    "split_mode = 'channel'\n",
    "scale = True\n",
    "num_classes = 10\n",
    "\n",
    "# Set up flows, distributions and merge operations\n",
    "q0 = []\n",
    "merges = []\n",
    "flows = []\n",
    "for i in range(L):\n",
    "    flows_ = []\n",
    "    for j in range(K):\n",
    "        flows_ += [nf.flows.GlowBlock(channels * 2 ** (L + 1 - i), hidden_channels,\n",
    "                                     split_mode=split_mode, scale=scale)] # TODO: complete the block\n",
    "    flows_ += [nf.flows.Squeeze()] #TODO: complete the missing block\n",
    "    flows += [flows_]\n",
    "    if i > 0:\n",
    "        merges += [nf.flows.Merge()] #TODO: Complete the missing block\n",
    "        latent_shape = (input_shape[0] * 2 ** (L - i), input_shape[1] // 2 ** (L - i),\n",
    "                        input_shape[2] // 2 ** (L - i))\n",
    "    else:\n",
    "        latent_shape = (input_shape[0] * 2 ** (L + 1), input_shape[1] // 2 ** L,\n",
    "                        input_shape[2] // 2 ** L)\n",
    "    q0 += [nf.distributions.ClassCondDiagGaussian(latent_shape, num_classes)]\n",
    "\n",
    "# Construct flow model with the multiscale architecture\n",
    "model = nf.MultiscaleFlow(q0=q0, merges=merges, flows=flows) # TODO: complete the missing parameters\n",
    "model = model.to(device)"
   ]
  },
  {
   "cell_type": "code",
   "execution_count": 7,
   "id": "675ede1ae34d95d7",
   "metadata": {
    "ExecuteTime": {
     "end_time": "2024-07-13T14:19:12.025659Z",
     "start_time": "2024-07-13T14:19:12.023349Z"
    },
    "id": "675ede1ae34d95d7",
    "outputId": "f0cfd92e-5bd7-49eb-d248-627b5b0eb7f5"
   },
   "outputs": [
    {
     "name": "stdout",
     "output_type": "stream",
     "text": [
      "Model was not found.\n"
     ]
    }
   ],
   "source": [
    "try:\n",
    "    # Load the model state_dict\n",
    "    model.load_state_dict(torch.load('model.pth'))\n",
    "    print(\"Model loaded\")\n",
    "except FileNotFoundError:\n",
    "    print('Model was not found.')"
   ]
  },
  {
   "cell_type": "markdown",
   "id": "320d33ae",
   "metadata": {
    "id": "320d33ae"
   },
   "source": [
    "Let's load the MNIST dataset"
   ]
  },
  {
   "cell_type": "code",
   "execution_count": 8,
   "id": "b2fca83c",
   "metadata": {
    "ExecuteTime": {
     "end_time": "2024-07-13T14:19:12.058837Z",
     "start_time": "2024-07-13T14:19:12.026492Z"
    },
    "id": "b2fca83c"
   },
   "outputs": [],
   "source": [
    "img_size = 32\n",
    "batch_size = 128 # Change if you have small VRAM\n",
    "\n",
    "# Create a directory to store the MNIST dataset.\n",
    "# 'exist_ok=True' makes sure the command does not fail if the directory already exists.\n",
    "os.makedirs(\"../mnist/data\", exist_ok=True)\n",
    "\n",
    "# Create a DataLoader to handle batching of the MNIST dataset.\n",
    "dataloader = torch.utils.data.DataLoader(\n",
    "\n",
    "    # Load the MNIST dataset from PyTorch's built-in datasets.\n",
    "    datasets.MNIST(\n",
    "        # Set the directory where the data is stored or where it will be downloaded.\n",
    "        \"../mnist/data\",\n",
    "        # Use the training portion of the dataset.\n",
    "        train=True,\n",
    "        # Download the dataset if it is not already in the specified directory.\n",
    "        download=True,\n",
    "        # Apply several transformations to the images in the dataset:\n",
    "        transform=transforms.Compose(\n",
    "            [\n",
    "                # Resize images to the size specified by the 'img_size' variable.\n",
    "                transforms.Resize(img_size),\n",
    "                # Convert images from PIL format to PyTorch tensors.\n",
    "                transforms.ToTensor(),\n",
    "                # Normalize tensors so that the pixel intensity values have a mean of 0.5 and a standard deviation of 0.5.\n",
    "                transforms.Normalize([0.5], [0.5])\n",
    "            ]\n",
    "        ),\n",
    "    ),\n",
    "\n",
    "    # Set the number of samples per batch to load.\n",
    "    batch_size=batch_size,\n",
    "    # Enable shuffling to feed data points in a random manner.\n",
    "    shuffle=True,\n",
    ")\n",
    "\n",
    "train_iter = iter(dataloader)"
   ]
  },
  {
   "cell_type": "code",
   "execution_count": 9,
   "id": "a2e18abe",
   "metadata": {
    "ExecuteTime": {
     "end_time": "2024-07-13T14:19:14.253134Z",
     "start_time": "2024-07-13T14:19:12.060258Z"
    },
    "id": "a2e18abe",
    "outputId": "530f61c9-8719-4f3f-ede3-a1905a356067"
   },
   "outputs": [
    {
     "data": {
      "image/png": "[encoded data removed]",
      "text/plain": [
       "<Figure size 2000x2000 with 36 Axes>"
      ]
     },
     "metadata": {},
     "output_type": "display_data"
    }
   ],
   "source": [
    "examples = enumerate(dataloader)\n",
    "batch_idx, (example_data, example_targets) = next(examples)\n",
    "\n",
    "# There is some annoying warning regarding clipping because of the scaling of the data and this ignores is\n",
    "logger = logging.getLogger()\n",
    "old_level = logger.level\n",
    "logger.setLevel(100)\n",
    "\n",
    "fig = plt.figure(figsize=(20,20))\n",
    "for i in range(36):\n",
    "    plt.subplot(6,6,i+1)\n",
    "    plt.tight_layout()\n",
    "    plt.imshow((example_data[i].permute(1, 2, 0)), interpolation='none')\n",
    "    plt.title(\"Ground Truth: {}\".format(example_targets[i]), fontsize=16)\n",
    "    plt.xticks([])\n",
    "    plt.yticks([])\n",
    "plt.tight_layout();\n",
    "\n",
    "logger.setLevel(old_level)"
   ]
  },
  {
   "cell_type": "code",
   "execution_count": null,
   "id": "f0ffe8f9",
   "metadata": {
    "ExecuteTime": {
     "end_time": "2024-07-13T16:41:57.008688Z",
     "start_time": "2024-07-13T14:19:14.254041Z"
    },
    "id": "f0ffe8f9",
    "outputId": "a9a5f302-ed97-4118-8c39-8ef0fa8fb88d"
   },
   "outputs": [
    {
     "name": "stderr",
     "output_type": "stream",
     "text": [
      "  2%|█▌                                                                               | 4/200 [05:31<4:30:43, 82.87s/it]"
     ]
    }
   ],
   "source": [
    "from torch.optim import Adam\n",
    "epochs = 200\n",
    "\n",
    "loss_hist = np.array([])\n",
    "optimizer = Adam(model.parameters(), lr=1e-3, weight_decay=1e-5) #TODO: Complete the optimizer(The paper used Adamax(model.parameters(), lr=1e-3, weight_decay=1e-5))\n",
    "\n",
    "for i in tqdm(range(epochs)):\n",
    "    loss = 0\n",
    "    for x, y in dataloader:\n",
    "        x = x.to(device)\n",
    "        y = y.to(device)\n",
    "        optimizer.zero_grad()\n",
    "        ls = model.forward_kld(x, y) # TODO: Complete the missing parameters\n",
    "        if ~(torch.isnan(ls) | torch.isinf(ls)):\n",
    "            #TODO: Complete this,\n",
    "            ls.backward()\n",
    "            optimizer.step()\n",
    "        loss += ls.item()\n",
    "\n",
    "    loss_hist = np.append(loss_hist, loss)"
   ]
  },
  {
   "cell_type": "code",
   "execution_count": null,
   "id": "39dd760f53fa6909",
   "metadata": {
    "ExecuteTime": {
     "end_time": "2024-07-13T16:41:57.173954Z",
     "start_time": "2024-07-13T16:41:57.010591Z"
    },
    "id": "39dd760f53fa6909"
   },
   "outputs": [],
   "source": [
    "# Save the model state_dict\n",
    "torch.save(model.state_dict(), 'model.pth')"
   ]
  },
  {
   "cell_type": "code",
   "execution_count": null,
   "id": "f0241667",
   "metadata": {
    "ExecuteTime": {
     "end_time": "2024-07-13T16:41:57.685700Z",
     "start_time": "2024-07-13T16:41:57.174967Z"
    },
    "id": "f0241667",
    "outputId": "89e813d4-f338-4ac5-a077-41e5f8df728c"
   },
   "outputs": [],
   "source": [
    "# Model samples\n",
    "num_sample = 10\n",
    "\n",
    "with torch.no_grad():\n",
    "    y = torch.arange(num_classes).repeat(num_sample).to(device)\n",
    "    x, _ = model.sample(y=y)\n",
    "    x_ = torch.clamp(x, 0, 1)\n",
    "    plt.figure(figsize=(20, 20))\n",
    "    plt.imshow(np.transpose(tv.utils.make_grid(x_, nrow=num_classes).cpu().numpy(), (1, 2, 0)))\n",
    "    plt.show()"
   ]
  },
  {
   "cell_type": "code",
   "execution_count": null,
   "id": "e751570f",
   "metadata": {
    "ExecuteTime": {
     "end_time": "2024-07-13T16:42:10.784695Z",
     "start_time": "2024-07-13T16:41:57.686732Z"
    },
    "id": "e751570f",
    "outputId": "c8fbad26-ab8a-4470-c3ea-b32ffb45b135"
   },
   "outputs": [],
   "source": [
    "# Get bits per dim\n",
    "n = 0\n",
    "bpd_cum = 0\n",
    "with torch.no_grad():\n",
    "    for x, y in iter(dataloader):\n",
    "        nll = model(x.to(device), y.to(device))\n",
    "        nll_np = nll.cpu().numpy()\n",
    "        bpd_cum += np.nansum(nll_np / np.log(2) / n_dims + 8)\n",
    "        n += len(x) - np.sum(np.isnan(nll_np))\n",
    "\n",
    "    print('Bits per dim: ', bpd_cum / n)"
   ]
  },
  {
   "cell_type": "code",
   "execution_count": null,
   "id": "013aa767",
   "metadata": {
    "ExecuteTime": {
     "end_time": "2024-07-13T16:42:10.846746Z",
     "start_time": "2024-07-13T16:42:10.785773Z"
    },
    "id": "013aa767",
    "outputId": "e16cf1a7-1192-4f0e-8987-4d7733363ead"
   },
   "outputs": [],
   "source": [
    "plt.plot(loss_hist)"
   ]
  },
  {
   "cell_type": "code",
   "execution_count": null,
   "id": "e38246e7",
   "metadata": {
    "ExecuteTime": {
     "end_time": "2024-07-13T16:42:10.849384Z",
     "start_time": "2024-07-13T16:42:10.847775Z"
    },
    "id": "e38246e7"
   },
   "outputs": [],
   "source": []
  }
 ],
 "metadata": {
  "colab": {
   "provenance": []
  },
  "kernelspec": {
   "display_name": "Python 3 (ipykernel)",
   "language": "python",
   "name": "python3"
  },
  "language_info": {
   "codemirror_mode": {
    "name": "ipython",
    "version": 3
   },
   "file_extension": ".py",
   "mimetype": "text/x-python",
   "name": "python",
   "nbconvert_exporter": "python",
   "pygments_lexer": "ipython3",
   "version": "3.12.4"
  },
  "vscode": {
   "interpreter": {
    "hash": "b6d0d2ed3d7e3557c99796894464df1edd67dca069ce556cef85bb07d8d2ea6f"
   }
  }
 },
 "nbformat": 4,
 "nbformat_minor": 5
}
